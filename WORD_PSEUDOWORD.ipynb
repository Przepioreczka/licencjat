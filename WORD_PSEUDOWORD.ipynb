{
 "cells": [
  {
   "cell_type": "markdown",
   "metadata": {},
   "source": [
    "### Kod do chowania cellek"
   ]
  },
  {
   "cell_type": "code",
   "execution_count": 1,
   "metadata": {},
   "outputs": [
    {
     "data": {
      "text/html": [
       "\n",
       "        <script>\n",
       "            function code_toggle_12554260301481575838() {\n",
       "                $('div.cell.code_cell.rendered.selected').find('div.input').toggle();\n",
       "            }\n",
       "\n",
       "            \n",
       "        </script>\n",
       "\n",
       "        <a href=\"javascript:code_toggle_12554260301481575838()\">Toggle show/hide</a>\n",
       "    "
      ],
      "text/plain": [
       "<IPython.core.display.HTML object>"
      ]
     },
     "execution_count": 1,
     "metadata": {},
     "output_type": "execute_result"
    }
   ],
   "source": [
    "from IPython.display import HTML\n",
    "import random\n",
    "\n",
    "def hide_toggle(for_next=False):\n",
    "    this_cell = \"\"\"$('div.cell.code_cell.rendered.selected')\"\"\"\n",
    "    next_cell = this_cell + '.next()'\n",
    "\n",
    "    toggle_text = 'Toggle show/hide'  # text shown on toggle link\n",
    "    target_cell = this_cell  # target cell to control with toggle\n",
    "    js_hide_current = ''  # bit of JS to permanently hide code in current cell (only when toggling next cell)\n",
    "\n",
    "    if for_next:\n",
    "        target_cell = next_cell\n",
    "        toggle_text += ' next cell'\n",
    "        js_hide_current = this_cell + '.find(\"div.input\").hide();'\n",
    "\n",
    "    js_f_name = 'code_toggle_{}'.format(str(random.randint(1,2**64)))\n",
    "\n",
    "    html = \"\"\"\n",
    "        <script>\n",
    "            function {f_name}() {{\n",
    "                {cell_selector}.find('div.input').toggle();\n",
    "            }}\n",
    "\n",
    "            {js_hide_current}\n",
    "        </script>\n",
    "\n",
    "        <a href=\"javascript:{f_name}()\">{toggle_text}</a>\n",
    "    \"\"\".format(\n",
    "        f_name=js_f_name,\n",
    "        cell_selector=target_cell,\n",
    "        js_hide_current=js_hide_current, \n",
    "        toggle_text=toggle_text\n",
    "    )\n",
    "\n",
    "    return HTML(html)\n",
    "\n",
    "\n",
    "hide_toggle()"
   ]
  },
  {
   "cell_type": "markdown",
   "metadata": {},
   "source": [
    "### Kod do czytania danych"
   ]
  },
  {
   "cell_type": "code",
   "execution_count": 2,
   "metadata": {
    "scrolled": true
   },
   "outputs": [
    {
     "data": {
      "text/html": [
       "\n",
       "        <script>\n",
       "            function code_toggle_2099159826128599110() {\n",
       "                $('div.cell.code_cell.rendered.selected').find('div.input').toggle();\n",
       "            }\n",
       "\n",
       "            \n",
       "        </script>\n",
       "\n",
       "        <a href=\"javascript:code_toggle_2099159826128599110()\">Toggle show/hide</a>\n",
       "    "
      ],
      "text/plain": [
       "<IPython.core.display.HTML object>"
      ]
     },
     "execution_count": 2,
     "metadata": {},
     "output_type": "execute_result"
    }
   ],
   "source": [
    "'''Normowanie w obrębie pacjenta.'''\n",
    "# X_truewords = np.empty((0,19,306))\n",
    "# X_pseudowords = np.empty((0,19,306))\n",
    "# for filename in os.listdir('.'):\n",
    "#     if filename.endswith(\"exp1.set\"):\n",
    "#         f = mne.io.read_epochs_eeglab(filename)\n",
    "#         syg = f.get_data()\n",
    "#         syg = (syg - np.mean(syg))/np.std(syg)\n",
    "#         X_truewords = np.concatenate((X_truewords, syg))\n",
    "#     if filename.endswith(\"exp2.set\"):\n",
    "#         f = mne.io.read_epochs_eeglab(filename)\n",
    "#         syg = f.get_data()\n",
    "#         syg = (syg - np.mean(syg))/np.std(syg)\n",
    "#         X_pseudowords = np.concatenate((X_pseudowords, syg))\n",
    "\n",
    "hide_toggle()"
   ]
  },
  {
   "cell_type": "code",
   "execution_count": 2,
   "metadata": {
    "scrolled": false
   },
   "outputs": [
    {
     "data": {
      "text/html": [
       "\n",
       "        <script>\n",
       "            function code_toggle_6595911221680103860() {\n",
       "                $('div.cell.code_cell.rendered.selected').find('div.input').toggle();\n",
       "            }\n",
       "\n",
       "            \n",
       "        </script>\n",
       "\n",
       "        <a href=\"javascript:code_toggle_6595911221680103860()\">Toggle show/hide</a>\n",
       "    "
      ],
      "text/plain": [
       "<IPython.core.display.HTML object>"
      ]
     },
     "execution_count": 2,
     "metadata": {},
     "output_type": "execute_result"
    }
   ],
   "source": [
    "\"\"\"UŚREDNIANIE W OBRĘBIE PACJENTÓW\"\"\"\n",
    "# N=3\n",
    "# X_truewords = np.empty((0,19,306))\n",
    "# X_pseudowords = np.empty((0,19,306))\n",
    "# for filename in os.listdir('.'):\n",
    "#     if filename.endswith(\"exp1.set\"):\n",
    "#         f = mne.io.read_epochs_eeglab(filename)\n",
    "#         syg = f.get_data()\n",
    "#         X_mean=np.zeros((syg.shape[0]//N+1,len(CH_N),syg.shape[-1]))\n",
    "#         for i in range(0,syg.shape[0],N):\n",
    "#             X_mean[i//N,:,:] = np.mean(syg[i:i+N,:,:],axis=0)\n",
    "#         X_mean[-1,:,:] = np.mean(syg[syg.shape[0]//N+1:,:,:],axis=0)\n",
    "#         X_truewords = np.concatenate((X_truewords, X_mean))\n",
    "#     if filename.endswith(\"exp2.set\"):\n",
    "#         f = mne.io.read_epochs_eeglab(filename)\n",
    "#         syg = f.get_data()\n",
    "#         X_mean=np.zeros((syg.shape[0]//N+1,len(CH_N),syg.shape[-1]))\n",
    "#         for i in range(0,syg.shape[0],N):\n",
    "#             X_mean[i//N,:,:] = np.mean(syg[i:i+N,:,:],axis=0)\n",
    "#         X_mean[-1,:,:] = np.mean(syg[syg.shape[0]//N+1:,:,:],axis=0)\n",
    "#         X_pseudowords = np.concatenate((X_pseudowords, X_mean))\n",
    "\n",
    "        \n",
    "hide_toggle()"
   ]
  },
  {
   "cell_type": "code",
   "execution_count": 59,
   "metadata": {},
   "outputs": [
    {
     "data": {
      "text/html": [
       "\n",
       "        <script>\n",
       "            function code_toggle_14580888621814410498() {\n",
       "                $('div.cell.code_cell.rendered.selected').find('div.input').toggle();\n",
       "            }\n",
       "\n",
       "            \n",
       "        </script>\n",
       "\n",
       "        <a href=\"javascript:code_toggle_14580888621814410498()\">Toggle show/hide</a>\n",
       "    "
      ],
      "text/plain": [
       "<IPython.core.display.HTML object>"
      ]
     },
     "execution_count": 59,
     "metadata": {},
     "output_type": "execute_result"
    }
   ],
   "source": [
    "\"\"\"NORMALIZOWANIE W OBRĘBIE PACJENTÓW I KANAŁÓW\"\"\"\n",
    "\n",
    "# X_truewords = np.empty((0,19,306))\n",
    "# X_pseudowords = np.empty((0,19,306))\n",
    "# for filename in os.listdir('.'):\n",
    "#     if filename.endswith(\"exp1.set\"):\n",
    "#         f = mne.io.read_epochs_eeglab(filename)\n",
    "#         syg = f.get_data()\n",
    "#         for ch in range(19):\n",
    "#             syg[:,ch,:] = (syg[:,ch,:] - np.mean(syg[:,ch,:]))/np.std(syg[:,ch,:])\n",
    "#         X_truewords = np.concatenate((X_truewords, syg))\n",
    "#     if filename.endswith(\"exp2.set\"):\n",
    "#         f = mne.io.read_epochs_eeglab(filename)\n",
    "#         syg = f.get_data()\n",
    "#         for ch in range(19):\n",
    "#             syg[:,ch,:] = (syg[:,ch,:] - np.mean(syg[:,ch,:]))/np.std(syg[:,ch,:])\n",
    "#         X_pseudowords = np.concatenate((X_pseudowords, syg))\n",
    "\n",
    "        \n",
    "hide_toggle()"
   ]
  },
  {
   "cell_type": "code",
   "execution_count": 58,
   "metadata": {},
   "outputs": [
    {
     "data": {
      "text/html": [
       "\n",
       "        <script>\n",
       "            function code_toggle_260910814654038224() {\n",
       "                $('div.cell.code_cell.rendered.selected').find('div.input').toggle();\n",
       "            }\n",
       "\n",
       "            \n",
       "        </script>\n",
       "\n",
       "        <a href=\"javascript:code_toggle_260910814654038224()\">Toggle show/hide</a>\n",
       "    "
      ],
      "text/plain": [
       "<IPython.core.display.HTML object>"
      ]
     },
     "execution_count": 58,
     "metadata": {},
     "output_type": "execute_result"
    }
   ],
   "source": [
    "# y_truewords = np.ones(X_truewords.shape[0])\n",
    "# y_pseudowords = np.zeros(X_pseudowords.shape[0])\n",
    "# X = np.concatenate((X_pseudowords, X_truewords))\n",
    "# y = np.concatenate((y_pseudowords, y_truewords))\n",
    "# np.save('XchNorm', X)\n",
    "# np.save('y', y)\n",
    "\n",
    "hide_toggle()"
   ]
  },
  {
   "cell_type": "code",
   "execution_count": 45,
   "metadata": {
    "scrolled": true
   },
   "outputs": [
    {
     "data": {
      "text/html": [
       "\n",
       "        <script>\n",
       "            function code_toggle_7782178046983696771() {\n",
       "                $('div.cell.code_cell.rendered.selected').find('div.input').toggle();\n",
       "            }\n",
       "\n",
       "            \n",
       "        </script>\n",
       "\n",
       "        <a href=\"javascript:code_toggle_7782178046983696771()\">Toggle show/hide</a>\n",
       "    "
      ],
      "text/plain": [
       "<IPython.core.display.HTML object>"
      ]
     },
     "execution_count": 45,
     "metadata": {},
     "output_type": "execute_result"
    }
   ],
   "source": [
    "y_truewords = np.ones(X_truewords.shape[0])\n",
    "y_pseudowords = np.zeros(X_pseudowords.shape[0])\n",
    "X3 = np.concatenate((X_pseudowords, X_truewords))\n",
    "y3 = np.concatenate((y_pseudowords, y_truewords))\n",
    "np.save('X3', X3)\n",
    "np.save('y3', y3)\n",
    "\n",
    "\n",
    "hide_toggle()"
   ]
  },
  {
   "cell_type": "markdown",
   "metadata": {},
   "source": [
    "### Importy"
   ]
  },
  {
   "cell_type": "code",
   "execution_count": 2,
   "metadata": {
    "scrolled": true
   },
   "outputs": [
    {
     "name": "stderr",
     "output_type": "stream",
     "text": [
      "Using TensorFlow backend.\n"
     ]
    },
    {
     "data": {
      "text/html": [
       "\n",
       "        <script>\n",
       "            function code_toggle_16461832921005745548() {\n",
       "                $('div.cell.code_cell.rendered.selected').find('div.input').toggle();\n",
       "            }\n",
       "\n",
       "            \n",
       "        </script>\n",
       "\n",
       "        <a href=\"javascript:code_toggle_16461832921005745548()\">Toggle show/hide</a>\n",
       "    "
      ],
      "text/plain": [
       "<IPython.core.display.HTML object>"
      ]
     },
     "execution_count": 2,
     "metadata": {},
     "output_type": "execute_result"
    }
   ],
   "source": [
    "import os\n",
    "import numpy as np\n",
    "from keras.datasets import imdb\n",
    "from keras.models import Sequential\n",
    "from keras.layers import Dense, Flatten, Input\n",
    "from keras.layers import LSTM, Conv2D,Conv2DTranspose\n",
    "from keras.layers import Activation, Conv3D, Conv3DTranspose\n",
    "from keras.layers import Dropout, MaxPooling2D, MaxPooling3D\n",
    "from keras.layers.embeddings import Embedding\n",
    "from keras.preprocessing import sequence\n",
    "from keras.optimizers import RMSprop\n",
    "from keras.utils import plot_model\n",
    "from keras.utils import to_categorical\n",
    "import tensorflow\n",
    "import mne\n",
    "import numpy as np\n",
    "import matplotlib.pyplot as plt\n",
    "import matplotlib\n",
    "import os\n",
    "import scipy.signal as ss\n",
    "from sklearn import preprocessing\n",
    "import keras\n",
    "from sklearn.model_selection import train_test_split\n",
    "from keras.layers import ConvLSTM2D, BatchNormalization, SpatialDropout3D\n",
    "\n",
    "\n",
    "hide_toggle()"
   ]
  },
  {
   "cell_type": "markdown",
   "metadata": {},
   "source": [
    "# Jakaś f-cja do base-lineu"
   ]
  },
  {
   "cell_type": "code",
   "execution_count": 3,
   "metadata": {},
   "outputs": [
    {
     "data": {
      "text/html": [
       "\n",
       "        <script>\n",
       "            function code_toggle_13501500717922987375() {\n",
       "                $('div.cell.code_cell.rendered.selected').find('div.input').toggle();\n",
       "            }\n",
       "\n",
       "            \n",
       "        </script>\n",
       "\n",
       "        <a href=\"javascript:code_toggle_13501500717922987375()\">Toggle show/hide</a>\n",
       "    "
      ],
      "text/plain": [
       "<IPython.core.display.HTML object>"
      ]
     },
     "execution_count": 3,
     "metadata": {},
     "output_type": "execute_result"
    }
   ],
   "source": [
    "from scipy import sparse\n",
    "from scipy.sparse.linalg import spsolve\n",
    "\n",
    "def baseline_als(y, lam, p, niter=10):\n",
    "    L = len(y)\n",
    "    D = sparse.diags([1,-2,1],[0,-1,-2], shape=(L,L-2))\n",
    "    w = np.ones(L)\n",
    "    for i in range(niter):\n",
    "        W = sparse.spdiags(w, 0, L, L)\n",
    "        Z = W + lam * D.dot(D.transpose())\n",
    "        z = spsolve(Z, w*y)\n",
    "        w = p * (y > z) + (1-p) * (y < z)\n",
    "    return z\n",
    "\n",
    "hide_toggle()"
   ]
  },
  {
   "cell_type": "code",
   "execution_count": 4,
   "metadata": {},
   "outputs": [
    {
     "data": {
      "text/html": [
       "\n",
       "        <script>\n",
       "            function code_toggle_3773340686779914312() {\n",
       "                $('div.cell.code_cell.rendered.selected').find('div.input').toggle();\n",
       "            }\n",
       "\n",
       "            \n",
       "        </script>\n",
       "\n",
       "        <a href=\"javascript:code_toggle_3773340686779914312()\">Toggle show/hide</a>\n",
       "    "
      ],
      "text/plain": [
       "<IPython.core.display.HTML object>"
      ]
     },
     "execution_count": 4,
     "metadata": {},
     "output_type": "execute_result"
    }
   ],
   "source": [
    "# proba = baseline_als(X[0,2,2,:,1],1000,0.5)\n",
    "# plt.plot(X[0,2,2,:,1])\n",
    "# plt.plot(proba)\n",
    "# plt.show()\n",
    "\n",
    "hide_toggle()"
   ]
  },
  {
   "cell_type": "markdown",
   "metadata": {},
   "source": [
    "## Badanie co jest na pojedynczych pacjentach"
   ]
  },
  {
   "cell_type": "code",
   "execution_count": 5,
   "metadata": {
    "scrolled": true
   },
   "outputs": [
    {
     "name": "stdout",
     "output_type": "stream",
     "text": [
      "Extracting parameters from B03_exp1.set...\n",
      "328 matching events found\n",
      "No baseline correction applied\n",
      "Not setting metadata\n",
      "0 projection items activated\n",
      "Ready.\n",
      "Extracting parameters from B03_exp2.set...\n",
      "333 matching events found\n",
      "No baseline correction applied\n",
      "Not setting metadata\n",
      "0 projection items activated\n",
      "Ready.\n"
     ]
    },
    {
     "data": {
      "text/html": [
       "\n",
       "        <script>\n",
       "            function code_toggle_2743518269153765106() {\n",
       "                $('div.cell.code_cell.rendered.selected').find('div.input').toggle();\n",
       "            }\n",
       "\n",
       "            \n",
       "        </script>\n",
       "\n",
       "        <a href=\"javascript:code_toggle_2743518269153765106()\">Toggle show/hide</a>\n",
       "    "
      ],
      "text/plain": [
       "<IPython.core.display.HTML object>"
      ]
     },
     "execution_count": 5,
     "metadata": {},
     "output_type": "execute_result"
    }
   ],
   "source": [
    "f = mne.io.read_epochs_eeglab('B03_exp1.set')\n",
    "f2 = mne.io.read_epochs_eeglab('B03_exp2.set')\n",
    "\n",
    "CH_N = f.ch_names\n",
    "# b , a = ss.butter(5, [1,30], btype='bandpass', analog=False, output='ba', fs=256)\n",
    "syg = f.get_data()\n",
    "syg = (syg - np.mean(syg))/np.std(syg)\n",
    "# syg = ss.filtfilt(b,a,syg,axis=-1)\n",
    "syg2 = f2.get_data()\n",
    "syg2 = (syg2 - np.mean(syg2))/np.std(syg2)\n",
    "# syg2 = ss.filtfilt(b,a,syg2,axis=-1)\n",
    "\n",
    "hide_toggle()"
   ]
  },
  {
   "cell_type": "code",
   "execution_count": 6,
   "metadata": {},
   "outputs": [
    {
     "data": {
      "text/html": [
       "\n",
       "        <script>\n",
       "            function code_toggle_13273904851845358885() {\n",
       "                $('div.cell.code_cell.rendered.selected').find('div.input').toggle();\n",
       "            }\n",
       "\n",
       "            \n",
       "        </script>\n",
       "\n",
       "        <a href=\"javascript:code_toggle_13273904851845358885()\">Toggle show/hide</a>\n",
       "    "
      ],
      "text/plain": [
       "<IPython.core.display.HTML object>"
      ]
     },
     "execution_count": 6,
     "metadata": {},
     "output_type": "execute_result"
    }
   ],
   "source": [
    "# y_true = np.ones(syg.shape[0])\n",
    "# y_false = np.zeros(syg2.shape[0])\n",
    "# X = np.concatenate((syg2, syg))\n",
    "# y = np.concatenate((y_false, y_true))\n",
    "\n",
    "hide_toggle()"
   ]
  },
  {
   "cell_type": "code",
   "execution_count": 20,
   "metadata": {},
   "outputs": [
    {
     "data": {
      "text/html": [
       "\n",
       "        <script>\n",
       "            function code_toggle_12653798284490114800() {\n",
       "                $('div.cell.code_cell.rendered.selected').find('div.input').toggle();\n",
       "            }\n",
       "\n",
       "            \n",
       "        </script>\n",
       "\n",
       "        <a href=\"javascript:code_toggle_12653798284490114800()\">Toggle show/hide</a>\n",
       "    "
      ],
      "text/plain": [
       "<IPython.core.display.HTML object>"
      ]
     },
     "execution_count": 20,
     "metadata": {},
     "output_type": "execute_result"
    }
   ],
   "source": [
    "# X10_20 = np.zeros((X.shape[0],2,2,X.shape[2]))\n",
    "# X10_20[:,0,0,:] = X[:,best_ind[0],:]\n",
    "# X10_20[:,0,1,:] = X[:,best_ind[1],:]\n",
    "# X10_20[:,1,0,:] = X[:,best_ind[2],:]\n",
    "# X10_20[:,1,1,:] = X[:,best_ind[3],:]\n",
    "# b_th , a_th = ss.butter(5, [0.1,8], btype='bandpass', analog=False, output='ba', fs=Fs)\n",
    "# b_al , a_al = ss.butter(5, [8,12], btype='bandpass', analog=False, output='ba', fs=Fs)\n",
    "# b_gm , a_gm = ss.butter(5, [12,30], btype='bandpass', analog=False, output='ba', fs=Fs)\n",
    "# X_theta = ss.filtfilt(b_th, a_th, X10_20, axis=-1)\n",
    "# X_alpha = ss.filtfilt(b_al, a_al, X10_20, axis=-1)\n",
    "# X_gamma = ss.filtfilt(b_gm, a_gm, X10_20, axis=-1)\n",
    "# X_fin = np.zeros((X.shape[0],2,2,X.shape[2],3))\n",
    "# X_fin[:,:,:,:,0] = X_theta\n",
    "# X_fin[:,:,:,:,1] = X_alpha\n",
    "# X_fin[:,:,:,:,2] = X_gamma\n",
    "\n",
    "\n",
    "hide_toggle()"
   ]
  },
  {
   "cell_type": "code",
   "execution_count": 19,
   "metadata": {},
   "outputs": [
    {
     "data": {
      "text/html": [
       "\n",
       "        <script>\n",
       "            function code_toggle_14063949793414781773() {\n",
       "                $('div.cell.code_cell.rendered.selected').find('div.input').toggle();\n",
       "            }\n",
       "\n",
       "            \n",
       "        </script>\n",
       "\n",
       "        <a href=\"javascript:code_toggle_14063949793414781773()\">Toggle show/hide</a>\n",
       "    "
      ],
      "text/plain": [
       "<IPython.core.display.HTML object>"
      ]
     },
     "execution_count": 19,
     "metadata": {},
     "output_type": "execute_result"
    }
   ],
   "source": [
    "# f = mne.io.read_epochs_eeglab('B04_exp1.set')\n",
    "# f2 = mne.io.read_epochs_eeglab('B04_exp2.set')\n",
    "\n",
    "# CH_N = f.ch_names\n",
    "# syg = f.get_data()\n",
    "# syg = (syg - np.mean(syg))/np.std(syg)\n",
    "# syg2 = f2.get_data()\n",
    "# syg2 = (syg2 - np.mean(syg2))/np.std(syg2)\n",
    "\n",
    "# y_true = np.ones(syg.shape[0])\n",
    "# y_false = np.zeros(syg2.shape[0])\n",
    "# X2 = np.concatenate((syg2, syg))\n",
    "# y2 = np.concatenate((y_false, y_true))\n",
    "\n",
    "# X10_20 = np.zeros((X2.shape[0],2,2,X2.shape[2]))\n",
    "# X10_20[:,0,0,:] = X2[:,best_ind[0],:]\n",
    "# X10_20[:,0,1,:] = X2[:,best_ind[1],:]\n",
    "# X10_20[:,1,0,:] = X2[:,best_ind[2],:]\n",
    "# X10_20[:,1,1,:] = X2[:,best_ind[3],:]\n",
    "# b_th , a_th = ss.butter(5, [0.1,8], btype='bandpass', analog=False, output='ba', fs=Fs)\n",
    "# b_al , a_al = ss.butter(5, [8,12], btype='bandpass', analog=False, output='ba', fs=Fs)\n",
    "# b_gm , a_gm = ss.butter(5, [12,30], btype='bandpass', analog=False, output='ba', fs=Fs)\n",
    "# X_theta = ss.filtfilt(b_th, a_th, X10_20, axis=-1)\n",
    "# X_alpha = ss.filtfilt(b_al, a_al, X10_20, axis=-1)\n",
    "# X_gamma = ss.filtfilt(b_gm, a_gm, X10_20, axis=-1)\n",
    "# X_fin2 = np.zeros((X2.shape[0],2,2,X2.shape[2],3))\n",
    "# X_fin2[:,:,:,:,0] = X_theta\n",
    "# X_fin2[:,:,:,:,1] = X_alpha\n",
    "# X_fin2[:,:,:,:,2] = X_gamma\n",
    "\n",
    "hide_toggle()"
   ]
  },
  {
   "cell_type": "code",
   "execution_count": 18,
   "metadata": {},
   "outputs": [
    {
     "data": {
      "text/html": [
       "\n",
       "        <script>\n",
       "            function code_toggle_9316000899194620086() {\n",
       "                $('div.cell.code_cell.rendered.selected').find('div.input').toggle();\n",
       "            }\n",
       "\n",
       "            \n",
       "        </script>\n",
       "\n",
       "        <a href=\"javascript:code_toggle_9316000899194620086()\">Toggle show/hide</a>\n",
       "    "
      ],
      "text/plain": [
       "<IPython.core.display.HTML object>"
      ]
     },
     "execution_count": 18,
     "metadata": {},
     "output_type": "execute_result"
    }
   ],
   "source": [
    "# X_prim = np.zeros((X_fin.shape[0],X_fin.shape[1],X_fin.shape[2],X_fin.shape[3],2))\n",
    "# X_prim[:,:,:,:,0] = X_fin[:,:,:,:,0]\n",
    "# X_prim[:,:,:,:,1] = X_fin[:,:,:,:,1]\n",
    "\n",
    "hide_toggle()"
   ]
  },
  {
   "cell_type": "code",
   "execution_count": 17,
   "metadata": {},
   "outputs": [
    {
     "data": {
      "text/html": [
       "\n",
       "        <script>\n",
       "            function code_toggle_14979392192429393073() {\n",
       "                $('div.cell.code_cell.rendered.selected').find('div.input').toggle();\n",
       "            }\n",
       "\n",
       "            \n",
       "        </script>\n",
       "\n",
       "        <a href=\"javascript:code_toggle_14979392192429393073()\">Toggle show/hide</a>\n",
       "    "
      ],
      "text/plain": [
       "<IPython.core.display.HTML object>"
      ]
     },
     "execution_count": 17,
     "metadata": {},
     "output_type": "execute_result"
    }
   ],
   "source": [
    "# X_prim2 = np.zeros((X_fin2.shape[0],X_fin2.shape[1],X_fin2.shape[2],X_fin2.shape[3],2))\n",
    "# X_prim2[:,:,:,:,0] = X_fin2[:,:,:,:,0]\n",
    "# X_prim2[:,:,:,:,1] = X_fin2[:,:,:,:,1]\n",
    "hide_toggle()"
   ]
  },
  {
   "cell_type": "code",
   "execution_count": 27,
   "metadata": {},
   "outputs": [
    {
     "data": {
      "text/html": [
       "\n",
       "        <script>\n",
       "            function code_toggle_7546144917337114004() {\n",
       "                $('div.cell.code_cell.rendered.selected').find('div.input').toggle();\n",
       "            }\n",
       "\n",
       "            \n",
       "        </script>\n",
       "\n",
       "        <a href=\"javascript:code_toggle_7546144917337114004()\">Toggle show/hide</a>\n",
       "    "
      ],
      "text/plain": [
       "<IPython.core.display.HTML object>"
      ]
     },
     "execution_count": 27,
     "metadata": {},
     "output_type": "execute_result"
    }
   ],
   "source": [
    "X_mean=np.zeros((syg.shape[0]//10+1,len(CH_N),syg.shape[-1]))\n",
    "for i in range(0,syg.shape[0],10):\n",
    "    X_mean[i//10,:,:] = np.mean(syg[i:i+10,:,:],axis=0)\n",
    "X_mean[-1,:,:] = np.mean(syg[syg.shape[0]//10+1:,:,:],axis=0)\n",
    "\n",
    "hide_toggle()"
   ]
  },
  {
   "cell_type": "code",
   "execution_count": 28,
   "metadata": {},
   "outputs": [
    {
     "data": {
      "text/html": [
       "\n",
       "        <script>\n",
       "            function code_toggle_9341402187135752922() {\n",
       "                $('div.cell.code_cell.rendered.selected').find('div.input').toggle();\n",
       "            }\n",
       "\n",
       "            \n",
       "        </script>\n",
       "\n",
       "        <a href=\"javascript:code_toggle_9341402187135752922()\">Toggle show/hide</a>\n",
       "    "
      ],
      "text/plain": [
       "<IPython.core.display.HTML object>"
      ]
     },
     "execution_count": 28,
     "metadata": {},
     "output_type": "execute_result"
    }
   ],
   "source": [
    "X_mean2=np.zeros((syg2.shape[0]//10+1,len(CH_N),syg2.shape[-1]))\n",
    "for i in range(0,syg2.shape[0],10):\n",
    "    X_mean2[i//10,:,:] = np.mean(syg2[i:i+10,:,:],axis=0)\n",
    "X_mean2[-1,:,:] = np.mean(syg2[syg2.shape[0]//10+1:,:,:],axis=0)\n",
    "\n",
    "hide_toggle()"
   ]
  },
  {
   "cell_type": "code",
   "execution_count": 29,
   "metadata": {
    "scrolled": true
   },
   "outputs": [
    {
     "data": {
      "text/html": [
       "\n",
       "        <script>\n",
       "            function code_toggle_17190262191967459000() {\n",
       "                $('div.cell.code_cell.rendered.selected').find('div.input').toggle();\n",
       "            }\n",
       "\n",
       "            \n",
       "        </script>\n",
       "\n",
       "        <a href=\"javascript:code_toggle_17190262191967459000()\">Toggle show/hide</a>\n",
       "    "
      ],
      "text/plain": [
       "<IPython.core.display.HTML object>"
      ]
     },
     "execution_count": 29,
     "metadata": {},
     "output_type": "execute_result"
    }
   ],
   "source": [
    "mini = np.min((X_mean2.shape[0],X_mean.shape[0]))\n",
    "dot_prod = np.zeros((mini,len(CH_N)))\n",
    "for i in range(mini):\n",
    "    for ch in range(len(CH_N)):\n",
    "        a = X_mean[i,ch,:]\n",
    "        b = X_mean2[i,ch,:]\n",
    "        dot_prod[i,ch] = np.dot(a,b)\n",
    "dot_prod = dot_prod\n",
    "# for i in range(len(CH_N)):\n",
    "#     plt.figure(figsize=(10,4))\n",
    "#     plt.title(f'Channel = {CH_N[i]}, średnia = {np.mean(dot_prod[:,i])}')\n",
    "#     plt.plot(dot_prod[:,i])\n",
    "#     plt.show()\n",
    "\n",
    "hide_toggle()"
   ]
  },
  {
   "cell_type": "code",
   "execution_count": 6,
   "metadata": {},
   "outputs": [],
   "source": [
    "'''Indeksy dla \"najlepszych\" kanałów'''\n",
    "\n",
    "best_ind = [2,6,7,11]"
   ]
  },
  {
   "cell_type": "markdown",
   "metadata": {},
   "source": [
    "### Czytanie X, y i Fs"
   ]
  },
  {
   "cell_type": "code",
   "execution_count": 20,
   "metadata": {},
   "outputs": [
    {
     "data": {
      "text/html": [
       "\n",
       "        <script>\n",
       "            function code_toggle_2793518093202662972() {\n",
       "                $('div.cell.code_cell.rendered.selected').find('div.input').toggle();\n",
       "            }\n",
       "\n",
       "            \n",
       "        </script>\n",
       "\n",
       "        <a href=\"javascript:code_toggle_2793518093202662972()\">Toggle show/hide</a>\n",
       "    "
      ],
      "text/plain": [
       "<IPython.core.display.HTML object>"
      ]
     },
     "execution_count": 20,
     "metadata": {},
     "output_type": "execute_result"
    }
   ],
   "source": [
    "# X = np.load('X.npy') #Wczytanie wszystkie dane na surowo\n",
    "# X_final = np.load('X_final.npy') #Dane z wyżej upakowane w 5 wymiarów (rozbite na pasma)\n",
    "# Xnorm = np.load('Xnorm.npy') #Dane czytane po pacjencie i tak normalizowane\n",
    "# XchNorm = np.load('XchNorm.npy') #Dane znormalizowane w obrębie pacjenta i kanału\n",
    "# XchNorm_fin = np.load('XchNorm_fin.npy') #Dane znormalizowane w obrębie pacjenta i kanału, obrobione\n",
    "# X_final = np.load('X_final.npy') #Dane jw upakowane w 5 wymiarów\n",
    "# X3 = np.load('X3.npy') #uśrednione po 3 sztuki w obrębie pacjentów\n",
    "# X3_fin = np.load('X3_fin.npy') #uśrednione po 3 sztuki w obrębie pacjentów, 4 best kanały, obrobionr\n",
    "# Xbase_fin = np.load('Xbase_fin.npy') #uśrednione baseline_als i obrobione\n",
    "# Xbase = np.load('X_baseline.npy')\n",
    "Xbase19_fin = np.load('Xbase19_fin.npy')\n",
    "# y3 = np.load('y3.npy') #y dla jw\n",
    "\n",
    "y = np.load('y.npy')\n",
    "Fs = 256\n",
    "\n",
    "hide_toggle()"
   ]
  },
  {
   "cell_type": "code",
   "execution_count": 21,
   "metadata": {},
   "outputs": [
    {
     "data": {
      "text/plain": [
       "(18063, 5, 5, 306, 3)"
      ]
     },
     "execution_count": 21,
     "metadata": {},
     "output_type": "execute_result"
    }
   ],
   "source": [
    "X = Xbase19_fin\n",
    "X.shape"
   ]
  },
  {
   "cell_type": "markdown",
   "metadata": {},
   "source": [
    "### Bez (alfy v thety v gammy)"
   ]
  },
  {
   "cell_type": "code",
   "execution_count": 14,
   "metadata": {},
   "outputs": [
    {
     "data": {
      "text/html": [
       "\n",
       "        <script>\n",
       "            function code_toggle_11339683133770394506() {\n",
       "                $('div.cell.code_cell.rendered.selected').find('div.input').toggle();\n",
       "            }\n",
       "\n",
       "            \n",
       "        </script>\n",
       "\n",
       "        <a href=\"javascript:code_toggle_11339683133770394506()\">Toggle show/hide</a>\n",
       "    "
      ],
      "text/plain": [
       "<IPython.core.display.HTML object>"
      ]
     },
     "execution_count": 14,
     "metadata": {},
     "output_type": "execute_result"
    }
   ],
   "source": [
    "X_prim = np.zeros((X.shape[0],X.shape[1],X.shape[2],X.shape[3],2))\n",
    "X_prim[:,:,:,:,0] = X[:,:,:,:,0]\n",
    "X_prim[:,:,:,:,1] = X[:,:,:,:,1]\n",
    "\n",
    "hide_toggle()"
   ]
  },
  {
   "cell_type": "code",
   "execution_count": 71,
   "metadata": {
    "scrolled": true
   },
   "outputs": [
    {
     "data": {
      "text/html": [
       "\n",
       "        <script>\n",
       "            function code_toggle_12594489123948492866() {\n",
       "                $('div.cell.code_cell.rendered.selected').find('div.input').toggle();\n",
       "            }\n",
       "\n",
       "            \n",
       "        </script>\n",
       "\n",
       "        <a href=\"javascript:code_toggle_12594489123948492866()\">Toggle show/hide</a>\n",
       "    "
      ],
      "text/plain": [
       "<IPython.core.display.HTML object>"
      ]
     },
     "execution_count": 71,
     "metadata": {},
     "output_type": "execute_result"
    }
   ],
   "source": [
    "# std = np.std(X,axis=-1)\n",
    "# std_mean = np.zeros(std.shape)\n",
    "\n",
    "# mean = np.mean(X,axis=-1)\n",
    "# maxima = np.max(np.abs(X),axis=-1)\n",
    "# for i in range(len(CH_N)):\n",
    "#     std_mean = np.zeros(len(std[:,i]))\n",
    "#     std_mean[:] = np.mean(std[:,i])\n",
    "#     plt.figure(figsize=(12,4))\n",
    "#     plt.title(f'std wartosci syg. ch={CH_N[i]}, sr std = {np.mean(std[:,i])}')\n",
    "# #     plt.plot(std[:,i])\n",
    "# #     plt.plot(std_mean)\n",
    "# #     plt.plot(mean[:,i])\n",
    "#     plt.plot(maxima[:,i])\n",
    "#     plt.show()\n",
    "    \n",
    "hide_toggle()\n"
   ]
  },
  {
   "cell_type": "code",
   "execution_count": 25,
   "metadata": {
    "scrolled": false
   },
   "outputs": [
    {
     "name": "stdout",
     "output_type": "stream",
     "text": [
      "liczba indeksów = 6088\n"
     ]
    },
    {
     "data": {
      "text/html": [
       "\n",
       "        <script>\n",
       "            function code_toggle_18073066148096642500() {\n",
       "                $('div.cell.code_cell.rendered.selected').find('div.input').toggle();\n",
       "            }\n",
       "\n",
       "            \n",
       "        </script>\n",
       "\n",
       "        <a href=\"javascript:code_toggle_18073066148096642500()\">Toggle show/hide</a>\n",
       "    "
      ],
      "text/plain": [
       "<IPython.core.display.HTML object>"
      ]
     },
     "execution_count": 25,
     "metadata": {},
     "output_type": "execute_result"
    }
   ],
   "source": [
    "indeksy = []\n",
    "ch=2\n",
    "sr = np.mean(std[:,ch])\n",
    "for ind,val in enumerate(maxima[:,ch]):\n",
    "    if val > 2.65 and val < 4.3:\n",
    "        indeksy.append(ind)\n",
    "print(f'liczba indeksów = {len(indeksy)}')\n",
    "hide_toggle()"
   ]
  },
  {
   "cell_type": "markdown",
   "metadata": {},
   "source": [
    "### Obróbka danych X do \"obrazków\" z 3 \"kolorami\" (pasma)"
   ]
  },
  {
   "cell_type": "markdown",
   "metadata": {},
   "source": [
    "Przestrzenne ukłdanie kanałów"
   ]
  },
  {
   "cell_type": "code",
   "execution_count": 66,
   "metadata": {},
   "outputs": [
    {
     "data": {
      "text/html": [
       "\n",
       "        <script>\n",
       "            function code_toggle_17393739918695173651() {\n",
       "                $('div.cell.code_cell.rendered.selected').find('div.input').toggle();\n",
       "            }\n",
       "\n",
       "            \n",
       "        </script>\n",
       "\n",
       "        <a href=\"javascript:code_toggle_17393739918695173651()\">Toggle show/hide</a>\n",
       "    "
      ],
      "text/plain": [
       "<IPython.core.display.HTML object>"
      ]
     },
     "execution_count": 66,
     "metadata": {},
     "output_type": "execute_result"
    }
   ],
   "source": [
    "# X10_20 = np.zeros((X.shape[0],2,2,X.shape[2]))\n",
    "# X10_20[:,0,0,:] = X[:,best_ind[0],:]\n",
    "# X10_20[:,0,1,:] = X[:,best_ind[1],:]\n",
    "# X10_20[:,1,0,:] = X[:,best_ind[2],:]\n",
    "# X10_20[:,1,1,:] = X[:,best_ind[3],:]\n",
    "\n",
    "hide_toggle()"
   ]
  },
  {
   "cell_type": "code",
   "execution_count": 15,
   "metadata": {
    "scrolled": true
   },
   "outputs": [
    {
     "data": {
      "text/html": [
       "\n",
       "        <script>\n",
       "            function code_toggle_4760876111309025074() {\n",
       "                $('div.cell.code_cell.rendered.selected').find('div.input').toggle();\n",
       "            }\n",
       "\n",
       "            \n",
       "        </script>\n",
       "\n",
       "        <a href=\"javascript:code_toggle_4760876111309025074()\">Toggle show/hide</a>\n",
       "    "
      ],
      "text/plain": [
       "<IPython.core.display.HTML object>"
      ]
     },
     "execution_count": 15,
     "metadata": {},
     "output_type": "execute_result"
    }
   ],
   "source": [
    "X10_20 = np.zeros((X.shape[0],5,5,X.shape[2]))\n",
    "X10_20[:,0,1,:] = X[:,0,:]\n",
    "X10_20[:,0,3,:] = X[:,1,:]\n",
    "X10_20[:,1,:,:] = X[:,2:7,:]\n",
    "X10_20[:,2,:,:] = X[:,7:12,:]\n",
    "X10_20[:,3,:,:] = X[:,12:17,:]\n",
    "X10_20[:,4,1,:] = X[:,17,:]\n",
    "X10_20[:,4,3,:] = X[:,18,:]\n",
    "\n",
    "hide_toggle()"
   ]
  },
  {
   "cell_type": "markdown",
   "metadata": {},
   "source": [
    "Dane dla przypadku gdy nie rozbijamy na pasma"
   ]
  },
  {
   "cell_type": "code",
   "execution_count": 49,
   "metadata": {},
   "outputs": [
    {
     "data": {
      "text/html": [
       "\n",
       "        <script>\n",
       "            function code_toggle_839165858650547134() {\n",
       "                $('div.cell.code_cell.rendered.selected').find('div.input').toggle();\n",
       "            }\n",
       "\n",
       "            \n",
       "        </script>\n",
       "\n",
       "        <a href=\"javascript:code_toggle_839165858650547134()\">Toggle show/hide</a>\n",
       "    "
      ],
      "text/plain": [
       "<IPython.core.display.HTML object>"
      ]
     },
     "execution_count": 49,
     "metadata": {},
     "output_type": "execute_result"
    }
   ],
   "source": [
    "# X_prim = np.zeros((X_mean.shape[0],5,5,X_mean.shape[2],1))\n",
    "# X_prim[:,:,:,:,0] = X10_20\n",
    "# print(X_prim.shape)\n",
    "\n",
    "hide_toggle()"
   ]
  },
  {
   "cell_type": "markdown",
   "metadata": {},
   "source": [
    "Filtrowanie"
   ]
  },
  {
   "cell_type": "code",
   "execution_count": 16,
   "metadata": {
    "scrolled": true
   },
   "outputs": [
    {
     "data": {
      "text/html": [
       "\n",
       "        <script>\n",
       "            function code_toggle_13758406813945317372() {\n",
       "                $('div.cell.code_cell.rendered.selected').find('div.input').toggle();\n",
       "            }\n",
       "\n",
       "            \n",
       "        </script>\n",
       "\n",
       "        <a href=\"javascript:code_toggle_13758406813945317372()\">Toggle show/hide</a>\n",
       "    "
      ],
      "text/plain": [
       "<IPython.core.display.HTML object>"
      ]
     },
     "execution_count": 16,
     "metadata": {},
     "output_type": "execute_result"
    }
   ],
   "source": [
    "# X10_20 = X[:,:,:,:,0]\n",
    "b_th , a_th = ss.butter(5, [0.1,8], btype='bandpass', analog=False, output='ba', fs=Fs)\n",
    "b_al , a_al = ss.butter(5, [8,12], btype='bandpass', analog=False, output='ba', fs=Fs)\n",
    "b_gm , a_gm = ss.butter(5, [12,30], btype='bandpass', analog=False, output='ba', fs=Fs)\n",
    "X_theta = ss.filtfilt(b_th, a_th, X10_20, axis=-1)\n",
    "X_alpha = ss.filtfilt(b_al, a_al, X10_20, axis=-1)\n",
    "X_gamma = ss.filtfilt(b_gm, a_gm, X10_20, axis=-1)\n",
    "\n",
    "hide_toggle()"
   ]
  },
  {
   "cell_type": "code",
   "execution_count": 18,
   "metadata": {},
   "outputs": [
    {
     "data": {
      "text/plain": [
       "(18063, 19, 306)"
      ]
     },
     "execution_count": 18,
     "metadata": {},
     "output_type": "execute_result"
    }
   ],
   "source": [
    "X.shape"
   ]
  },
  {
   "cell_type": "markdown",
   "metadata": {},
   "source": [
    "Wkładanie danych do jednej macierzy"
   ]
  },
  {
   "cell_type": "code",
   "execution_count": 19,
   "metadata": {
    "scrolled": true
   },
   "outputs": [
    {
     "data": {
      "text/html": [
       "\n",
       "        <script>\n",
       "            function code_toggle_4433895905535703015() {\n",
       "                $('div.cell.code_cell.rendered.selected').find('div.input').toggle();\n",
       "            }\n",
       "\n",
       "            \n",
       "        </script>\n",
       "\n",
       "        <a href=\"javascript:code_toggle_4433895905535703015()\">Toggle show/hide</a>\n",
       "    "
      ],
      "text/plain": [
       "<IPython.core.display.HTML object>"
      ]
     },
     "execution_count": 19,
     "metadata": {},
     "output_type": "execute_result"
    }
   ],
   "source": [
    "X_final = np.zeros((X.shape[0],5,5,X.shape[2],3))\n",
    "X_final[:,:,:,:,0] = X_theta\n",
    "X_final[:,:,:,:,1] = X_alpha\n",
    "X_final[:,:,:,:,2] = X_gamma\n",
    "np.save('Xbase19_fin',X_final)\n",
    "\n",
    "hide_toggle()"
   ]
  },
  {
   "cell_type": "markdown",
   "metadata": {},
   "source": [
    "### Robie widma jako dane"
   ]
  },
  {
   "cell_type": "code",
   "execution_count": 10,
   "metadata": {},
   "outputs": [
    {
     "data": {
      "text/html": [
       "\n",
       "        <script>\n",
       "            function code_toggle_2809384198246116901() {\n",
       "                $('div.cell.code_cell.rendered.selected').find('div.input').toggle();\n",
       "            }\n",
       "\n",
       "            \n",
       "        </script>\n",
       "\n",
       "        <a href=\"javascript:code_toggle_2809384198246116901()\">Toggle show/hide</a>\n",
       "    "
      ],
      "text/plain": [
       "<IPython.core.display.HTML object>"
      ]
     },
     "execution_count": 10,
     "metadata": {},
     "output_type": "execute_result"
    }
   ],
   "source": [
    "# fx,widmo = ss.welch(X,fs=Fs,axis=-1)\n",
    "# print(f'rozmiar widm = {widmo.shape}')\n",
    "\n",
    "hide_toggle()"
   ]
  },
  {
   "cell_type": "code",
   "execution_count": 37,
   "metadata": {},
   "outputs": [
    {
     "data": {
      "text/html": [
       "\n",
       "        <script>\n",
       "            function code_toggle_5695484478641503159() {\n",
       "                $('div.cell.code_cell.rendered.selected').find('div.input').toggle();\n",
       "            }\n",
       "\n",
       "            \n",
       "        </script>\n",
       "\n",
       "        <a href=\"javascript:code_toggle_5695484478641503159()\">Toggle show/hide</a>\n",
       "    "
      ],
      "text/plain": [
       "<IPython.core.display.HTML object>"
      ]
     },
     "execution_count": 37,
     "metadata": {},
     "output_type": "execute_result"
    }
   ],
   "source": [
    "X10_20 = np.zeros((widmo.shape[0],5,5,widmo.shape[2]))\n",
    "X10_20[:,0,1,:] = widmo[:,0,:]\n",
    "X10_20[:,0,3,:] = widmo[:,1,:]\n",
    "X10_20[:,1,:,:] = widmo[:,2:7,:]\n",
    "X10_20[:,2,:,:] = widmo[:,7:12,:]\n",
    "X10_20[:,3,:,:] = widmo[:,12:17,:]\n",
    "X10_20[:,4,1,:] = widmo[:,17,:]\n",
    "X10_20[:,4,3,:] = widmo[:,18,:]\n",
    "\n",
    "hide_toggle()"
   ]
  },
  {
   "cell_type": "code",
   "execution_count": 40,
   "metadata": {},
   "outputs": [
    {
     "name": "stdout",
     "output_type": "stream",
     "text": [
      " Zmienna X_widma ma rozmiar = (18063, 5, 5, 129, 1)\n"
     ]
    },
    {
     "data": {
      "text/html": [
       "\n",
       "        <script>\n",
       "            function code_toggle_7185886025188682464() {\n",
       "                $('div.cell.code_cell.rendered.selected').find('div.input').toggle();\n",
       "            }\n",
       "\n",
       "            \n",
       "        </script>\n",
       "\n",
       "        <a href=\"javascript:code_toggle_7185886025188682464()\">Toggle show/hide</a>\n",
       "    "
      ],
      "text/plain": [
       "<IPython.core.display.HTML object>"
      ]
     },
     "execution_count": 40,
     "metadata": {},
     "output_type": "execute_result"
    }
   ],
   "source": [
    "X_widma = np.zeros((widmo.shape[0],5,5,widmo.shape[2],1))\n",
    "X_widma[:,:,:,:,0] = X10_20\n",
    "print(f' Zmienna X_widma ma rozmiar = {X_widma.shape}')\n",
    "\n",
    "hide_toggle()"
   ]
  },
  {
   "cell_type": "markdown",
   "metadata": {},
   "source": [
    "### Rysowanie/podglądanie"
   ]
  },
  {
   "cell_type": "code",
   "execution_count": 25,
   "metadata": {
    "scrolled": true
   },
   "outputs": [
    {
     "data": {
      "text/html": [
       "\n",
       "        <script>\n",
       "            function code_toggle_3344554695991669405() {\n",
       "                $('div.cell.code_cell.rendered.selected').find('div.input').toggle();\n",
       "            }\n",
       "\n",
       "            \n",
       "        </script>\n",
       "\n",
       "        <a href=\"javascript:code_toggle_3344554695991669405()\">Toggle show/hide</a>\n",
       "    "
      ],
      "text/plain": [
       "<IPython.core.display.HTML object>"
      ]
     },
     "execution_count": 25,
     "metadata": {},
     "output_type": "execute_result"
    },
    {
     "data": {
      "image/png": "[encoded data removed]",
      "text/plain": [
       "<Figure size 432x288 with 1 Axes>"
      ]
     },
     "metadata": {
      "needs_background": "light"
     },
     "output_type": "display_data"
    }
   ],
   "source": [
    "# X = X*10**5\n",
    "# X[:,:,:,:,1] = X[:,:,:,:,1]*10\n",
    "# X[:,:,:,:,2] = X[:,:,:,:,2]*10\n",
    "plt.plot(X[0,2,2,:,0])\n",
    "plt.plot(X[0,2,2,:,1])\n",
    "plt.plot(X[0,2,2,:,2])\n",
    "\n",
    "\n",
    "hide_toggle()"
   ]
  },
  {
   "cell_type": "code",
   "execution_count": 73,
   "metadata": {
    "scrolled": true
   },
   "outputs": [
    {
     "data": {
      "text/html": [
       "\n",
       "        <script>\n",
       "            function code_toggle_9128552669523540830() {\n",
       "                $('div.cell.code_cell.rendered.selected').find('div.input').toggle();\n",
       "            }\n",
       "\n",
       "            \n",
       "        </script>\n",
       "\n",
       "        <a href=\"javascript:code_toggle_9128552669523540830()\">Toggle show/hide</a>\n",
       "    "
      ],
      "text/plain": [
       "<IPython.core.display.HTML object>"
      ]
     },
     "execution_count": 73,
     "metadata": {},
     "output_type": "execute_result"
    }
   ],
   "source": [
    "# scaler = preprocessing.scale()\n",
    "# for i in range(len(CH_N)+6):\n",
    "#     for j in range(3):\n",
    "#         X_final[:,i//5,i%5,:,j] = preprocessing.scale(X_final[:,i//5,i%5,:,j])\n",
    "# przyklad = 4444\n",
    "# kanal = 5\n",
    "# plt.plot(widmo[przyklad,kanal,:])\n",
    "# plt.title(f'wykres dla przykładu = {przyklad} i dla kanału {CH_N[kanal]}')\n",
    "# plt.show()\n",
    "          \n",
    "# X_widma = X_widma/10**9\n",
    "\n",
    "hide_toggle()"
   ]
  },
  {
   "cell_type": "code",
   "execution_count": 74,
   "metadata": {
    "scrolled": false
   },
   "outputs": [
    {
     "data": {
      "text/html": [
       "\n",
       "        <script>\n",
       "            function code_toggle_16430657165002884108() {\n",
       "                $('div.cell.code_cell.rendered.selected').find('div.input').toggle();\n",
       "            }\n",
       "\n",
       "            \n",
       "        </script>\n",
       "\n",
       "        <a href=\"javascript:code_toggle_16430657165002884108()\">Toggle show/hide</a>\n",
       "    "
      ],
      "text/plain": [
       "<IPython.core.display.HTML object>"
      ]
     },
     "execution_count": 74,
     "metadata": {},
     "output_type": "execute_result"
    }
   ],
   "source": [
    "# X_final = X_final*10**5\n",
    "# for i in (100,1000,1600,555,1400):\n",
    "#     plt.plot(X_final[i,2,2,:,0],label=y[i])\n",
    "#     plt.plot(X_widma[i,2,2,:,1],label=y[i])\n",
    "#     plt.plot(X_widma[i,2,2,:,2],label=y[i])\n",
    "#     print(y[i])\n",
    "# plt.legend()\n",
    "# plt.show()\n",
    "\n",
    "hide_toggle()"
   ]
  },
  {
   "cell_type": "markdown",
   "metadata": {},
   "source": [
    "### Robienie niby-obrazków (słabe)"
   ]
  },
  {
   "cell_type": "code",
   "execution_count": 23,
   "metadata": {
    "scrolled": true
   },
   "outputs": [
    {
     "data": {
      "text/html": [
       "\n",
       "        <script>\n",
       "            function code_toggle_2288361811320364377() {\n",
       "                $('div.cell.code_cell.rendered.selected').find('div.input').toggle();\n",
       "            }\n",
       "\n",
       "            \n",
       "        </script>\n",
       "\n",
       "        <a href=\"javascript:code_toggle_2288361811320364377()\">Toggle show/hide</a>\n",
       "    "
      ],
      "text/plain": [
       "<IPython.core.display.HTML object>"
      ]
     },
     "execution_count": 23,
     "metadata": {},
     "output_type": "execute_result"
    }
   ],
   "source": [
    "# X_images = np.zeros((X_final.shape[0],5,5,3))\n",
    "# for rgb in range(3):\n",
    "#     for i in range(25):\n",
    "#         X_images[:,i//5,i%5,rgb] = np.mean(X_final[:,i//5,i%5,:,rgb],axis=-1)\n",
    "#         mini=np.min(X_images[:,i//5,i%5,rgb])\n",
    "#         maxi=np.max(X_images[:,i//5,i%5,rgb])\n",
    "#         X_images[:,i//5,i%5,rgb] = (X_images[:,i//5,i%5,rgb]-mini) / ( maxi-mini )\n",
    "\n",
    "hide_toggle()"
   ]
  },
  {
   "cell_type": "markdown",
   "metadata": {},
   "source": [
    "### Resampling"
   ]
  },
  {
   "cell_type": "code",
   "execution_count": 121,
   "metadata": {
    "scrolled": true
   },
   "outputs": [
    {
     "data": {
      "text/html": [
       "\n",
       "        <script>\n",
       "            function code_toggle_2706042923727553433() {\n",
       "                $('div.cell.code_cell.rendered.selected').find('div.input').toggle();\n",
       "            }\n",
       "\n",
       "            \n",
       "        </script>\n",
       "\n",
       "        <a href=\"javascript:code_toggle_2706042923727553433()\">Toggle show/hide</a>\n",
       "    "
      ],
      "text/plain": [
       "<IPython.core.display.HTML object>"
      ]
     },
     "execution_count": 121,
     "metadata": {},
     "output_type": "execute_result"
    }
   ],
   "source": [
    "X_fin_resamp = np.empty((X_final.shape[0],X_final.shape[1],X_final.shape[2],X_final.shape[3]//4,X_final.shape[4]))\n",
    "for i in range(len(CH_N)+6):\n",
    "    for j in range(3):\n",
    "        for ind,signal in enumerate(X_final[:,i//5,i%5,:,j]):\n",
    "            X_fin_resamp[ind,i//5,i%5,:,j] = ss.resample(signal,X_final.shape[3]//4)\n",
    "            \n",
    "hide_toggle()"
   ]
  },
  {
   "cell_type": "markdown",
   "metadata": {},
   "source": [
    "#### Robienie odpowiedniego formatu y"
   ]
  },
  {
   "cell_type": "code",
   "execution_count": 75,
   "metadata": {
    "scrolled": true
   },
   "outputs": [
    {
     "name": "stdout",
     "output_type": "stream",
     "text": [
      "rozmiar y1 = (661, 2)\n",
      "rozmiar y2 = (562, 2)\n"
     ]
    },
    {
     "data": {
      "text/html": [
       "\n",
       "        <script>\n",
       "            function code_toggle_7476511907502048338() {\n",
       "                $('div.cell.code_cell.rendered.selected').find('div.input').toggle();\n",
       "            }\n",
       "\n",
       "            \n",
       "        </script>\n",
       "\n",
       "        <a href=\"javascript:code_toggle_7476511907502048338()\">Toggle show/hide</a>\n",
       "    "
      ],
      "text/plain": [
       "<IPython.core.display.HTML object>"
      ]
     },
     "execution_count": 75,
     "metadata": {},
     "output_type": "execute_result"
    }
   ],
   "source": [
    "y_1 = to_categorical(y).astype(np.integer)\n",
    "print(f'rozmiar y1 = {y_1.shape}')\n",
    "\n",
    "y_2= to_categorical(y2).astype(np.integer)\n",
    "print(f'rozmiar y2 = {y_2.shape}')\n",
    "hide_toggle()"
   ]
  },
  {
   "cell_type": "markdown",
   "metadata": {},
   "source": [
    "## Hilbert"
   ]
  },
  {
   "cell_type": "code",
   "execution_count": 76,
   "metadata": {},
   "outputs": [
    {
     "data": {
      "text/html": [
       "\n",
       "        <script>\n",
       "            function code_toggle_3014158732928653450() {\n",
       "                $('div.cell.code_cell.rendered.selected').find('div.input').toggle();\n",
       "            }\n",
       "\n",
       "            \n",
       "        </script>\n",
       "\n",
       "        <a href=\"javascript:code_toggle_3014158732928653450()\">Toggle show/hide</a>\n",
       "    "
      ],
      "text/plain": [
       "<IPython.core.display.HTML object>"
      ]
     },
     "execution_count": 76,
     "metadata": {},
     "output_type": "execute_result"
    }
   ],
   "source": [
    "# obwiednia = ss.hilbert(X_final,axis=-2)\n",
    "# obwiednia.shape\n",
    "\n",
    "hide_toggle()"
   ]
  },
  {
   "cell_type": "code",
   "execution_count": 77,
   "metadata": {},
   "outputs": [
    {
     "data": {
      "text/html": [
       "\n",
       "        <script>\n",
       "            function code_toggle_10157459667345920593() {\n",
       "                $('div.cell.code_cell.rendered.selected').find('div.input').toggle();\n",
       "            }\n",
       "\n",
       "            \n",
       "        </script>\n",
       "\n",
       "        <a href=\"javascript:code_toggle_10157459667345920593()\">Toggle show/hide</a>\n",
       "    "
      ],
      "text/plain": [
       "<IPython.core.display.HTML object>"
      ]
     },
     "execution_count": 77,
     "metadata": {},
     "output_type": "execute_result"
    }
   ],
   "source": [
    "# plt.plot(obwiednia[0,2,2,:,1])\n",
    "# plt.plot(X_final[0,2,2,:,1])\n",
    "# plt.show()\n",
    "\n",
    "hide_toggle()"
   ]
  },
  {
   "cell_type": "markdown",
   "metadata": {},
   "source": [
    "# Zestaw #1 - resamplowane"
   ]
  },
  {
   "cell_type": "code",
   "execution_count": 18,
   "metadata": {
    "scrolled": true
   },
   "outputs": [
    {
     "name": "stdout",
     "output_type": "stream",
     "text": [
      "Rozmiar danych treningowych: X = (12102, 3, 76, 5, 5), y = (12102, 2)\n",
      "Rozmiar danych wejściowych = (18063, 3, 76, 5, 5)\n"
     ]
    },
    {
     "data": {
      "text/html": [
       "\n",
       "        <script>\n",
       "            function code_toggle_3116457288563323746() {\n",
       "                $('div.cell.code_cell.rendered.selected').find('div.input').toggle();\n",
       "            }\n",
       "\n",
       "            \n",
       "        </script>\n",
       "\n",
       "        <a href=\"javascript:code_toggle_3116457288563323746()\">Toggle show/hide</a>\n",
       "    "
      ],
      "text/plain": [
       "<IPython.core.display.HTML object>"
      ]
     },
     "execution_count": 18,
     "metadata": {},
     "output_type": "execute_result"
    }
   ],
   "source": [
    "# X_fin_resamp1=np.einsum('ijklm->imljk',X_fin_resamp)\n",
    "\n",
    "# ind1 = np.arange(X_fin_resamp1.shape[0])\n",
    "# np.random.shuffle(ind1)\n",
    "# # X_images = X_images[ind,:,:,:]\n",
    "# X_fin_resamp1 = X_fin_resamp1[ind1]\n",
    "# y1 = y2[ind1]\n",
    "# # X_images.shape\n",
    "\n",
    "# X_train1, X_test1, y_train1, y_test1 = train_test_split(\n",
    "#     X_fin_resamp1, y1, test_size=0.33, random_state=69)\n",
    "# print(f'Rozmiar danych treningowych: X = {X_train1.shape}, y = {y_train1.shape}')\n",
    "# print(f'Rozmiar danych wejściowych = {X_fin_resamp1.shape}')\n",
    "\n",
    "hide_toggle()"
   ]
  },
  {
   "cell_type": "markdown",
   "metadata": {},
   "source": [
    "# Zestaw #2 - nieresamplowane"
   ]
  },
  {
   "cell_type": "code",
   "execution_count": 26,
   "metadata": {},
   "outputs": [],
   "source": [
    "# X = X_prim\n",
    "y2 = to_categorical(y).astype(np.integer)"
   ]
  },
  {
   "cell_type": "code",
   "execution_count": 27,
   "metadata": {},
   "outputs": [
    {
     "name": "stdout",
     "output_type": "stream",
     "text": [
      "Rozmiar danych treningowych: X = (14450, 3, 306, 5, 5), y = (14450, 2)\n",
      "Rozmiar danych wejściowych = (18063, 3, 306, 5, 5)\n"
     ]
    },
    {
     "data": {
      "text/html": [
       "\n",
       "        <script>\n",
       "            function code_toggle_4337581518346612240() {\n",
       "                $('div.cell.code_cell.rendered.selected').find('div.input').toggle();\n",
       "            }\n",
       "\n",
       "            \n",
       "        </script>\n",
       "\n",
       "        <a href=\"javascript:code_toggle_4337581518346612240()\">Toggle show/hide</a>\n",
       "    "
      ],
      "text/plain": [
       "<IPython.core.display.HTML object>"
      ]
     },
     "execution_count": 27,
     "metadata": {},
     "output_type": "execute_result"
    }
   ],
   "source": [
    "X_final1=np.einsum('ijklm->imljk',X)\n",
    "\n",
    "# ind1 = np.array(indeksy)\n",
    "# ind1 = np.random.randint(0,X_final1.shape[0],6000)\n",
    "# ind1 = cool_ind\n",
    "# ind1 = np.arange(X_final1.shape[0])\n",
    "# np.random.shuffle(ind1)\n",
    "# X_final1 = X_final1[ind1]\n",
    "# y1 = y2[ind1]\n",
    "y1=y2\n",
    "\n",
    "X_train1, X_test1, y_train1, y_test1 = train_test_split(\n",
    "    X_final1, y1, test_size=0.2, random_state=69)\n",
    "print(f'Rozmiar danych treningowych: X = {X_train1.shape}, y = {y_train1.shape}')\n",
    "print(f'Rozmiar danych wejściowych = {X_final1.shape}')\n",
    "\n",
    "hide_toggle()"
   ]
  },
  {
   "cell_type": "markdown",
   "metadata": {},
   "source": [
    "# Zestaw #3 - widma"
   ]
  },
  {
   "cell_type": "code",
   "execution_count": 54,
   "metadata": {},
   "outputs": [
    {
     "name": "stdout",
     "output_type": "stream",
     "text": [
      "Rozmiar danych treningowych: X = (6400, 1, 129, 5, 5), y = (6400, 2)\n",
      "Rozmiar danych wejściowych = (8000, 1, 129, 5, 5)\n"
     ]
    },
    {
     "data": {
      "text/html": [
       "\n",
       "        <script>\n",
       "            function code_toggle_11157919555206562779() {\n",
       "                $('div.cell.code_cell.rendered.selected').find('div.input').toggle();\n",
       "            }\n",
       "\n",
       "            \n",
       "        </script>\n",
       "\n",
       "        <a href=\"javascript:code_toggle_11157919555206562779()\">Toggle show/hide</a>\n",
       "    "
      ],
      "text/plain": [
       "<IPython.core.display.HTML object>"
      ]
     },
     "execution_count": 54,
     "metadata": {},
     "output_type": "execute_result"
    }
   ],
   "source": [
    "y2 = to_categorical(y).astype(np.integer)\n",
    "\n",
    "X_final1=np.einsum('ijklm->imljk',X_widma)\n",
    "\n",
    "ind1 = np.random.randint(0,X_widma.shape[0],8000)\n",
    "# ind1 = np.arange(X_final1.shape[0])\n",
    "np.random.shuffle(ind1)\n",
    "X_final1 = X_final1[ind1]\n",
    "y1 = y2[ind1]\n",
    "\n",
    "X_train1, X_test1, y_train1, y_test1 = train_test_split(\n",
    "    X_final1, y1, test_size=0.2, random_state=69)\n",
    "print(f'Rozmiar danych treningowych: X = {X_train1.shape}, y = {y_train1.shape}')\n",
    "print(f'Rozmiar danych wejściowych = {X_final1.shape}')\n",
    "\n",
    "hide_toggle()"
   ]
  },
  {
   "cell_type": "markdown",
   "metadata": {},
   "source": [
    "# MEINE\n",
    "\n",
    "\n",
    "if data_format='channels_first' 5D tensor with shape: (samples, time, channels, rows, cols)"
   ]
  },
  {
   "cell_type": "code",
   "execution_count": 28,
   "metadata": {
    "scrolled": false
   },
   "outputs": [
    {
     "name": "stdout",
     "output_type": "stream",
     "text": [
      "WARNING:tensorflow:From /dmj/fizmed/bkedzierska/.pyenv/versions/3.6.10/envs/test_keras/lib/python3.6/site-packages/tensorflow_core/python/ops/resource_variable_ops.py:1630: calling BaseResourceVariable.__init__ (from tensorflow.python.ops.resource_variable_ops) with constraint is deprecated and will be removed in a future version.\n",
      "Instructions for updating:\n",
      "If using Keras pass *_constraint arguments to layers.\n",
      "WARNING:tensorflow:From /dmj/fizmed/bkedzierska/.pyenv/versions/3.6.10/envs/test_keras/lib/python3.6/site-packages/tensorflow_core/python/ops/math_grad.py:1424: where (from tensorflow.python.ops.array_ops) is deprecated and will be removed in a future version.\n",
      "Instructions for updating:\n",
      "Use tf.where in 2.0, which has the same broadcast rule as np.where\n",
      "WARNING:tensorflow:From /dmj/fizmed/bkedzierska/.pyenv/versions/3.6.10/envs/test_keras/lib/python3.6/site-packages/keras/backend/tensorflow_backend.py:422: The name tf.global_variables is deprecated. Please use tf.compat.v1.global_variables instead.\n",
      "\n",
      "Train on 11560 samples, validate on 2890 samples\n",
      "Epoch 1/30\n",
      "11560/11560 [==============================] - 5s 402us/step - loss: 0.6966 - accuracy: 0.5364 - val_loss: 0.6740 - val_accuracy: 0.5820\n",
      "Epoch 2/30\n",
      "11560/11560 [==============================] - 4s 318us/step - loss: 0.6587 - accuracy: 0.6020 - val_loss: 0.6705 - val_accuracy: 0.5945\n",
      "Epoch 3/30\n",
      "11560/11560 [==============================] - 4s 322us/step - loss: 0.6368 - accuracy: 0.6220 - val_loss: 0.6872 - val_accuracy: 0.6045\n",
      "Epoch 4/30\n",
      "11560/11560 [==============================] - 4s 320us/step - loss: 0.6170 - accuracy: 0.6366 - val_loss: 0.6828 - val_accuracy: 0.5979\n",
      "Epoch 5/30\n",
      "11560/11560 [==============================] - 4s 320us/step - loss: 0.6094 - accuracy: 0.6501 - val_loss: 0.6639 - val_accuracy: 0.6149\n",
      "Epoch 6/30\n",
      "11560/11560 [==============================] - 4s 320us/step - loss: 0.6011 - accuracy: 0.6516 - val_loss: 0.7003 - val_accuracy: 0.6017\n",
      "Epoch 7/30\n",
      "11560/11560 [==============================] - 4s 320us/step - loss: 0.5870 - accuracy: 0.6695 - val_loss: 0.6659 - val_accuracy: 0.6142\n",
      "Epoch 8/30\n",
      "11560/11560 [==============================] - 4s 321us/step - loss: 0.5798 - accuracy: 0.6793 - val_loss: 0.6814 - val_accuracy: 0.6069\n",
      "Epoch 9/30\n",
      "11560/11560 [==============================] - 4s 322us/step - loss: 0.5735 - accuracy: 0.6810 - val_loss: 0.6861 - val_accuracy: 0.6038\n",
      "Epoch 10/30\n",
      "11560/11560 [==============================] - 4s 320us/step - loss: 0.5696 - accuracy: 0.6882 - val_loss: 0.6847 - val_accuracy: 0.6121\n",
      "Epoch 11/30\n",
      "11560/11560 [==============================] - 4s 319us/step - loss: 0.5585 - accuracy: 0.6925 - val_loss: 0.7026 - val_accuracy: 0.6135\n",
      "Epoch 12/30\n",
      "11560/11560 [==============================] - 4s 323us/step - loss: 0.5564 - accuracy: 0.6998 - val_loss: 0.6872 - val_accuracy: 0.6163\n",
      "Epoch 13/30\n",
      "11560/11560 [==============================] - 4s 323us/step - loss: 0.5450 - accuracy: 0.7061 - val_loss: 0.6973 - val_accuracy: 0.6131\n",
      "Epoch 14/30\n",
      "11560/11560 [==============================] - 4s 321us/step - loss: 0.5411 - accuracy: 0.7077 - val_loss: 0.7089 - val_accuracy: 0.6149\n",
      "Epoch 15/30\n",
      "11560/11560 [==============================] - 4s 321us/step - loss: 0.5362 - accuracy: 0.7179 - val_loss: 0.7114 - val_accuracy: 0.6069\n",
      "Epoch 16/30\n",
      "11560/11560 [==============================] - 4s 325us/step - loss: 0.5289 - accuracy: 0.7234 - val_loss: 0.7099 - val_accuracy: 0.6038\n",
      "Epoch 17/30\n",
      "11560/11560 [==============================] - 4s 320us/step - loss: 0.5266 - accuracy: 0.7255 - val_loss: 0.7086 - val_accuracy: 0.6069\n",
      "Epoch 18/30\n",
      "11560/11560 [==============================] - 4s 325us/step - loss: 0.5209 - accuracy: 0.7279 - val_loss: 0.7162 - val_accuracy: 0.5934\n",
      "Epoch 19/30\n",
      "11560/11560 [==============================] - 4s 323us/step - loss: 0.5155 - accuracy: 0.7305 - val_loss: 0.7246 - val_accuracy: 0.5997\n",
      "Epoch 20/30\n",
      "11560/11560 [==============================] - 4s 323us/step - loss: 0.5079 - accuracy: 0.7399 - val_loss: 0.7353 - val_accuracy: 0.6066\n",
      "Epoch 21/30\n",
      "11560/11560 [==============================] - 4s 324us/step - loss: 0.5104 - accuracy: 0.7354 - val_loss: 0.7292 - val_accuracy: 0.5976\n",
      "Epoch 22/30\n",
      "11560/11560 [==============================] - 4s 321us/step - loss: 0.5058 - accuracy: 0.7407 - val_loss: 0.7304 - val_accuracy: 0.6028\n",
      "Epoch 23/30\n",
      "11560/11560 [==============================] - 4s 320us/step - loss: 0.5023 - accuracy: 0.7452 - val_loss: 0.7219 - val_accuracy: 0.6031\n",
      "Epoch 24/30\n",
      "11560/11560 [==============================] - 4s 321us/step - loss: 0.5047 - accuracy: 0.7398 - val_loss: 0.7503 - val_accuracy: 0.6003\n",
      "Epoch 25/30\n",
      "11560/11560 [==============================] - 4s 326us/step - loss: 0.4973 - accuracy: 0.7441 - val_loss: 0.7581 - val_accuracy: 0.5997\n",
      "Epoch 26/30\n",
      "11560/11560 [==============================] - 4s 324us/step - loss: 0.4958 - accuracy: 0.7488 - val_loss: 0.7595 - val_accuracy: 0.6017\n",
      "Epoch 27/30\n",
      "11560/11560 [==============================] - 4s 323us/step - loss: 0.4897 - accuracy: 0.7526 - val_loss: 0.7499 - val_accuracy: 0.5986\n",
      "Epoch 28/30\n",
      "11560/11560 [==============================] - 4s 308us/step - loss: 0.4879 - accuracy: 0.7530 - val_loss: 0.7521 - val_accuracy: 0.6021\n",
      "Epoch 29/30\n",
      "11560/11560 [==============================] - 3s 302us/step - loss: 0.4856 - accuracy: 0.7564 - val_loss: 0.7464 - val_accuracy: 0.6080\n",
      "Epoch 30/30\n",
      "11560/11560 [==============================] - 3s 299us/step - loss: 0.4870 - accuracy: 0.7562 - val_loss: 0.7583 - val_accuracy: 0.6017\n",
      "Test loss: 0.727075924214781 / Test accuracy: 0.6230279803276062\n"
     ]
    },
    {
     "data": {
      "image/png": "[encoded data removed]",
      "text/plain": [
       "<Figure size 432x288 with 1 Axes>"
      ]
     },
     "metadata": {
      "needs_background": "light"
     },
     "output_type": "display_data"
    },
    {
     "data": {
      "text/html": [
       "\n",
       "        <script>\n",
       "            function code_toggle_11162630973065219387() {\n",
       "                $('div.cell.code_cell.rendered.selected').find('div.input').toggle();\n",
       "            }\n",
       "\n",
       "            \n",
       "        </script>\n",
       "\n",
       "        <a href=\"javascript:code_toggle_11162630973065219387()\">Toggle show/hide</a>\n",
       "    "
      ],
      "text/plain": [
       "<IPython.core.display.HTML object>"
      ]
     },
     "execution_count": 28,
     "metadata": {},
     "output_type": "execute_result"
    }
   ],
   "source": [
    "# del model\n",
    "\n",
    "# Model configuration\n",
    "batch_size = 100\n",
    "no_epochs = 30\n",
    "learning_rate = 0.001\n",
    "no_classes = 2\n",
    "validation_spl = 0.2\n",
    "verbosity = 1\n",
    "sample_shape = X_train1.shape[1:]\n",
    "\n",
    "# model = Sequential()\n",
    "# model.add(ConvLSTM2D(filters = 20, kernel_size = (2,2), activation='sigmoid', dropout = 0.3, return_sequences = True, input_shape = sample_shape,data_format='channels_first'))\n",
    "# model.add(BatchNormalization())\n",
    "# # model.add(SpatialDropout3D(1))\n",
    "# model.add(Dense(10, activation='tanh'))\n",
    "# model.add(ConvLSTM2D(filters = 10, kernel_size = (1,1), activation='tanh', dropout = 0.5, return_sequences = True))\n",
    "# model.add(BatchNormalization())\n",
    "# model.add(Flatten())\n",
    "# model.add(Dense(256, activation='relu', kernel_initializer='he_uniform'))\n",
    "# model.add(Dense(no_classes, activation='softmax'))\n",
    "\n",
    "model = Sequential()\n",
    "model.add(ConvLSTM2D(filters = 15, kernel_size = (1,1), activation='tanh', dropout = 0.4, return_sequences = True, input_shape = sample_shape,data_format='channels_first',recurrent_activation='hard_sigmoid'))\n",
    "# model.add(BatchNormalization())\n",
    "# model.add(SpatialDropout3D(1))\n",
    "# model.add(Dense(10, activation='tanh'))\n",
    "# model.add(ConvLSTM2D(filters = 20, kernel_size = (1,1), activation='tanh', dropout = 0.5, return_sequences = True))\n",
    "# model.add(BatchNormalization())\n",
    "model.add(Flatten())\n",
    "# model.add(Dense(256, activation='relu', kernel_initializer='he_uniform'))\n",
    "model.add(Dense(no_classes, activation='softmax'))\n",
    "\n",
    "\n",
    "# Compile the model\n",
    "model.compile(loss=keras.losses.binary_crossentropy,\n",
    "              optimizer=keras.optimizers.Adam(lr=learning_rate),\n",
    "              metrics=['accuracy'])\n",
    "\n",
    "# Fit data to model\n",
    "history = model.fit(X_train1, y_train1,\n",
    "            batch_size=batch_size,\n",
    "            epochs=no_epochs,\n",
    "            verbose=verbosity,\n",
    "            validation_split=validation_spl)\n",
    "\n",
    "# Generate generalization metrics\n",
    "score = model.evaluate(X_test1, y_test1, verbose=0)\n",
    "print(f'Test loss: {score[0]} / Test accuracy: {score[1]}')\n",
    "\n",
    "# Plot history: Categorical crossentropy & Accuracy\n",
    "plt.plot(history.history['loss'], label='Binary crossentropy (training data)')\n",
    "plt.plot(history.history['val_loss'], label='Binary crossentropy (validation data)')\n",
    "plt.plot(history.history['accuracy'], label='Accuracy (training data)')\n",
    "plt.plot(history.history['val_accuracy'], label='Accuracy (validation data)')\n",
    "plt.title('Model performance')\n",
    "plt.ylabel('Loss value')\n",
    "plt.xlabel('No. epoch')\n",
    "plt.legend(loc=\"upper left\")\n",
    "plt.show()\n",
    "\n",
    "hide_toggle()"
   ]
  },
  {
   "cell_type": "code",
   "execution_count": 19,
   "metadata": {},
   "outputs": [],
   "source": [
    "# cool_ind = np.load('maybe_cool_ind.npy')"
   ]
  },
  {
   "cell_type": "code",
   "execution_count": 29,
   "metadata": {},
   "outputs": [],
   "source": [
    "w = model.get_weights()"
   ]
  },
  {
   "cell_type": "code",
   "execution_count": 30,
   "metadata": {},
   "outputs": [
    {
     "name": "stdout",
     "output_type": "stream",
     "text": [
      "liczba warst = 5\n",
      "rozmiar warstwy 0 = (1, 1, 306, 60)\n",
      "rozmiar warstwy 1 = (1, 1, 15, 60)\n",
      "rozmiar warstwy 2 = (60,)\n",
      "rozmiar warstwy 3 = (1125, 2)\n",
      "rozmiar warstwy 4 = (2,)\n"
     ]
    }
   ],
   "source": [
    "print(f'liczba warst = {len(w)}')\n",
    "for no,warstwa in enumerate(w):\n",
    "    print(f'rozmiar warstwy {no} = {warstwa.shape}')"
   ]
  },
  {
   "cell_type": "code",
   "execution_count": 31,
   "metadata": {},
   "outputs": [
    {
     "data": {
      "image/png": "[encoded data removed]",
      "text/plain": [
       "<Figure size 432x288 with 1 Axes>"
      ]
     },
     "metadata": {
      "needs_background": "light"
     },
     "output_type": "display_data"
    },
    {
     "data": {
      "image/png": "[encoded data removed]",
      "text/plain": [
       "<Figure size 432x288 with 1 Axes>"
      ]
     },
     "metadata": {
      "needs_background": "light"
     },
     "output_type": "display_data"
    }
   ],
   "source": [
    "waga = w[0]\n",
    "b = waga[0,0,:,0]\n",
    "f, h0= ss.freqz(b, a=1, worN=512, whole=False,  fs=Fs)\n",
    "b = waga[0,0,:,1]\n",
    "f, h1= ss.freqz(b, a=1, worN=512, whole=False,  fs=Fs)\n",
    "b = waga[0,0,:,2]\n",
    "f, h2= ss.freqz(b, a=1, worN=512, whole=False,  fs=Fs)\n",
    "\n",
    "plt.figure()\n",
    "plt.plot(f, abs(h0))\n",
    "plt.plot(f, abs(h1))\n",
    "plt.plot(f, abs(h2))\n",
    "plt.xlabel('Hz')\n",
    "plt.show()\n",
    "\n",
    "max_freqs=[]\n",
    "for i in range(waga.shape[-1]):\n",
    "    b = waga[0,0,:,i]\n",
    "    f, h0 = ss.freqz(b, a=1, worN=512, whole=False,  fs=Fs)\n",
    "    max_freqs.append(np.argmax(abs(h0))/8)\n",
    "plt.plot(max_freqs)\n",
    "plt.xlabel(\"Numer filtru\")\n",
    "plt.ylabel(\"Częstość [Hz]\")\n",
    "plt.show()"
   ]
  },
  {
   "cell_type": "markdown",
   "metadata": {},
   "source": [
    "# Ze stronki MACHINECURVE"
   ]
  },
  {
   "cell_type": "code",
   "execution_count": 33,
   "metadata": {
    "scrolled": true
   },
   "outputs": [
    {
     "name": "stdout",
     "output_type": "stream",
     "text": [
      "Train on 14450 samples, validate on 3613 samples\n",
      "Epoch 1/30\n",
      " 1700/14450 [==>...........................] - ETA: 12:24 - loss: 7.0772 - accuracy: 0.5118"
     ]
    },
    {
     "ename": "KeyboardInterrupt",
     "evalue": "",
     "output_type": "error",
     "traceback": [
      "\u001b[0;31m---------------------------------------------------------------------------\u001b[0m",
      "\u001b[0;31mKeyboardInterrupt\u001b[0m                         Traceback (most recent call last)",
      "\u001b[0;32m<ipython-input-33-8a13fefedebf>\u001b[0m in \u001b[0;36m<module>\u001b[0;34m\u001b[0m\n\u001b[1;32m     32\u001b[0m             \u001b[0mepochs\u001b[0m\u001b[0;34m=\u001b[0m\u001b[0mno_epochs\u001b[0m\u001b[0;34m,\u001b[0m\u001b[0;34m\u001b[0m\u001b[0;34m\u001b[0m\u001b[0m\n\u001b[1;32m     33\u001b[0m             \u001b[0mverbose\u001b[0m\u001b[0;34m=\u001b[0m\u001b[0mverbosity\u001b[0m\u001b[0;34m,\u001b[0m\u001b[0;34m\u001b[0m\u001b[0;34m\u001b[0m\u001b[0m\n\u001b[0;32m---> 34\u001b[0;31m             validation_data = (X_test1, y_test1))\n\u001b[0m\u001b[1;32m     35\u001b[0m \u001b[0;34m\u001b[0m\u001b[0m\n\u001b[1;32m     36\u001b[0m \u001b[0;34m\u001b[0m\u001b[0m\n",
      "\u001b[0;32m~/.pyenv/versions/3.6.10/envs/test_keras/lib/python3.6/site-packages/keras/engine/training.py\u001b[0m in \u001b[0;36mfit\u001b[0;34m(self, x, y, batch_size, epochs, verbose, callbacks, validation_split, validation_data, shuffle, class_weight, sample_weight, initial_epoch, steps_per_epoch, validation_steps, validation_freq, max_queue_size, workers, use_multiprocessing, **kwargs)\u001b[0m\n\u001b[1;32m   1237\u001b[0m                                         \u001b[0msteps_per_epoch\u001b[0m\u001b[0;34m=\u001b[0m\u001b[0msteps_per_epoch\u001b[0m\u001b[0;34m,\u001b[0m\u001b[0;34m\u001b[0m\u001b[0;34m\u001b[0m\u001b[0m\n\u001b[1;32m   1238\u001b[0m                                         \u001b[0mvalidation_steps\u001b[0m\u001b[0;34m=\u001b[0m\u001b[0mvalidation_steps\u001b[0m\u001b[0;34m,\u001b[0m\u001b[0;34m\u001b[0m\u001b[0;34m\u001b[0m\u001b[0m\n\u001b[0;32m-> 1239\u001b[0;31m                                         validation_freq=validation_freq)\n\u001b[0m\u001b[1;32m   1240\u001b[0m \u001b[0;34m\u001b[0m\u001b[0m\n\u001b[1;32m   1241\u001b[0m     def evaluate(self,\n",
      "\u001b[0;32m~/.pyenv/versions/3.6.10/envs/test_keras/lib/python3.6/site-packages/keras/engine/training_arrays.py\u001b[0m in \u001b[0;36mfit_loop\u001b[0;34m(model, fit_function, fit_inputs, out_labels, batch_size, epochs, verbose, callbacks, val_function, val_inputs, shuffle, initial_epoch, steps_per_epoch, validation_steps, validation_freq)\u001b[0m\n\u001b[1;32m    194\u001b[0m                     \u001b[0mins_batch\u001b[0m\u001b[0;34m[\u001b[0m\u001b[0mi\u001b[0m\u001b[0;34m]\u001b[0m \u001b[0;34m=\u001b[0m \u001b[0mins_batch\u001b[0m\u001b[0;34m[\u001b[0m\u001b[0mi\u001b[0m\u001b[0;34m]\u001b[0m\u001b[0;34m.\u001b[0m\u001b[0mtoarray\u001b[0m\u001b[0;34m(\u001b[0m\u001b[0;34m)\u001b[0m\u001b[0;34m\u001b[0m\u001b[0;34m\u001b[0m\u001b[0m\n\u001b[1;32m    195\u001b[0m \u001b[0;34m\u001b[0m\u001b[0m\n\u001b[0;32m--> 196\u001b[0;31m                 \u001b[0mouts\u001b[0m \u001b[0;34m=\u001b[0m \u001b[0mfit_function\u001b[0m\u001b[0;34m(\u001b[0m\u001b[0mins_batch\u001b[0m\u001b[0;34m)\u001b[0m\u001b[0;34m\u001b[0m\u001b[0;34m\u001b[0m\u001b[0m\n\u001b[0m\u001b[1;32m    197\u001b[0m                 \u001b[0mouts\u001b[0m \u001b[0;34m=\u001b[0m \u001b[0mto_list\u001b[0m\u001b[0;34m(\u001b[0m\u001b[0mouts\u001b[0m\u001b[0;34m)\u001b[0m\u001b[0;34m\u001b[0m\u001b[0;34m\u001b[0m\u001b[0m\n\u001b[1;32m    198\u001b[0m                 \u001b[0;32mfor\u001b[0m \u001b[0ml\u001b[0m\u001b[0;34m,\u001b[0m \u001b[0mo\u001b[0m \u001b[0;32min\u001b[0m \u001b[0mzip\u001b[0m\u001b[0;34m(\u001b[0m\u001b[0mout_labels\u001b[0m\u001b[0;34m,\u001b[0m \u001b[0mouts\u001b[0m\u001b[0;34m)\u001b[0m\u001b[0;34m:\u001b[0m\u001b[0;34m\u001b[0m\u001b[0;34m\u001b[0m\u001b[0m\n",
      "\u001b[0;32m~/.pyenv/versions/3.6.10/envs/test_keras/lib/python3.6/site-packages/tensorflow_core/python/keras/backend.py\u001b[0m in \u001b[0;36m__call__\u001b[0;34m(self, inputs)\u001b[0m\n\u001b[1;32m   3474\u001b[0m \u001b[0;34m\u001b[0m\u001b[0m\n\u001b[1;32m   3475\u001b[0m     fetched = self._callable_fn(*array_vals,\n\u001b[0;32m-> 3476\u001b[0;31m                                 run_metadata=self.run_metadata)\n\u001b[0m\u001b[1;32m   3477\u001b[0m     \u001b[0mself\u001b[0m\u001b[0;34m.\u001b[0m\u001b[0m_call_fetch_callbacks\u001b[0m\u001b[0;34m(\u001b[0m\u001b[0mfetched\u001b[0m\u001b[0;34m[\u001b[0m\u001b[0;34m-\u001b[0m\u001b[0mlen\u001b[0m\u001b[0;34m(\u001b[0m\u001b[0mself\u001b[0m\u001b[0;34m.\u001b[0m\u001b[0m_fetches\u001b[0m\u001b[0;34m)\u001b[0m\u001b[0;34m:\u001b[0m\u001b[0;34m]\u001b[0m\u001b[0;34m)\u001b[0m\u001b[0;34m\u001b[0m\u001b[0;34m\u001b[0m\u001b[0m\n\u001b[1;32m   3478\u001b[0m     output_structure = nest.pack_sequence_as(\n",
      "\u001b[0;32m~/.pyenv/versions/3.6.10/envs/test_keras/lib/python3.6/site-packages/tensorflow_core/python/client/session.py\u001b[0m in \u001b[0;36m__call__\u001b[0;34m(self, *args, **kwargs)\u001b[0m\n\u001b[1;32m   1470\u001b[0m         ret = tf_session.TF_SessionRunCallable(self._session._session,\n\u001b[1;32m   1471\u001b[0m                                                \u001b[0mself\u001b[0m\u001b[0;34m.\u001b[0m\u001b[0m_handle\u001b[0m\u001b[0;34m,\u001b[0m \u001b[0margs\u001b[0m\u001b[0;34m,\u001b[0m\u001b[0;34m\u001b[0m\u001b[0;34m\u001b[0m\u001b[0m\n\u001b[0;32m-> 1472\u001b[0;31m                                                run_metadata_ptr)\n\u001b[0m\u001b[1;32m   1473\u001b[0m         \u001b[0;32mif\u001b[0m \u001b[0mrun_metadata\u001b[0m\u001b[0;34m:\u001b[0m\u001b[0;34m\u001b[0m\u001b[0;34m\u001b[0m\u001b[0m\n\u001b[1;32m   1474\u001b[0m           \u001b[0mproto_data\u001b[0m \u001b[0;34m=\u001b[0m \u001b[0mtf_session\u001b[0m\u001b[0;34m.\u001b[0m\u001b[0mTF_GetBuffer\u001b[0m\u001b[0;34m(\u001b[0m\u001b[0mrun_metadata_ptr\u001b[0m\u001b[0;34m)\u001b[0m\u001b[0;34m\u001b[0m\u001b[0;34m\u001b[0m\u001b[0m\n",
      "\u001b[0;31mKeyboardInterrupt\u001b[0m: "
     ]
    }
   ],
   "source": [
    "del model\n",
    "\n",
    "# Model configuration\n",
    "batch_size = 100\n",
    "no_epochs = 30\n",
    "learning_rate = 0.001\n",
    "no_classes = 2\n",
    "validation_split = 0.2\n",
    "verbosity = 1\n",
    "sample_shape = X_train1.shape[1:]\n",
    "\n",
    "model = Sequential()\n",
    "model.add(Conv3D(32, kernel_size=(4,1,1), activation='tanh', kernel_initializer='he_uniform',data_format='channels_first' ,input_shape=sample_shape))\n",
    "model.add(MaxPooling3D(pool_size=(3,1,1)))\n",
    "model.add(Dropout(0.5))\n",
    "# model.add(Dense(32, activation='softmax'))\n",
    "# model.add(Conv3D(64, kernel_size=(3,2,2), activation='relu', kernel_initializer='he_uniform'))\n",
    "# model.add(MaxPooling3D(pool_size=(2,1,1)))\n",
    "# model.add(Dropout(0.5))\n",
    "model.add(Flatten())\n",
    "model.add(Dense(256, activation='relu', kernel_initializer='he_uniform'))\n",
    "model.add(Dense(no_classes, activation='softmax'))\n",
    "\n",
    "# Compile the model\n",
    "model.compile(loss=keras.losses.binary_crossentropy,\n",
    "              optimizer=keras.optimizers.Adam(lr=learning_rate),\n",
    "              metrics=['accuracy'])\n",
    "\n",
    "# Fit data to model\n",
    "history = model.fit(X_train1, y_train1,\n",
    "            batch_size=batch_size,\n",
    "            epochs=no_epochs,\n",
    "            verbose=verbosity,\n",
    "            validation_data = (X_test1, y_test1))\n",
    "\n",
    "\n",
    "# Plot history: Categorical crossentropy & Accuracy\n",
    "plt.plot(history.history['loss'], label='Binary crossentropy (training data)')\n",
    "plt.plot(history.history['val_loss'], label='Binary crossentropy (validation data)')\n",
    "plt.plot(history.history['accuracy'], label='Accuracy (training data)')\n",
    "plt.plot(history.history['val_accuracy'], label='Accuracy (validation data)')\n",
    "plt.title('Model performance')\n",
    "plt.ylabel('Loss value')\n",
    "plt.xlabel('No. epoch')\n",
    "plt.legend(loc=\"upper left\")\n",
    "plt.show()\n",
    "\n",
    "hide_toggle()"
   ]
  },
  {
   "cell_type": "markdown",
   "metadata": {},
   "source": [
    "# MARTYNY"
   ]
  },
  {
   "cell_type": "code",
   "execution_count": 23,
   "metadata": {
    "scrolled": true
   },
   "outputs": [
    {
     "name": "stdout",
     "output_type": "stream",
     "text": [
      "WARNING:tensorflow:Large dropout rate: 0.6 (>0.5). In TensorFlow 2.x, dropout() uses dropout rate instead of keep_prob. Please ensure that this is intended.\n",
      "WARNING:tensorflow:Large dropout rate: 0.6 (>0.5). In TensorFlow 2.x, dropout() uses dropout rate instead of keep_prob. Please ensure that this is intended.\n",
      "WARNING:tensorflow:Large dropout rate: 0.6 (>0.5). In TensorFlow 2.x, dropout() uses dropout rate instead of keep_prob. Please ensure that this is intended.\n",
      "WARNING:tensorflow:Large dropout rate: 0.6 (>0.5). In TensorFlow 2.x, dropout() uses dropout rate instead of keep_prob. Please ensure that this is intended.\n"
     ]
    },
    {
     "data": {
      "text/html": [
       "\n",
       "        <script>\n",
       "            function code_toggle_11542301131500477410() {\n",
       "                $('div.cell.code_cell.rendered.selected').find('div.input').toggle();\n",
       "            }\n",
       "\n",
       "            \n",
       "        </script>\n",
       "\n",
       "        <a href=\"javascript:code_toggle_11542301131500477410()\">Toggle show/hide</a>\n",
       "    "
      ],
      "text/plain": [
       "<IPython.core.display.HTML object>"
      ]
     },
     "execution_count": 23,
     "metadata": {},
     "output_type": "execute_result"
    }
   ],
   "source": [
    "del model\n",
    "model = Sequential()\n",
    "#model.add(Dense(X_train.shape[-1], activation='sigmoid'))\n",
    "model.add(ConvLSTM2D(filters = 20, kernel_size = (2,2), activation='sigmoid', dropout = 0.2, return_sequences = True, input_shape = (None,3,5,5),data_format='channels_first'))\n",
    "model.add(BatchNormalization())\n",
    "model.add(SpatialDropout3D(1))\n",
    "model.add(Dense(10, activation='tanh'))\n",
    "model.add(ConvLSTM2D(filters = 10, kernel_size = (1,1), activation='tanh', dropout = 0.6, return_sequences = True))\n",
    "model.add(BatchNormalization())\n",
    "#model.add(SpatialDropout3D(1))\n",
    "#model.add(Dense(5, activation='tanh'))\n",
    "# model.add(keras.layers.Conv3D(filters=6, kernel_size=(2,2,1), strides=(1, 1, 1), padding='valid', data_format=None, dilation_rate=(1, 1, 1)))\n",
    "# model.add(ConvLSTM2D(filters = 5, kernel_size = (1,1), activation='sigmoid', dropout = 0.2, return_sequences = True))\n",
    "# model.add(BatchNormalization())\n",
    "# model.add(SpatialDropout3D(1))\n",
    "# model.add(ConvLSTM2D(filters = 3, kernel_size = (1,1), activation='tanh', dropout = 0.2, return_sequences = True))\n",
    "# model.add(BatchNormalization())\n",
    "# #model.add(SpatialDropout3D(1))\n",
    "# #model.add(Dense(10, activation='sigmoid'))\n",
    "# model.add(ConvLSTM2D(filters = 2, kernel_size = (1,1), activation='sigmoid', dropout = 0.2, return_sequences = True))\n",
    "# model.add(BatchNormalization())\n",
    "#model.add(SpatialDropout3D(1))\n",
    "#model.add(Dense(2, activation='tanh'))\n",
    "model.add(ConvLSTM2D(filters = 3, kernel_size = (1,1), activation='tanh', dropout = 0.4,))\n",
    "model.add(BatchNormalization())\n",
    "# model.add(SpatialDropout2D(1))\n",
    "model.add(Dense(1, activation='tanh'))\n",
    "model.add(Flatten())\n",
    "# model.add(Dense(50, activation='sigmoid'))\n",
    "#model.add(Dense(100, activation='sigmoid'))\n",
    "# model.add(Dense(10, activation='tanh'))\n",
    "model.add(Dense(2, activation='sigmoid'))\n",
    "# model.compile(loss='binary_crossentropy', optimizer='sgd', metrics=['accuracy'])\n",
    "# print(model.summary())\n",
    "# fit = model.fit(X_train1, y_train1, validation_data = (X_test1, y_test1), epochs = 100)\n",
    "# predict = model.predict(X_test1)\n",
    "# scores = model.evaluate(X_test1, y_test1, verbose=0)\n",
    "# print(\"Błąd na zbiorze testowym: %.3f%%\" % (100-scores[1]*100))\n",
    "# plt.figure()\n",
    "# plt.plot(fit.history['val_loss'] )# na zbiorze walidacyjnym\n",
    "# plt.plot(fit.history['loss'])# na zb. uczącym \n",
    "# plt.legend(('zb. walidacyjny', 'zb. uczący'))\n",
    "# plt.xlabel('epoki')\n",
    "# plt.ylabel('błąd')\n",
    "# plt.show()\n",
    "\n",
    "# miss_classified = np.unique(\n",
    "#                     np.nonzero(\n",
    "#                         to_categorical(predict) != y_test)[0])\n",
    "\n",
    "hide_toggle()"
   ]
  },
  {
   "cell_type": "markdown",
   "metadata": {},
   "source": [
    "# Zestaw #2\n",
    "\n",
    "### Upośledzona wersja do 2D conv"
   ]
  },
  {
   "cell_type": "code",
   "execution_count": 38,
   "metadata": {
    "scrolled": true
   },
   "outputs": [
    {
     "name": "stdout",
     "output_type": "stream",
     "text": [
      "Rozmiar danych treningowych: X = (12102, 76, 5, 5), y = (12102, 2)\n",
      "Rozmiar danych wejściowych = (18063, 76, 5, 5)\n"
     ]
    },
    {
     "data": {
      "text/html": [
       "\n",
       "        <script>\n",
       "            function code_toggle_1362183521045733448() {\n",
       "                $('div.cell.code_cell.rendered.selected').find('div.input').toggle();\n",
       "            }\n",
       "\n",
       "            \n",
       "        </script>\n",
       "\n",
       "        <a href=\"javascript:code_toggle_1362183521045733448()\">Toggle show/hide</a>\n",
       "    "
      ],
      "text/plain": [
       "<IPython.core.display.HTML object>"
      ]
     },
     "execution_count": 38,
     "metadata": {},
     "output_type": "execute_result"
    }
   ],
   "source": [
    "X2 = X_fin_resamp1[:,:,:,:,0]\n",
    "ind2 = np.arange(X2.shape[0])\n",
    "np.random.shuffle(ind2)\n",
    "\n",
    "X2 = X2[ind2]\n",
    "y22 = y2[ind2]\n",
    "\n",
    "X_train2, X_test2, y_train2, y_test2 = train_test_split(\n",
    "    X2, y2, test_size=0.33, random_state=69)\n",
    "print(f'Rozmiar danych treningowych: X = {X_train2.shape}, y = {y_train2.shape}')\n",
    "print(f'Rozmiar danych wejściowych = {X2.shape}')\n",
    "\n",
    "hide_toggle()"
   ]
  },
  {
   "cell_type": "code",
   "execution_count": 40,
   "metadata": {
    "scrolled": false
   },
   "outputs": [
    {
     "name": "stdout",
     "output_type": "stream",
     "text": [
      "WARNING:tensorflow:From /dmj/fizmed/bkedzierska/.pyenv/versions/3.6.10/envs/test_keras/lib/python3.6/site-packages/tensorflow_core/python/ops/resource_variable_ops.py:1630: calling BaseResourceVariable.__init__ (from tensorflow.python.ops.resource_variable_ops) with constraint is deprecated and will be removed in a future version.\n",
      "Instructions for updating:\n",
      "If using Keras pass *_constraint arguments to layers.\n",
      "WARNING:tensorflow:From /dmj/fizmed/bkedzierska/.pyenv/versions/3.6.10/envs/test_keras/lib/python3.6/site-packages/keras/backend/tensorflow_backend.py:4070: The name tf.nn.max_pool is deprecated. Please use tf.nn.max_pool2d instead.\n",
      "\n"
     ]
    },
    {
     "data": {
      "text/html": [
       "\n",
       "        <script>\n",
       "            function code_toggle_15483225042496557742() {\n",
       "                $('div.cell.code_cell.rendered.selected').find('div.input').toggle();\n",
       "            }\n",
       "\n",
       "            \n",
       "        </script>\n",
       "\n",
       "        <a href=\"javascript:code_toggle_15483225042496557742()\">Toggle show/hide</a>\n",
       "    "
      ],
      "text/plain": [
       "<IPython.core.display.HTML object>"
      ]
     },
     "execution_count": 40,
     "metadata": {},
     "output_type": "execute_result"
    }
   ],
   "source": [
    "# del model\n",
    "\n",
    "# Model configuration\n",
    "batch_size = 10\n",
    "no_epochs = 30\n",
    "learning_rate = 0.001\n",
    "no_classes = 2\n",
    "validation_split = 0.2\n",
    "verbosity = 1\n",
    "sample_shape = X_train2.shape[1:]\n",
    "\n",
    "model = Sequential()\n",
    "model.add(Conv2D(32, kernel_size=(2,2), activation='tanh', kernel_initializer='he_uniform',data_format='channels_first' ,input_shape=sample_shape))\n",
    "model.add(MaxPooling2D(pool_size=(2,2)))\n",
    "model.add(Dropout(0.4))\n",
    "model.add(Dense(32, activation='softmax'))\n",
    "model.add(Conv2D(64, kernel_size=(3,2), activation='relu', kernel_initializer='he_uniform'))\n",
    "model.add(MaxPooling2D(pool_size=(2,1)))\n",
    "model.add(Dropout(0.4))\n",
    "model.add(Flatten())\n",
    "model.add(Dense(256, activation='relu', kernel_initializer='he_uniform'))\n",
    "model.add(Dense(no_classes, activation='softmax'))\n",
    "\n",
    "# Compile the model\n",
    "# model.compile(loss=keras.losses.binary_crossentropy,\n",
    "#               optimizer='sgd',\n",
    "#               metrics=['accuracy'])\n",
    "\n",
    "# # Fit data to model\n",
    "# history = model.fit(X_train2, y_train2,\n",
    "#             batch_size=batch_size,\n",
    "#             epochs=no_epochs,\n",
    "#             verbose=verbosity,\n",
    "#             validation_data = (X_test2, y_test2))\n",
    "\n",
    "\n",
    "# # Plot history: Categorical crossentropy & Accuracy\n",
    "# plt.plot(history.history['loss'], label='Categorical crossentropy (training data)')\n",
    "# plt.plot(history.history['val_loss'], label='Categorical crossentropy (validation data)')\n",
    "# plt.plot(history.history['accuracy'], label='Accuracy (training data)')\n",
    "# plt.plot(history.history['val_accuracy'], label='Accuracy (validation data)')\n",
    "# plt.title('Model performance for 3D MNIST Keras Conv3D example')\n",
    "# plt.ylabel('Loss value')\n",
    "# plt.xlabel('No. epoch')\n",
    "# plt.legend(loc=\"upper left\")\n",
    "# plt.show()\n",
    "\n",
    "hide_toggle()"
   ]
  },
  {
   "cell_type": "markdown",
   "metadata": {},
   "source": [
    "### Zabawy/testy na sinusach"
   ]
  },
  {
   "cell_type": "markdown",
   "metadata": {},
   "source": [
    "Resamplowanie"
   ]
  },
  {
   "cell_type": "code",
   "execution_count": 24,
   "metadata": {
    "scrolled": true
   },
   "outputs": [
    {
     "data": {
      "image/png": "[encoded data removed]",
      "text/plain": [
       "<Figure size 432x288 with 1 Axes>"
      ]
     },
     "metadata": {
      "needs_background": "light"
     },
     "output_type": "display_data"
    },
    {
     "data": {
      "text/html": [
       "\n",
       "        <script>\n",
       "            function code_toggle_5786661939930277163() {\n",
       "                $('div.cell.code_cell.rendered.selected').find('div.input').toggle();\n",
       "            }\n",
       "\n",
       "            \n",
       "        </script>\n",
       "\n",
       "        <a href=\"javascript:code_toggle_5786661939930277163()\">Toggle show/hide</a>\n",
       "    "
      ],
      "text/plain": [
       "<IPython.core.display.HTML object>"
      ]
     },
     "execution_count": 24,
     "metadata": {},
     "output_type": "execute_result"
    }
   ],
   "source": [
    "t = np.arange(0,1,1/246)\n",
    "sinus = np.sin(2*np.pi*24*t)\n",
    "down_sin = ss.resample(sinus,64)\n",
    "plt.plot(sinus)\n",
    "plt.plot(down_sin,'r.')\n",
    "plt.show()\n",
    "\n",
    "hide_toggle()"
   ]
  },
  {
   "cell_type": "code",
   "execution_count": 25,
   "metadata": {
    "scrolled": true
   },
   "outputs": [
    {
     "data": {
      "image/png": "[encoded data removed]",
      "text/plain": [
       "<Figure size 432x288 with 1 Axes>"
      ]
     },
     "metadata": {
      "needs_background": "light"
     },
     "output_type": "display_data"
    },
    {
     "data": {
      "image/png": "[encoded data removed]",
      "text/plain": [
       "<Figure size 432x288 with 1 Axes>"
      ]
     },
     "metadata": {
      "needs_background": "light"
     },
     "output_type": "display_data"
    },
    {
     "data": {
      "image/png": "[encoded data removed]",
      "text/plain": [
       "<Figure size 432x288 with 1 Axes>"
      ]
     },
     "metadata": {
      "needs_background": "light"
     },
     "output_type": "display_data"
    },
    {
     "data": {
      "image/png": "[encoded data removed]",
      "text/plain": [
       "<Figure size 432x288 with 1 Axes>"
      ]
     },
     "metadata": {
      "needs_background": "light"
     },
     "output_type": "display_data"
    },
    {
     "data": {
      "image/png": "[encoded data removed]",
      "text/plain": [
       "<Figure size 432x288 with 1 Axes>"
      ]
     },
     "metadata": {
      "needs_background": "light"
     },
     "output_type": "display_data"
    },
    {
     "data": {
      "text/html": [
       "\n",
       "        <script>\n",
       "            function code_toggle_14111506674237410896() {\n",
       "                $('div.cell.code_cell.rendered.selected').find('div.input').toggle();\n",
       "            }\n",
       "\n",
       "            \n",
       "        </script>\n",
       "\n",
       "        <a href=\"javascript:code_toggle_14111506674237410896()\">Toggle show/hide</a>\n",
       "    "
      ],
      "text/plain": [
       "<IPython.core.display.HTML object>"
      ]
     },
     "execution_count": 25,
     "metadata": {},
     "output_type": "execute_result"
    }
   ],
   "source": [
    "sigg=sinus+np.sin(2*np.pi*16*t)\n",
    "obw = ss.hilbert(sigg)\n",
    "plt.plot(np.abs(obw))\n",
    "# plt.show()\n",
    "plt.plot(sigg)\n",
    "plt.show()\n",
    "\n",
    "for i in (1000,12000,8000,18000):\n",
    "    sig_real = X_final[i,2,2,:,0]\n",
    "    obw2 = ss.hilbert(sig_real)\n",
    "    plt.title(y[i])\n",
    "    plt.plot(np.abs(obw2),label='obw')\n",
    "    # plt.show()\n",
    "    plt.plot(sig_real, label='syg' )\n",
    "    plt.legend()\n",
    "    plt.show()\n",
    "    \n",
    "hide_toggle()"
   ]
  }
 ],
 "metadata": {
  "kernelspec": {
   "display_name": "Python 3",
   "language": "python",
   "name": "python3"
  },
  "language_info": {
   "codemirror_mode": {
    "name": "ipython",
    "version": 3
   },
   "file_extension": ".py",
   "mimetype": "text/x-python",
   "name": "python",
   "nbconvert_exporter": "python",
   "pygments_lexer": "ipython3",
   "version": "3.6.10"
  }
 },
 "nbformat": 4,
 "nbformat_minor": 4
}
