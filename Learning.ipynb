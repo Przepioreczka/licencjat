{
 "cells": [
  {
   "cell_type": "code",
   "execution_count": null,
   "metadata": {},
   "outputs": [],
   "source": [
    "#zwykła konwolucyjna sieć - obrazek czas x czestosc, kanały RGB - elektrody - przetestować\n",
    "#CONV2D, minpooling potem, dense (f-cja aktywacji softmax) - wyjscie to p-stwo wyjscia z klas\n",
    "#punkt początkowy j.w.\n",
    "#filtr dla sieci - dłuższy w czasie (np. 7,11), najwyżej dociać\n",
    "#zbiory uczące - potem będziemy składać sieci\n",
    "#zbiory - 2 sposoby jak je budować (od Mateusza)\n",
    "#widmo - spr do jakiej częstości obciąć (z tego co wychodzi z abs hilberta), 6 razy mniej (?)\n",
    "#kilka próbek od kilku pacjentów\n",
    "\n",
    "#wyćwiczone na wszystkich - wyzerować któreś i tak sprawdzić (pasmo częstowściowe)\n"
   ]
  },
  {
   "cell_type": "code",
   "execution_count": null,
   "metadata": {},
   "outputs": [],
   "source": [
    "''' 25 na 5 foldów - 5x5 średnie acc, auc\n",
    "    8 walidacyjnych zostaje\n",
    "    5 różnych modeli - dla każddego z osobna walidacja\n",
    "    jesli więcej niż 3 modele na daną klase - zaklasyfikowany - policzyć accuracy,\n",
    "    wykresy acc w czasie i loss w czasie dla każdej z 5 (25 na 5 foldów) modeli (w każdej iteracji),\n",
    "    sprawadź dla paru batch size jak sie zachowują wykresy,\n",
    "    '''"
   ]
  },
  {
   "cell_type": "code",
   "execution_count": 58,
   "metadata": {},
   "outputs": [],
   "source": [
    "import numpy as np\n",
    "import matplotlib.pyplot as plt\n",
    "from tensorflow.keras.models import Sequential\n",
    "from tensorflow.keras.layers import Dense, Conv2D, AveragePooling2D, Flatten, Dropout\n",
    "from tensorflow.keras.utils import to_categorical\n",
    "from sklearn.model_selection import train_test_split\n"
   ]
  },
  {
   "cell_type": "markdown",
   "metadata": {},
   "source": [
    "# Loading data"
   ]
  },
  {
   "cell_type": "code",
   "execution_count": 34,
   "metadata": {},
   "outputs": [],
   "source": [
    "class_no8 = np.load('class_no8.npy')\n",
    "data_no8 = np.load('data_no8.npy')\n",
    "\n",
    "\n",
    "class_no13 = np.load('class_no13.npy')\n",
    "data_no13 = np.load('data_no13.npy')\n",
    "\n",
    "class_no18 = np.load('class_no18.npy')\n",
    "data_no18 = np.load('data_no18.npy')\n",
    "\n",
    "class_no23 = np.load('class_no23.npy')\n",
    "data_no23 = np.load('data_no23.npy')\n",
    "\n",
    "class_no28 = np.load('class_no28.npy')\n",
    "data_no28 = np.load('data_no28.npy')\n",
    "\n",
    "class_no33 = np.load('class_no33.npy')\n",
    "data_no33 = np.load('data_no33.npy')"
   ]
  },
  {
   "cell_type": "markdown",
   "metadata": {},
   "source": [
    "### Validation dataset"
   ]
  },
  {
   "cell_type": "code",
   "execution_count": 35,
   "metadata": {},
   "outputs": [
    {
     "name": "stdout",
     "output_type": "stream",
     "text": [
      "(7285, 77, 5, 19)\n"
     ]
    },
    {
     "data": {
      "text/plain": [
       "(7285, 2)"
      ]
     },
     "execution_count": 35,
     "metadata": {},
     "output_type": "execute_result"
    }
   ],
   "source": [
    "X_validation = np.einsum('ijkl->jlik',data_no8)\n",
    "y_validation = to_categorical(class_no8).astype(int)\n",
    "print(X_validation.shape)\n",
    "y_validation.shape"
   ]
  },
  {
   "cell_type": "markdown",
   "metadata": {},
   "source": [
    "### Training dataset"
   ]
  },
  {
   "cell_type": "code",
   "execution_count": 36,
   "metadata": {},
   "outputs": [
    {
     "name": "stdout",
     "output_type": "stream",
     "text": [
      "(18090, 77, 5, 19)\n"
     ]
    },
    {
     "data": {
      "text/plain": [
       "(18090, 2)"
      ]
     },
     "execution_count": 36,
     "metadata": {},
     "output_type": "execute_result"
    }
   ],
   "source": [
    "X_train = np.concatenate((data_no13,data_no18,data_no23,data_no28), axis = 1)\n",
    "X_train = np.einsum('ijkl->jlik', X_train)\n",
    "y_train = np.concatenate((class_no13,class_no18,class_no23,class_no28))\n",
    "y_train = to_categorical(y_train).astype(int)\n",
    "print(X_train.shape)\n",
    "y_train.shape"
   ]
  },
  {
   "cell_type": "markdown",
   "metadata": {},
   "source": [
    "### Test dataset"
   ]
  },
  {
   "cell_type": "code",
   "execution_count": 37,
   "metadata": {},
   "outputs": [
    {
     "name": "stdout",
     "output_type": "stream",
     "text": [
      "(4672, 77, 5, 19)\n"
     ]
    },
    {
     "data": {
      "text/plain": [
       "(4672, 2)"
      ]
     },
     "execution_count": 37,
     "metadata": {},
     "output_type": "execute_result"
    }
   ],
   "source": [
    "X_test = np.einsum('ijkl->jlik',data_no33)\n",
    "y_test = to_categorical(class_no33).astype(int)\n",
    "print(X_test.shape)\n",
    "y_test.shape"
   ]
  },
  {
   "cell_type": "code",
   "execution_count": 102,
   "metadata": {},
   "outputs": [],
   "source": [
    "batch_size = 200\n",
    "no_epochs = 30\n",
    "learning_rate = 0.001\n",
    "no_classes = 2\n",
    "validation_spl = 0.3\n",
    "verbosity = 1\n",
    "sample_shape = (X_train.shape[1], X_train.shape[2], X_train.shape[3])\n"
   ]
  },
  {
   "cell_type": "code",
   "execution_count": 105,
   "metadata": {},
   "outputs": [],
   "source": [
    "model = Sequential()\n",
    "model.add(Conv2D(60, kernel_size = (7,1),input_shape=sample_shape, activation='relu', data_format = 'channels_last'))\n",
    "model.add(AveragePooling2D((7,1)))\n",
    "model.add(Dense(64, activation='softmax'))\n",
    "model.add(Dropout(0.4))\n",
    "model.add(Flatten())\n",
    "\n",
    "model.add(Dense(no_classes, activation='relu'))\n",
    "\n",
    "model.compile(loss='binary_crossentropy', optimizer='adam', metrics=['accuracy'])"
   ]
  },
  {
   "cell_type": "code",
   "execution_count": 106,
   "metadata": {
    "scrolled": false
   },
   "outputs": [
    {
     "name": "stdout",
     "output_type": "stream",
     "text": [
      "Train on 18090 samples, validate on 4672 samples\n",
      "Epoch 1/30\n",
      "18090/18090 [==============================] - 3s 157us/sample - loss: 0.7839 - acc: 0.5017 - val_loss: 0.6934 - val_acc: 0.5032\n",
      "Epoch 2/30\n",
      "18090/18090 [==============================] - 2s 122us/sample - loss: 0.6939 - acc: 0.5019 - val_loss: 0.6928 - val_acc: 0.5137\n",
      "Epoch 3/30\n",
      "18090/18090 [==============================] - 2s 123us/sample - loss: 0.6931 - acc: 0.5096 - val_loss: 0.6921 - val_acc: 0.5156\n",
      "Epoch 4/30\n",
      "18090/18090 [==============================] - 2s 124us/sample - loss: 0.6923 - acc: 0.5153 - val_loss: 0.6913 - val_acc: 0.5224\n",
      "Epoch 5/30\n",
      "18090/18090 [==============================] - 2s 125us/sample - loss: 0.6912 - acc: 0.5235 - val_loss: 0.6904 - val_acc: 0.5260\n",
      "Epoch 6/30\n",
      "18090/18090 [==============================] - 2s 124us/sample - loss: 0.6894 - acc: 0.5335 - val_loss: 0.6892 - val_acc: 0.5355\n",
      "Epoch 7/30\n",
      "18090/18090 [==============================] - 2s 123us/sample - loss: 0.6883 - acc: 0.5430 - val_loss: 0.6885 - val_acc: 0.5384\n",
      "Epoch 8/30\n",
      "18090/18090 [==============================] - 2s 124us/sample - loss: 0.6867 - acc: 0.5466 - val_loss: 0.6878 - val_acc: 0.5399\n",
      "Epoch 9/30\n",
      "18090/18090 [==============================] - 2s 122us/sample - loss: 0.6851 - acc: 0.5500 - val_loss: 0.6866 - val_acc: 0.5447\n",
      "Epoch 10/30\n",
      "18090/18090 [==============================] - 2s 123us/sample - loss: 0.6825 - acc: 0.5610 - val_loss: 0.6866 - val_acc: 0.5496\n",
      "Epoch 11/30\n",
      "18090/18090 [==============================] - 2s 124us/sample - loss: 0.6808 - acc: 0.5636 - val_loss: 0.6858 - val_acc: 0.5501\n",
      "Epoch 12/30\n",
      "18090/18090 [==============================] - 2s 124us/sample - loss: 0.6778 - acc: 0.5735 - val_loss: 0.6862 - val_acc: 0.5499\n",
      "Epoch 13/30\n",
      "18090/18090 [==============================] - 2s 124us/sample - loss: 0.6767 - acc: 0.5702 - val_loss: 0.6852 - val_acc: 0.5518\n",
      "Epoch 14/30\n",
      "18090/18090 [==============================] - 2s 124us/sample - loss: 0.6749 - acc: 0.5778 - val_loss: 0.6856 - val_acc: 0.5573\n",
      "Epoch 15/30\n",
      "18090/18090 [==============================] - 2s 123us/sample - loss: 0.6733 - acc: 0.5803 - val_loss: 0.6842 - val_acc: 0.5507\n",
      "Epoch 16/30\n",
      "18090/18090 [==============================] - 2s 122us/sample - loss: 0.6698 - acc: 0.5850 - val_loss: 0.6839 - val_acc: 0.5544\n",
      "Epoch 17/30\n",
      "18090/18090 [==============================] - 2s 122us/sample - loss: 0.6680 - acc: 0.5880 - val_loss: 0.6876 - val_acc: 0.5488\n",
      "Epoch 18/30\n",
      "18090/18090 [==============================] - 2s 123us/sample - loss: 0.6657 - acc: 0.5973 - val_loss: 0.6842 - val_acc: 0.5536\n",
      "Epoch 19/30\n",
      "18090/18090 [==============================] - 2s 121us/sample - loss: 0.6650 - acc: 0.5911 - val_loss: 0.6872 - val_acc: 0.5489\n",
      "Epoch 20/30\n",
      "18090/18090 [==============================] - 2s 124us/sample - loss: 0.6671 - acc: 0.5965 - val_loss: 0.7048 - val_acc: 0.5332\n",
      "Epoch 21/30\n",
      "18090/18090 [==============================] - 2s 128us/sample - loss: 0.6715 - acc: 0.5860 - val_loss: 0.6865 - val_acc: 0.5507\n",
      "Epoch 22/30\n",
      "18090/18090 [==============================] - 2s 127us/sample - loss: 0.6599 - acc: 0.6010 - val_loss: 0.6878 - val_acc: 0.5516\n",
      "Epoch 23/30\n",
      "18090/18090 [==============================] - 2s 127us/sample - loss: 0.6598 - acc: 0.6039 - val_loss: 0.6893 - val_acc: 0.5449\n",
      "Epoch 24/30\n",
      "18090/18090 [==============================] - 2s 126us/sample - loss: 0.6594 - acc: 0.6020 - val_loss: 0.6864 - val_acc: 0.5497\n",
      "Epoch 25/30\n",
      "18090/18090 [==============================] - 2s 126us/sample - loss: 0.6589 - acc: 0.6022 - val_loss: 0.6877 - val_acc: 0.5555\n",
      "Epoch 26/30\n",
      "18090/18090 [==============================] - 2s 125us/sample - loss: 0.6555 - acc: 0.6087 - val_loss: 0.6863 - val_acc: 0.5582\n",
      "Epoch 27/30\n",
      "18090/18090 [==============================] - 2s 124us/sample - loss: 0.6543 - acc: 0.6148 - val_loss: 0.6889 - val_acc: 0.5463\n",
      "Epoch 28/30\n",
      "18090/18090 [==============================] - 2s 122us/sample - loss: 0.6490 - acc: 0.6164 - val_loss: 0.6889 - val_acc: 0.5463\n",
      "Epoch 29/30\n",
      "18090/18090 [==============================] - 2s 125us/sample - loss: 0.6458 - acc: 0.6233 - val_loss: 0.6898 - val_acc: 0.5498\n",
      "Epoch 30/30\n",
      "18090/18090 [==============================] - 2s 123us/sample - loss: 0.6423 - acc: 0.6252 - val_loss: 0.6911 - val_acc: 0.5455\n",
      "Test loss: 0.687042483509446 / Test accuracy: 0.5636239051818848\n"
     ]
    },
    {
     "data": {
      "image/png": "[encoded data removed]",
      "text/plain": [
       "<Figure size 864x576 with 1 Axes>"
      ]
     },
     "metadata": {
      "needs_background": "light"
     },
     "output_type": "display_data"
    }
   ],
   "source": [
    "# Fit data to model\n",
    "history = model.fit(X_train, y_train,\n",
    "            batch_size=batch_size,\n",
    "            epochs=no_epochs,\n",
    "            verbose=verbosity,\n",
    "            validation_data=(X_test, y_test))\n",
    "\n",
    "# Generate generalization metrics\n",
    "score = model.evaluate(X_validation, y_validation, verbose=0)\n",
    "print(f'Test loss: {score[0]} / Test accuracy: {score[1]}')\n",
    "\n",
    "# Plot history: Categorical crossentropy & Accuracy\n",
    "plt.figure(figsize=(12,8))\n",
    "plt.plot(history.history['loss'], label='Binary crossentropy (training data)')\n",
    "plt.plot(history.history['val_loss'], label='Binary crossentropy (validation data)')\n",
    "plt.plot(history.history['acc'], label='Accuracy (training data)')\n",
    "plt.plot(history.history['val_acc'], label='Accuracy (validation data)')\n",
    "plt.title('Model performance')\n",
    "plt.ylabel('Loss value')\n",
    "plt.xlabel('No. epoch')\n",
    "plt.legend(loc=\"upper left\")\n",
    "plt.show()"
   ]
  },
  {
   "cell_type": "code",
   "execution_count": null,
   "metadata": {},
   "outputs": [],
   "source": []
  },
  {
   "cell_type": "code",
   "execution_count": null,
   "metadata": {},
   "outputs": [],
   "source": []
  }
 ],
 "metadata": {
  "kernelspec": {
   "display_name": "Python 3",
   "language": "python",
   "name": "python3"
  },
  "language_info": {
   "codemirror_mode": {
    "name": "ipython",
    "version": 3
   },
   "file_extension": ".py",
   "mimetype": "text/x-python",
   "name": "python",
   "nbconvert_exporter": "python",
   "pygments_lexer": "ipython3",
   "version": "3.6.10"
  }
 },
 "nbformat": 4,
 "nbformat_minor": 4
}
