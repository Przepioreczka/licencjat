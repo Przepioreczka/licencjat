{
 "cells": [
  {
   "cell_type": "code",
   "execution_count": 1,
   "metadata": {},
   "outputs": [],
   "source": [
    "#zwykła konwolucyjna sieć - obrazek czas x czestosc, kanały RGB - elektrody - przetestować\n",
    "#CONV2D, minpooling potem, dense (f-cja aktywacji softmax) - wyjscie to p-stwo wyjscia z klas\n",
    "#punkt początkowy j.w.\n",
    "#filtr dla sieci - dłuższy w czasie (np. 7,11), najwyżej dociać\n",
    "#zbiory uczące - potem będziemy składać sieci\n",
    "#zbiory - 2 sposoby jak je budować (od Mateusza)\n",
    "#widmo - spr do jakiej częstości obciąć (z tego co wychodzi z abs hilberta), 6 razy mniej (?)\n",
    "#kilka próbek od kilku pacjentów\n",
    "\n",
    "#wyćwiczone na wszystkich - wyzerować któreś i tak sprawdzić (pasmo częstowściowe)\n"
   ]
  },
  {
   "cell_type": "code",
   "execution_count": 2,
   "metadata": {},
   "outputs": [
    {
     "data": {
      "text/plain": [
       "' 25 na 5 foldów - 5x5 średnie acc, auc\\n    8 walidacyjnych zostaje\\n    5 różnych modeli - dla każddego z osobna walidacja\\n    jesli więcej niż 3 modele na daną klase - zaklasyfikowany - policzyć accuracy,\\n    wykresy acc w czasie i loss w czasie dla każdej z 5 (25 na 5 foldów) modeli (w każdej iteracji),\\n    sprawadź dla paru batch size jak sie zachowują wykresy,\\n    '"
      ]
     },
     "execution_count": 2,
     "metadata": {},
     "output_type": "execute_result"
    }
   ],
   "source": [
    "''' 25 na 5 foldów - 5x5 średnie acc, auc\n",
    "    8 walidacyjnych zostaje\n",
    "    5 różnych modeli - dla każddego z osobna walidacja\n",
    "    jesli więcej niż 3 modele na daną klase - zaklasyfikowany - policzyć accuracy,\n",
    "    wykresy acc w czasie i loss w czasie dla każdej z 5 (25 na 5 foldów) modeli (w każdej iteracji),\n",
    "    sprawadź dla paru batch size jak sie zachowują wykresy,\n",
    "    '''"
   ]
  },
  {
   "cell_type": "code",
   "execution_count": 2,
   "metadata": {},
   "outputs": [],
   "source": [
    "import numpy as np\n",
    "import matplotlib.pyplot as plt\n",
    "from tensorflow.keras.models import Sequential\n",
    "from tensorflow.keras.layers import Dense, Conv2D, AveragePooling2D, Flatten, Dropout\n",
    "from tensorflow.keras.utils import to_categorical\n",
    "from sklearn.model_selection import train_test_split\n",
    "from typing import Iterable, Union\n",
    "from numpy.random import seed\n",
    "seed(2020)\n",
    "from tensorflow import set_random_seed\n",
    "set_random_seed(2020)"
   ]
  },
  {
   "cell_type": "code",
   "execution_count": 6,
   "metadata": {},
   "outputs": [],
   "source": [
    "def get_training(X, y, combinations):\n",
    "    X_train = np.concatenate([X[ind] for ind in combinations], axis = 1)\n",
    "    X_train = np.einsum('ijkl->jlik', X_train)\n",
    "    y_train = np.concatenate([y[ind] for ind in combinations])\n",
    "    y_train = to_categorical(y_train).astype(int)\n",
    "    return X_train, y_train\n",
    "\n",
    "def get_test(X, y, ind):\n",
    "    X_test = np.einsum('ijkl->jlik',X[ind])\n",
    "    y_test = to_categorical(y[ind]).astype(int)\n",
    "    return X_test, y_test\n",
    "\n"
   ]
  },
  {
   "cell_type": "code",
   "execution_count": 40,
   "metadata": {},
   "outputs": [],
   "source": [
    "def evaluate(model, X_val: Iterable, y_val: Iterable, verbose = 1):\n",
    "    # Generate generalization metrics\n",
    "    score = model.evaluate(X_val, y_val, verbose=0)\n",
    "    if verbose:\n",
    "        print(f'Test loss: {score[0]} / Test accuracy: {score[1]}')\n",
    "    return score\n",
    "\n",
    "def plot_history(history, loss_fun: str):\n",
    "    # Plot history: Categorical crossentropy & Accuracy\n",
    "    plt.figure(figsize=(12,8))\n",
    "    plt.plot(history.history['loss'], label=loss_fun + '(training data)')\n",
    "    plt.plot(history.history['val_loss'], label=loss_fun + '(validation data)')\n",
    "    plt.plot(history.history['acc'], label='Accuracy (training data)')\n",
    "    plt.plot(history.history['val_acc'], label='Accuracy (validation data)')\n",
    "    plt.title('Model performance')\n",
    "    plt.ylabel('Loss value')\n",
    "    plt.xlabel('No. epoch')\n",
    "    plt.legend(loc=\"upper left\")\n",
    "    plt.show()"
   ]
  },
  {
   "cell_type": "code",
   "execution_count": 39,
   "metadata": {},
   "outputs": [],
   "source": [
    "def create_model(sample_shape: Iterable,\n",
    "                 no_classes: int, \n",
    "                 loss_fun = 'binary_crossentropy'):\n",
    "    model = Sequential()\n",
    "    model.add(Conv2D(64, kernel_size = (11,1),input_shape=sample_shape, activation='relu', data_format = 'channels_last'))\n",
    "    model.add(AveragePooling2D((11,1)))\n",
    "    model.add(Dropout(0.4))\n",
    "    model.add(Dense(64, activation='softmax'))\n",
    "    model.add(Flatten())\n",
    "    model.add(Dropout(0.4))\n",
    "    model.add(Dense(no_classes, activation='softmax'))\n",
    "    model.compile(loss=loss_fun, optimizer='adam', metrics=['accuracy'])\n",
    "    return model\n",
    "\n",
    "def fit(model, X_train: Iterable, y_train: Iterable, \n",
    "                      X_test: Iterable, y_test: Iterable,\n",
    "                      batch_size: int, no_epochs: int, \n",
    "                      verbosity = 1):\n",
    "    \n",
    "    # Fit data to model\n",
    "    history = model.fit(X_train, y_train,\n",
    "                batch_size=batch_size,\n",
    "                epochs=no_epochs,\n",
    "                verbose=verbosity,\n",
    "                validation_data=(X_test, y_test))\n",
    "    return model, history"
   ]
  },
  {
   "cell_type": "markdown",
   "metadata": {},
   "source": [
    "# Loading data"
   ]
  },
  {
   "cell_type": "code",
   "execution_count": 3,
   "metadata": {},
   "outputs": [],
   "source": [
    "class_no8 = np.load('class_no8.npy')\n",
    "data_no8 = np.load('data_no8.npy')\n",
    "\n",
    "\n",
    "class_no13 = np.load('class_no13.npy')\n",
    "data_no13 = np.load('data_no13.npy')\n",
    "\n",
    "class_no18 = np.load('class_no18.npy')\n",
    "data_no18 = np.load('data_no18.npy')\n",
    "\n",
    "class_no23 = np.load('class_no23.npy')\n",
    "data_no23 = np.load('data_no23.npy')\n",
    "\n",
    "class_no28 = np.load('class_no28.npy')\n",
    "data_no28 = np.load('data_no28.npy')\n",
    "\n",
    "class_no33 = np.load('class_no33.npy')\n",
    "data_no33 = np.load('data_no33.npy')"
   ]
  },
  {
   "cell_type": "markdown",
   "metadata": {},
   "source": [
    "### Validation dataset"
   ]
  },
  {
   "cell_type": "code",
   "execution_count": 4,
   "metadata": {},
   "outputs": [
    {
     "name": "stdout",
     "output_type": "stream",
     "text": [
      "(7285, 77, 5, 19)\n"
     ]
    },
    {
     "data": {
      "text/plain": [
       "(7285, 2)"
      ]
     },
     "execution_count": 4,
     "metadata": {},
     "output_type": "execute_result"
    }
   ],
   "source": [
    "X_validation = np.einsum('ijkl->jlik',data_no8)\n",
    "y_validation = to_categorical(class_no8).astype(int)"
   ]
  },
  {
   "cell_type": "markdown",
   "metadata": {},
   "source": [
    "## Prepared combinations"
   ]
  },
  {
   "cell_type": "code",
   "execution_count": 5,
   "metadata": {},
   "outputs": [],
   "source": [
    "X = {1 : data_no13, 2: data_no18, 3: data_no23, 4: data_no28, 5: data_no33}\n",
    "y = {1 : class_no13, 2: class_no18, 3: class_no23, 4: class_no28, 5: class_no33}\n",
    "combinations_train = ((1,2,3,4),\n",
    "                      (1,2,3,5),\n",
    "                      (1,2,4,5),\n",
    "                      (1,3,4,5),\n",
    "                      (2,3,4,5))\n",
    "\n",
    "combinations_test = (5, 4, 3, 2, 1)"
   ]
  },
  {
   "cell_type": "markdown",
   "metadata": {},
   "source": [
    "### Params"
   ]
  },
  {
   "cell_type": "code",
   "execution_count": 43,
   "metadata": {},
   "outputs": [],
   "source": [
    "batch_size = 200\n",
    "no_epochs = 30\n",
    "verbosity = 1\n",
    "loss_fun = 'categorical_crossentropy'"
   ]
  },
  {
   "cell_type": "markdown",
   "metadata": {},
   "source": [
    "## Datasets"
   ]
  },
  {
   "cell_type": "code",
   "execution_count": 44,
   "metadata": {},
   "outputs": [],
   "source": [
    "combination = 1\n",
    "X_train, y_train = get_training(X, y, combinations_train[combination])\n",
    "X_test, y_test = get_test(X, y, combinations_test[combination])\n",
    "sample_shape = (X_train.shape[1], X_train.shape[2], X_train.shape[3])"
   ]
  },
  {
   "cell_type": "markdown",
   "metadata": {},
   "source": [
    "## Learning"
   ]
  },
  {
   "cell_type": "code",
   "execution_count": 45,
   "metadata": {},
   "outputs": [
    {
     "name": "stdout",
     "output_type": "stream",
     "text": [
      "Train on 18144 samples, validate on 4618 samples\n",
      "Epoch 1/30\n",
      "18144/18144 [==============================] - 3s 154us/sample - loss: 0.6927 - acc: 0.5118 - val_loss: 0.6898 - val_acc: 0.5351\n",
      "Epoch 2/30\n",
      "18144/18144 [==============================] - 2s 135us/sample - loss: 0.6888 - acc: 0.5385 - val_loss: 0.6865 - val_acc: 0.5457\n",
      "Epoch 3/30\n",
      "18144/18144 [==============================] - 2s 134us/sample - loss: 0.6851 - acc: 0.5527 - val_loss: 0.6846 - val_acc: 0.5580\n",
      "Epoch 4/30\n",
      "18144/18144 [==============================] - 2s 137us/sample - loss: 0.6825 - acc: 0.5606 - val_loss: 0.6836 - val_acc: 0.5528\n",
      "Epoch 5/30\n",
      "18144/18144 [==============================] - 2s 133us/sample - loss: 0.6802 - acc: 0.5681 - val_loss: 0.6822 - val_acc: 0.5608\n",
      "Epoch 6/30\n",
      "18144/18144 [==============================] - 2s 135us/sample - loss: 0.6785 - acc: 0.5666 - val_loss: 0.6813 - val_acc: 0.5663\n",
      "Epoch 7/30\n",
      "18144/18144 [==============================] - 2s 135us/sample - loss: 0.6780 - acc: 0.5724 - val_loss: 0.6821 - val_acc: 0.5606\n",
      "Epoch 8/30\n",
      "18144/18144 [==============================] - 2s 136us/sample - loss: 0.6761 - acc: 0.5780 - val_loss: 0.6820 - val_acc: 0.5704\n",
      "Epoch 9/30\n",
      "18144/18144 [==============================] - 2s 135us/sample - loss: 0.6750 - acc: 0.5810 - val_loss: 0.6808 - val_acc: 0.5708\n",
      "Epoch 10/30\n",
      "18144/18144 [==============================] - 2s 137us/sample - loss: 0.6736 - acc: 0.5816 - val_loss: 0.6807 - val_acc: 0.5656\n",
      "Epoch 11/30\n",
      "18144/18144 [==============================] - 2s 135us/sample - loss: 0.6721 - acc: 0.5877 - val_loss: 0.6817 - val_acc: 0.5663\n",
      "Epoch 12/30\n",
      "18144/18144 [==============================] - 2s 137us/sample - loss: 0.6716 - acc: 0.5831 - val_loss: 0.6818 - val_acc: 0.5650\n",
      "Epoch 13/30\n",
      "18144/18144 [==============================] - 2s 134us/sample - loss: 0.6699 - acc: 0.5865 - val_loss: 0.6829 - val_acc: 0.5693\n",
      "Epoch 14/30\n",
      "18144/18144 [==============================] - 2s 135us/sample - loss: 0.6676 - acc: 0.5900 - val_loss: 0.6803 - val_acc: 0.5697\n",
      "Epoch 15/30\n",
      "18144/18144 [==============================] - 2s 135us/sample - loss: 0.6689 - acc: 0.5920 - val_loss: 0.6804 - val_acc: 0.5717\n",
      "Epoch 16/30\n",
      "18144/18144 [==============================] - 2s 137us/sample - loss: 0.6666 - acc: 0.5948 - val_loss: 0.6816 - val_acc: 0.5717\n",
      "Epoch 17/30\n",
      "18144/18144 [==============================] - 2s 135us/sample - loss: 0.6655 - acc: 0.5912 - val_loss: 0.6795 - val_acc: 0.5678\n",
      "Epoch 18/30\n",
      "18144/18144 [==============================] - 2s 135us/sample - loss: 0.6673 - acc: 0.5904 - val_loss: 0.6813 - val_acc: 0.5645\n",
      "Epoch 19/30\n",
      "18144/18144 [==============================] - 2s 135us/sample - loss: 0.6655 - acc: 0.5977 - val_loss: 0.6807 - val_acc: 0.5626\n",
      "Epoch 20/30\n",
      "18144/18144 [==============================] - 2s 136us/sample - loss: 0.6631 - acc: 0.5987 - val_loss: 0.6801 - val_acc: 0.5710\n",
      "Epoch 21/30\n",
      "18144/18144 [==============================] - 2s 136us/sample - loss: 0.6631 - acc: 0.5960 - val_loss: 0.6810 - val_acc: 0.5628\n",
      "Epoch 22/30\n",
      "18144/18144 [==============================] - 2s 133us/sample - loss: 0.6629 - acc: 0.6020 - val_loss: 0.6813 - val_acc: 0.5587\n",
      "Epoch 23/30\n",
      "18144/18144 [==============================] - 2s 135us/sample - loss: 0.6610 - acc: 0.5992 - val_loss: 0.6813 - val_acc: 0.5652\n",
      "Epoch 24/30\n",
      "18144/18144 [==============================] - 2s 134us/sample - loss: 0.6593 - acc: 0.6023 - val_loss: 0.6845 - val_acc: 0.5589\n",
      "Epoch 25/30\n",
      "18144/18144 [==============================] - 2s 134us/sample - loss: 0.6611 - acc: 0.6001 - val_loss: 0.6806 - val_acc: 0.5676\n",
      "Epoch 26/30\n",
      "18144/18144 [==============================] - 2s 134us/sample - loss: 0.6590 - acc: 0.6059 - val_loss: 0.6812 - val_acc: 0.5706\n",
      "Epoch 27/30\n",
      "18144/18144 [==============================] - 2s 133us/sample - loss: 0.6587 - acc: 0.6036 - val_loss: 0.6817 - val_acc: 0.5702\n",
      "Epoch 28/30\n",
      "18144/18144 [==============================] - 2s 134us/sample - loss: 0.6561 - acc: 0.6084 - val_loss: 0.6813 - val_acc: 0.5695\n",
      "Epoch 29/30\n",
      "18144/18144 [==============================] - 2s 134us/sample - loss: 0.6567 - acc: 0.6101 - val_loss: 0.6809 - val_acc: 0.5676\n",
      "Epoch 30/30\n",
      "18144/18144 [==============================] - 2s 134us/sample - loss: 0.6573 - acc: 0.6035 - val_loss: 0.6810 - val_acc: 0.5643\n"
     ]
    }
   ],
   "source": [
    "\"Creating model\"\n",
    "model = create_model(sample_shape, 2)\n",
    "\n",
    "\"Fitting model to data\"\n",
    "fitted_model, hist = fit(model, X_train, y_train, X_test, y_test, \n",
    "            batch_size, no_epochs)"
   ]
  },
  {
   "cell_type": "markdown",
   "metadata": {},
   "source": [
    "## Evaluating"
   ]
  },
  {
   "cell_type": "code",
   "execution_count": 46,
   "metadata": {
    "scrolled": false
   },
   "outputs": [
    {
     "name": "stdout",
     "output_type": "stream",
     "text": [
      "Test loss: 0.6789426702297789 / Test accuracy: 0.5630748271942139\n"
     ]
    },
    {
     "data": {
      "image/png": "[encoded data removed]",
      "text/plain": [
       "<Figure size 864x576 with 1 Axes>"
      ]
     },
     "metadata": {
      "needs_background": "light"
     },
     "output_type": "display_data"
    }
   ],
   "source": [
    "\"Getting validation and loss score\"\n",
    "score = evaluate(fitted_model, X_validation, y_validation)\n",
    "\n",
    "\"Plotting history\"\n",
    "plot_history(hist, loss_fun)"
   ]
  },
  {
   "cell_type": "markdown",
   "metadata": {},
   "source": [
    "## Collecting votes"
   ]
  },
  {
   "cell_type": "code",
   "execution_count": 49,
   "metadata": {
    "scrolled": false
   },
   "outputs": [
    {
     "name": "stdout",
     "output_type": "stream",
     "text": [
      "Train on 18090 samples, validate on 4672 samples\n",
      "Epoch 1/10\n",
      "18090/18090 [==============================] - 3s 157us/sample - loss: 0.6920 - acc: 0.5159 - val_loss: 0.6891 - val_acc: 0.5402\n",
      "Epoch 2/10\n",
      "18090/18090 [==============================] - 3s 139us/sample - loss: 0.6882 - acc: 0.5416 - val_loss: 0.6881 - val_acc: 0.5415\n",
      "Epoch 3/10\n",
      "18090/18090 [==============================] - 3s 139us/sample - loss: 0.6855 - acc: 0.5516 - val_loss: 0.6865 - val_acc: 0.5477\n",
      "Epoch 4/10\n",
      "18090/18090 [==============================] - 2s 136us/sample - loss: 0.6832 - acc: 0.5600 - val_loss: 0.6859 - val_acc: 0.5501\n",
      "Epoch 5/10\n",
      "18090/18090 [==============================] - 2s 137us/sample - loss: 0.6797 - acc: 0.5705 - val_loss: 0.6855 - val_acc: 0.5619\n",
      "Epoch 6/10\n",
      "18090/18090 [==============================] - 2s 137us/sample - loss: 0.6785 - acc: 0.5704 - val_loss: 0.6852 - val_acc: 0.5578\n",
      "Epoch 7/10\n",
      "18090/18090 [==============================] - 2s 135us/sample - loss: 0.6763 - acc: 0.5782 - val_loss: 0.6859 - val_acc: 0.5595\n",
      "Epoch 8/10\n",
      "18090/18090 [==============================] - 2s 132us/sample - loss: 0.6747 - acc: 0.5802 - val_loss: 0.6835 - val_acc: 0.5625\n",
      "Epoch 9/10\n",
      "18090/18090 [==============================] - 2s 135us/sample - loss: 0.6723 - acc: 0.5828 - val_loss: 0.6842 - val_acc: 0.5589\n",
      "Epoch 10/10\n",
      "18090/18090 [==============================] - 2s 136us/sample - loss: 0.6714 - acc: 0.5804 - val_loss: 0.6838 - val_acc: 0.5599\n",
      "Train on 18144 samples, validate on 4618 samples\n",
      "Epoch 1/10\n",
      "18144/18144 [==============================] - 3s 157us/sample - loss: 0.6925 - acc: 0.5095 - val_loss: 0.6899 - val_acc: 0.5336\n",
      "Epoch 2/10\n",
      "18144/18144 [==============================] - 2s 132us/sample - loss: 0.6893 - acc: 0.5362 - val_loss: 0.6864 - val_acc: 0.5528\n",
      "Epoch 3/10\n",
      "18144/18144 [==============================] - 2s 133us/sample - loss: 0.6856 - acc: 0.5478 - val_loss: 0.6841 - val_acc: 0.5645\n",
      "Epoch 4/10\n",
      "18144/18144 [==============================] - 2s 133us/sample - loss: 0.6834 - acc: 0.5570 - val_loss: 0.6831 - val_acc: 0.5630\n",
      "Epoch 5/10\n",
      "18144/18144 [==============================] - 2s 132us/sample - loss: 0.6804 - acc: 0.5647 - val_loss: 0.6827 - val_acc: 0.5598\n",
      "Epoch 6/10\n",
      "18144/18144 [==============================] - 2s 134us/sample - loss: 0.6790 - acc: 0.5724 - val_loss: 0.6828 - val_acc: 0.5650\n",
      "Epoch 7/10\n",
      "18144/18144 [==============================] - 2s 135us/sample - loss: 0.6776 - acc: 0.5735 - val_loss: 0.6807 - val_acc: 0.5658\n",
      "Epoch 8/10\n",
      "18144/18144 [==============================] - 2s 132us/sample - loss: 0.6762 - acc: 0.5777 - val_loss: 0.6819 - val_acc: 0.5671\n",
      "Epoch 9/10\n",
      "18144/18144 [==============================] - 2s 133us/sample - loss: 0.6751 - acc: 0.5787 - val_loss: 0.6817 - val_acc: 0.5667\n",
      "Epoch 10/10\n",
      "18144/18144 [==============================] - 2s 134us/sample - loss: 0.6730 - acc: 0.5791 - val_loss: 0.6814 - val_acc: 0.5617\n",
      "Train on 18379 samples, validate on 4383 samples\n",
      "Epoch 1/10\n",
      "18379/18379 [==============================] - 3s 157us/sample - loss: 0.6924 - acc: 0.5100 - val_loss: 0.6893 - val_acc: 0.5350\n",
      "Epoch 2/10\n",
      "18379/18379 [==============================] - 2s 134us/sample - loss: 0.6880 - acc: 0.5434 - val_loss: 0.6859 - val_acc: 0.5494\n",
      "Epoch 3/10\n",
      "18379/18379 [==============================] - 2s 133us/sample - loss: 0.6849 - acc: 0.5477 - val_loss: 0.6842 - val_acc: 0.5505\n",
      "Epoch 4/10\n",
      "18379/18379 [==============================] - 2s 131us/sample - loss: 0.6842 - acc: 0.5566 - val_loss: 0.6837 - val_acc: 0.5594\n",
      "Epoch 5/10\n",
      "18379/18379 [==============================] - 2s 132us/sample - loss: 0.6812 - acc: 0.5600 - val_loss: 0.6827 - val_acc: 0.5592\n",
      "Epoch 6/10\n",
      "18379/18379 [==============================] - 2s 131us/sample - loss: 0.6808 - acc: 0.5623 - val_loss: 0.6812 - val_acc: 0.5608\n",
      "Epoch 7/10\n",
      "18379/18379 [==============================] - 2s 131us/sample - loss: 0.6782 - acc: 0.5705 - val_loss: 0.6781 - val_acc: 0.5688\n",
      "Epoch 8/10\n",
      "18379/18379 [==============================] - 2s 132us/sample - loss: 0.6768 - acc: 0.5716 - val_loss: 0.6772 - val_acc: 0.5752\n",
      "Epoch 9/10\n",
      "18379/18379 [==============================] - 2s 133us/sample - loss: 0.6763 - acc: 0.5772 - val_loss: 0.6798 - val_acc: 0.5676\n",
      "Epoch 10/10\n",
      "18379/18379 [==============================] - 2s 132us/sample - loss: 0.6740 - acc: 0.5789 - val_loss: 0.6799 - val_acc: 0.5649\n",
      "Train on 18392 samples, validate on 4370 samples\n",
      "Epoch 1/10\n",
      "18392/18392 [==============================] - 3s 166us/sample - loss: 0.6923 - acc: 0.5166 - val_loss: 0.6880 - val_acc: 0.5469\n",
      "Epoch 2/10\n",
      "18392/18392 [==============================] - 2s 136us/sample - loss: 0.6890 - acc: 0.5385 - val_loss: 0.6857 - val_acc: 0.5568\n",
      "Epoch 3/10\n",
      "18392/18392 [==============================] - 3s 138us/sample - loss: 0.6854 - acc: 0.5496 - val_loss: 0.6826 - val_acc: 0.5613\n",
      "Epoch 4/10\n",
      "18392/18392 [==============================] - 2s 134us/sample - loss: 0.6825 - acc: 0.5602 - val_loss: 0.6846 - val_acc: 0.5556\n",
      "Epoch 5/10\n",
      "18392/18392 [==============================] - 3s 136us/sample - loss: 0.6793 - acc: 0.5678 - val_loss: 0.6815 - val_acc: 0.5664\n",
      "Epoch 6/10\n",
      "18392/18392 [==============================] - 2s 135us/sample - loss: 0.6779 - acc: 0.5722 - val_loss: 0.6818 - val_acc: 0.5670\n",
      "Epoch 7/10\n",
      "18392/18392 [==============================] - 3s 137us/sample - loss: 0.6770 - acc: 0.5751 - val_loss: 0.6805 - val_acc: 0.5600\n",
      "Epoch 8/10\n",
      "18392/18392 [==============================] - 2s 136us/sample - loss: 0.6753 - acc: 0.5806 - val_loss: 0.6824 - val_acc: 0.5654\n",
      "Epoch 9/10\n",
      "18392/18392 [==============================] - 2s 136us/sample - loss: 0.6749 - acc: 0.5798 - val_loss: 0.6815 - val_acc: 0.5638\n",
      "Epoch 10/10\n",
      "18392/18392 [==============================] - 2s 135us/sample - loss: 0.6728 - acc: 0.5783 - val_loss: 0.6818 - val_acc: 0.5668\n",
      "Train on 18043 samples, validate on 4719 samples\n",
      "Epoch 1/10\n",
      "18043/18043 [==============================] - 3s 166us/sample - loss: 0.6918 - acc: 0.5141 - val_loss: 0.6948 - val_acc: 0.4916\n",
      "Epoch 2/10\n",
      "18043/18043 [==============================] - 3s 140us/sample - loss: 0.6871 - acc: 0.5440 - val_loss: 0.6935 - val_acc: 0.5130\n",
      "Epoch 3/10\n",
      "18043/18043 [==============================] - 2s 137us/sample - loss: 0.6845 - acc: 0.5583 - val_loss: 0.6911 - val_acc: 0.5296\n",
      "Epoch 4/10\n",
      "18043/18043 [==============================] - 2s 137us/sample - loss: 0.6805 - acc: 0.5673 - val_loss: 0.6940 - val_acc: 0.5236\n",
      "Epoch 5/10\n",
      "18043/18043 [==============================] - 2s 135us/sample - loss: 0.6793 - acc: 0.5674 - val_loss: 0.6913 - val_acc: 0.5257\n",
      "Epoch 6/10\n",
      "18043/18043 [==============================] - 2s 135us/sample - loss: 0.6765 - acc: 0.5783 - val_loss: 0.6912 - val_acc: 0.5306\n",
      "Epoch 7/10\n",
      "18043/18043 [==============================] - 2s 135us/sample - loss: 0.6756 - acc: 0.5772 - val_loss: 0.6921 - val_acc: 0.5300\n",
      "Epoch 8/10\n",
      "18043/18043 [==============================] - 2s 134us/sample - loss: 0.6740 - acc: 0.5767 - val_loss: 0.6916 - val_acc: 0.5349\n",
      "Epoch 9/10\n",
      "18043/18043 [==============================] - 2s 134us/sample - loss: 0.6731 - acc: 0.5852 - val_loss: 0.6931 - val_acc: 0.5285\n",
      "Epoch 10/10\n",
      "18043/18043 [==============================] - 2s 137us/sample - loss: 0.6715 - acc: 0.5859 - val_loss: 0.6917 - val_acc: 0.5300\n"
     ]
    }
   ],
   "source": [
    "batch_size = 200\n",
    "no_epochs = 10\n",
    "\n",
    "trials = y_validation.shape[0]\n",
    "pred = np.zeros((5,trials))\n",
    "\n",
    "for i in range(5):\n",
    "    X_train, y_train = get_training(X, y, combinations_train[i])\n",
    "    X_test, y_test = get_test(X, y, combinations_test[i])\n",
    "    sample_shape = (X_train.shape[1], X_train.shape[2], X_train.shape[3])\n",
    "    model = create_model(sample_shape, 2)\n",
    "    fitted_model, _ = fit(model, X_train, y_train, X_test, y_test, \n",
    "                batch_size, no_epochs)\n",
    "    pred[i] = fitted_model.predict_classes(X_validation)\n",
    "\n",
    "votes = np.sum(pred, axis = 0)\n",
    "votes[votes<=2] = 0\n",
    "votes[votes>=3] = 1\n",
    "score = len(votes[class_no8==votes])"
   ]
  },
  {
   "cell_type": "code",
   "execution_count": 51,
   "metadata": {},
   "outputs": [
    {
     "name": "stdout",
     "output_type": "stream",
     "text": [
      "0.5652711050102951\n"
     ]
    }
   ],
   "source": [
    "print(score/trials)"
   ]
  },
  {
   "cell_type": "code",
   "execution_count": null,
   "metadata": {},
   "outputs": [],
   "source": []
  }
 ],
 "metadata": {
  "kernelspec": {
   "display_name": "Python 3",
   "language": "python",
   "name": "python3"
  },
  "language_info": {
   "codemirror_mode": {
    "name": "ipython",
    "version": 3
   },
   "file_extension": ".py",
   "mimetype": "text/x-python",
   "name": "python",
   "nbconvert_exporter": "python",
   "pygments_lexer": "ipython3",
   "version": "3.6.10"
  }
 },
 "nbformat": 4,
 "nbformat_minor": 4
}
