{
 "cells": [
  {
   "cell_type": "code",
   "execution_count": 1,
   "metadata": {},
   "outputs": [
    {
     "data": {
      "text/html": [
       "\n",
       "        <script>\n",
       "            function code_toggle_16338429617004449978() {\n",
       "                $('div.cell.code_cell.rendered.selected').find('div.input').toggle();\n",
       "            }\n",
       "\n",
       "            \n",
       "        </script>\n",
       "\n",
       "        <a href=\"javascript:code_toggle_16338429617004449978()\">Toggle show/hide</a>\n",
       "    "
      ],
      "text/plain": [
       "<IPython.core.display.HTML object>"
      ]
     },
     "execution_count": 1,
     "metadata": {},
     "output_type": "execute_result"
    }
   ],
   "source": [
    "from IPython.display import HTML\n",
    "import random\n",
    "\n",
    "def hide_toggle(for_next=False):\n",
    "    this_cell = \"\"\"$('div.cell.code_cell.rendered.selected')\"\"\"\n",
    "    next_cell = this_cell + '.next()'\n",
    "\n",
    "    toggle_text = 'Toggle show/hide'  # text shown on toggle link\n",
    "    target_cell = this_cell  # target cell to control with toggle\n",
    "    js_hide_current = ''  # bit of JS to permanently hide code in current cell (only when toggling next cell)\n",
    "\n",
    "    if for_next:\n",
    "        target_cell = next_cell\n",
    "        toggle_text += ' next cell'\n",
    "        js_hide_current = this_cell + '.find(\"div.input\").hide();'\n",
    "\n",
    "    js_f_name = 'code_toggle_{}'.format(str(random.randint(1,2**64)))\n",
    "\n",
    "    html = \"\"\"\n",
    "        <script>\n",
    "            function {f_name}() {{\n",
    "                {cell_selector}.find('div.input').toggle();\n",
    "            }}\n",
    "\n",
    "            {js_hide_current}\n",
    "        </script>\n",
    "\n",
    "        <a href=\"javascript:{f_name}()\">{toggle_text}</a>\n",
    "    \"\"\".format(\n",
    "        f_name=js_f_name,\n",
    "        cell_selector=target_cell,\n",
    "        js_hide_current=js_hide_current, \n",
    "        toggle_text=toggle_text\n",
    "    )\n",
    "\n",
    "    return HTML(html)\n",
    "\n",
    "\n",
    "hide_toggle()"
   ]
  },
  {
   "cell_type": "code",
   "execution_count": 2,
   "metadata": {},
   "outputs": [
    {
     "data": {
      "text/html": [
       "\n",
       "        <script>\n",
       "            function code_toggle_10706838777511381477() {\n",
       "                $('div.cell.code_cell.rendered.selected').find('div.input').toggle();\n",
       "            }\n",
       "\n",
       "            \n",
       "        </script>\n",
       "\n",
       "        <a href=\"javascript:code_toggle_10706838777511381477()\">Toggle show/hide</a>\n",
       "    "
      ],
      "text/plain": [
       "<IPython.core.display.HTML object>"
      ]
     },
     "execution_count": 2,
     "metadata": {},
     "output_type": "execute_result"
    }
   ],
   "source": [
    "#zwykła konwolucyjna sieć - obrazek czas x czestosc, kanały RGB - elektrody - przetestować\n",
    "#CONV2D, minpooling potem, dense (f-cja aktywacji softmax) - wyjscie to p-stwo wyjscia z klas\n",
    "#punkt początkowy j.w.\n",
    "#filtr dla sieci - dłuższy w czasie (np. 7,11), najwyżej dociać\n",
    "#zbiory uczące - potem będziemy składać sieci\n",
    "#zbiory - 2 sposoby jak je budować (od Mateusza)\n",
    "#widmo - spr do jakiej częstości obciąć (z tego co wychodzi z abs hilberta), 6 razy mniej (?)\n",
    "#kilka próbek od kilku pacjentów\n",
    "\n",
    "#wyćwiczone na wszystkich - wyzerować któreś i tak sprawdzić (pasmo częstowściowe)\n",
    "hide_toggle()"
   ]
  },
  {
   "cell_type": "code",
   "execution_count": 3,
   "metadata": {},
   "outputs": [
    {
     "data": {
      "text/html": [
       "\n",
       "        <script>\n",
       "            function code_toggle_8199112120871676176() {\n",
       "                $('div.cell.code_cell.rendered.selected').find('div.input').toggle();\n",
       "            }\n",
       "\n",
       "            \n",
       "        </script>\n",
       "\n",
       "        <a href=\"javascript:code_toggle_8199112120871676176()\">Toggle show/hide</a>\n",
       "    "
      ],
      "text/plain": [
       "<IPython.core.display.HTML object>"
      ]
     },
     "execution_count": 3,
     "metadata": {},
     "output_type": "execute_result"
    }
   ],
   "source": [
    "''' 25 na 5 foldów - 5x5 średnie acc, auc\n",
    "    8 walidacyjnych zostaje\n",
    "    5 różnych modeli - dla każddego z osobna walidacja\n",
    "    jesli więcej niż 3 modele na daną klase - zaklasyfikowany - policzyć accuracy,\n",
    "    wykresy acc w czasie i loss w czasie dla każdej z 5 (25 na 5 foldów) modeli (w każdej iteracji),\n",
    "    sprawadź dla paru batch size jak sie zachowują wykresy,\n",
    "    '''\n",
    "hide_toggle()"
   ]
  },
  {
   "cell_type": "code",
   "execution_count": 2,
   "metadata": {},
   "outputs": [
    {
     "data": {
      "text/html": [
       "\n",
       "        <script>\n",
       "            function code_toggle_10324439154897132674() {\n",
       "                $('div.cell.code_cell.rendered.selected').find('div.input').toggle();\n",
       "            }\n",
       "\n",
       "            \n",
       "        </script>\n",
       "\n",
       "        <a href=\"javascript:code_toggle_10324439154897132674()\">Toggle show/hide</a>\n",
       "    "
      ],
      "text/plain": [
       "<IPython.core.display.HTML object>"
      ]
     },
     "execution_count": 2,
     "metadata": {},
     "output_type": "execute_result"
    }
   ],
   "source": [
    "import numpy as np\n",
    "from tensorflow.keras.models import Sequential\n",
    "from tensorflow.keras.layers import Dense, Conv2D, AveragePooling2D, Flatten, Dropout\n",
    "from typing import Iterable, Union\n",
    "\n",
    "from tensorflow.keras.utils import to_categorical\n",
    "from get_data import get_training, get_test\n",
    "from learning import fit, evaluate, plot_history\n",
    "\n",
    "from numpy.random import seed\n",
    "seed(9849)\n",
    "from tensorflow import set_random_seed\n",
    "set_random_seed(6432)\n",
    "\n",
    "hide_toggle()"
   ]
  },
  {
   "cell_type": "code",
   "execution_count": 39,
   "metadata": {},
   "outputs": [],
   "source": [
    "def create_model(sample_shape: Iterable,\n",
    "                 no_classes: int, kernel1:Iterable, kernel2:Iterable,\n",
    "                 optimizer = 'adam', loss_fun = 'binary_crossentropy'):\n",
    "    model = Sequential()\n",
    "    model.add(Conv2D(24, kernel_size = kernel1,input_shape=sample_shape, activation='relu', data_format = 'channels_last'))\n",
    "    model.add(AveragePooling2D(kernel2))\n",
    "    model.add(Dropout(0.3))\n",
    "    model.add(Dense(26, activation='relu')) #kolejne relu\n",
    "    model.add(Flatten())\n",
    "    model.add(Dropout(0.3))\n",
    "    model.add(Dense(no_classes, activation='softmax'))\n",
    "    model.compile(loss=loss_fun, optimizer=optimizer, metrics=['accuracy'])\n",
    "    return model"
   ]
  },
  {
   "cell_type": "code",
   "execution_count": 40,
   "metadata": {},
   "outputs": [],
   "source": [
    "# Różne kernele - (7,1), (11,1) itp - średnia ważona/szuka kształtu na przsezbiegu obwieddni -> uśrednia - czy jakaś \n",
    "#struktura występuje\n"
   ]
  },
  {
   "cell_type": "markdown",
   "metadata": {},
   "source": [
    "# Loading data"
   ]
  },
  {
   "cell_type": "code",
   "execution_count": 4,
   "metadata": {},
   "outputs": [
    {
     "data": {
      "text/html": [
       "\n",
       "        <script>\n",
       "            function code_toggle_11495650761811365676() {\n",
       "                $('div.cell.code_cell.rendered.selected').find('div.input').toggle();\n",
       "            }\n",
       "\n",
       "            \n",
       "        </script>\n",
       "\n",
       "        <a href=\"javascript:code_toggle_11495650761811365676()\">Toggle show/hide</a>\n",
       "    "
      ],
      "text/plain": [
       "<IPython.core.display.HTML object>"
      ]
     },
     "execution_count": 4,
     "metadata": {},
     "output_type": "execute_result"
    }
   ],
   "source": [
    "dire = \"./npy_data/\"\n",
    "dire = \"./npy_data2/\"\n",
    "# dire=\"\"\n",
    "class_no8 = np.load(dire+'class_no8.npy')\n",
    "data_no8 = np.load(dire+'data_no8.npy')\n",
    "\n",
    "\n",
    "class_no13 = np.load(dire+'class_no13.npy')\n",
    "data_no13 = np.load(dire+'data_no13.npy')\n",
    "\n",
    "class_no18 = np.load(dire+'class_no18.npy')\n",
    "data_no18 = np.load(dire+'data_no18.npy')\n",
    "\n",
    "class_no23 = np.load(dire+'class_no23.npy')\n",
    "data_no23 = np.load(dire+'data_no23.npy')\n",
    "\n",
    "class_no28 = np.load(dire+'class_no28.npy')\n",
    "data_no28 = np.load(dire+'data_no28.npy')\n",
    "\n",
    "class_no33 = np.load(dire+'class_no33.npy')\n",
    "data_no33 = np.load(dire+'data_no33.npy')\n",
    "\n",
    "hide_toggle()"
   ]
  },
  {
   "cell_type": "markdown",
   "metadata": {},
   "source": [
    "## Picture options - time x freq bands or time x channels"
   ]
  },
  {
   "cell_type": "code",
   "execution_count": 5,
   "metadata": {},
   "outputs": [],
   "source": [
    "freq_bands = 'ijkl->jlik'\n",
    "channels = 'ijkl->jlki'\n",
    "option = freq_bands"
   ]
  },
  {
   "cell_type": "markdown",
   "metadata": {},
   "source": [
    "### Validation dataset"
   ]
  },
  {
   "cell_type": "code",
   "execution_count": 6,
   "metadata": {},
   "outputs": [],
   "source": [
    "X_validation = np.einsum(option,data_no8)\n",
    "y_validation = to_categorical(class_no8).astype(int)"
   ]
  },
  {
   "cell_type": "markdown",
   "metadata": {},
   "source": [
    "## Prepared combinations"
   ]
  },
  {
   "cell_type": "code",
   "execution_count": 7,
   "metadata": {},
   "outputs": [],
   "source": [
    "X = {1 : data_no13, 2: data_no18, 3: data_no23, 4: data_no28, 5: data_no33}\n",
    "y = {1 : class_no13, 2: class_no18, 3: class_no23, 4: class_no28, 5: class_no33}\n",
    "combinations_train = ((1,2,3,4),\n",
    "                      (1,2,3,5),\n",
    "                      (1,2,4,5),\n",
    "                      (1,3,4,5),\n",
    "                      (2,3,4,5))\n",
    "\n",
    "combinations_test = (5, 4, 3, 2, 1)"
   ]
  },
  {
   "cell_type": "markdown",
   "metadata": {},
   "source": [
    "### Params"
   ]
  },
  {
   "cell_type": "code",
   "execution_count": 41,
   "metadata": {},
   "outputs": [],
   "source": [
    "batch_size = 200\n",
    "no_epochs = 25\n",
    "verbosity = 1\n",
    "loss_fun = 'binary_crossentropy'"
   ]
  },
  {
   "cell_type": "markdown",
   "metadata": {},
   "source": [
    "## Datasets"
   ]
  },
  {
   "cell_type": "code",
   "execution_count": 46,
   "metadata": {},
   "outputs": [],
   "source": [
    "combination = 4\n",
    "X_train, y_train = get_training(X, y, combinations_train[combination], option)\n",
    "X_test, y_test = get_test(X, y, combinations_test[combination], option)\n",
    "sample_shape = (X_train.shape[1], X_train.shape[2], X_train.shape[3])"
   ]
  },
  {
   "cell_type": "code",
   "execution_count": 47,
   "metadata": {},
   "outputs": [
    {
     "data": {
      "text/plain": [
       "29911"
      ]
     },
     "execution_count": 47,
     "metadata": {},
     "output_type": "execute_result"
    }
   ],
   "source": [
    "X_validation.shape[0] + X_test.shape[0] + X_train.shape[0]"
   ]
  },
  {
   "cell_type": "markdown",
   "metadata": {},
   "source": [
    "## Learning"
   ]
  },
  {
   "cell_type": "code",
   "execution_count": 48,
   "metadata": {},
   "outputs": [
    {
     "name": "stdout",
     "output_type": "stream",
     "text": [
      "Train on 18044 samples, validate on 4550 samples\n",
      "Epoch 1/25\n",
      "18044/18044 [==============================] - 2s 118us/sample - loss: 0.7126 - acc: 0.5067 - val_loss: 0.6893 - val_acc: 0.5352\n",
      "Epoch 2/25\n",
      "18044/18044 [==============================] - 2s 96us/sample - loss: 0.6930 - acc: 0.5283 - val_loss: 0.6873 - val_acc: 0.5437\n",
      "Epoch 3/25\n",
      "18044/18044 [==============================] - 2s 96us/sample - loss: 0.6905 - acc: 0.5381 - val_loss: 0.6922 - val_acc: 0.5180\n",
      "Epoch 4/25\n",
      "18044/18044 [==============================] - 2s 95us/sample - loss: 0.6876 - acc: 0.5397 - val_loss: 0.6879 - val_acc: 0.5411\n",
      "Epoch 5/25\n",
      "18044/18044 [==============================] - 2s 96us/sample - loss: 0.6845 - acc: 0.5556 - val_loss: 0.6858 - val_acc: 0.5455\n",
      "Epoch 6/25\n",
      "18044/18044 [==============================] - 2s 96us/sample - loss: 0.6841 - acc: 0.5512 - val_loss: 0.6857 - val_acc: 0.5521\n",
      "Epoch 7/25\n",
      "18044/18044 [==============================] - 2s 95us/sample - loss: 0.6806 - acc: 0.5647 - val_loss: 0.6836 - val_acc: 0.5554\n",
      "Epoch 8/25\n",
      "18044/18044 [==============================] - 2s 96us/sample - loss: 0.6792 - acc: 0.5640 - val_loss: 0.6848 - val_acc: 0.5554\n",
      "Epoch 9/25\n",
      "18044/18044 [==============================] - 2s 95us/sample - loss: 0.6785 - acc: 0.5663 - val_loss: 0.6868 - val_acc: 0.5508\n",
      "Epoch 10/25\n",
      "18044/18044 [==============================] - 2s 95us/sample - loss: 0.6772 - acc: 0.5712 - val_loss: 0.6856 - val_acc: 0.5473\n",
      "Epoch 11/25\n",
      "18044/18044 [==============================] - 2s 95us/sample - loss: 0.6737 - acc: 0.5786 - val_loss: 0.6850 - val_acc: 0.5508\n",
      "Epoch 12/25\n",
      "18044/18044 [==============================] - 2s 95us/sample - loss: 0.6749 - acc: 0.5769 - val_loss: 0.6826 - val_acc: 0.5576\n",
      "Epoch 13/25\n",
      "18044/18044 [==============================] - 2s 95us/sample - loss: 0.6745 - acc: 0.5738 - val_loss: 0.6860 - val_acc: 0.5473\n",
      "Epoch 14/25\n",
      "18044/18044 [==============================] - 2s 94us/sample - loss: 0.6743 - acc: 0.5738 - val_loss: 0.6847 - val_acc: 0.5598\n",
      "Epoch 15/25\n",
      "18044/18044 [==============================] - 2s 95us/sample - loss: 0.6727 - acc: 0.5792 - val_loss: 0.6848 - val_acc: 0.5490\n",
      "Epoch 16/25\n",
      "18044/18044 [==============================] - 2s 95us/sample - loss: 0.6743 - acc: 0.5722 - val_loss: 0.6830 - val_acc: 0.5569\n",
      "Epoch 17/25\n",
      "18044/18044 [==============================] - 2s 95us/sample - loss: 0.6726 - acc: 0.5797 - val_loss: 0.6850 - val_acc: 0.5525\n",
      "Epoch 18/25\n",
      "18044/18044 [==============================] - 2s 96us/sample - loss: 0.6709 - acc: 0.5828 - val_loss: 0.6813 - val_acc: 0.5633\n",
      "Epoch 19/25\n",
      "18044/18044 [==============================] - 2s 96us/sample - loss: 0.6707 - acc: 0.5840 - val_loss: 0.6839 - val_acc: 0.5519\n",
      "Epoch 20/25\n",
      "18044/18044 [==============================] - 2s 96us/sample - loss: 0.6690 - acc: 0.5860 - val_loss: 0.6828 - val_acc: 0.5593\n",
      "Epoch 21/25\n",
      "18044/18044 [==============================] - 2s 96us/sample - loss: 0.6702 - acc: 0.5851 - val_loss: 0.6860 - val_acc: 0.5519\n",
      "Epoch 22/25\n",
      "18044/18044 [==============================] - 2s 94us/sample - loss: 0.6696 - acc: 0.5857 - val_loss: 0.6838 - val_acc: 0.5532\n",
      "Epoch 23/25\n",
      "18044/18044 [==============================] - 2s 93us/sample - loss: 0.6695 - acc: 0.5851 - val_loss: 0.6856 - val_acc: 0.5492\n",
      "Epoch 24/25\n",
      "18044/18044 [==============================] - 2s 94us/sample - loss: 0.6712 - acc: 0.5829 - val_loss: 0.6829 - val_acc: 0.5530\n",
      "Epoch 25/25\n",
      "18044/18044 [==============================] - 2s 93us/sample - loss: 0.6665 - acc: 0.5937 - val_loss: 0.6858 - val_acc: 0.5464\n"
     ]
    }
   ],
   "source": [
    "sample_shape = (X_train.shape[1], X_train.shape[2], X_train.shape[3])\n",
    "\"Creating model\"\n",
    "model = create_model(sample_shape, 2, (7,1), (11,1), optimizer='adam')\n",
    "\n",
    "\"Fitting model to data\"\n",
    "fitted_model, hist = fit(model, X_train, y_train, X_test, y_test, \n",
    "            batch_size, no_epochs)"
   ]
  },
  {
   "cell_type": "markdown",
   "metadata": {},
   "source": [
    "## Evaluating"
   ]
  },
  {
   "cell_type": "code",
   "execution_count": 49,
   "metadata": {
    "scrolled": false
   },
   "outputs": [
    {
     "name": "stdout",
     "output_type": "stream",
     "text": [
      "Test loss: 0.6782204704449544 / Test accuracy: 0.5783790946006775\n"
     ]
    },
    {
     "data": {
      "image/png": "[encoded data removed]",
      "text/plain": [
       "<Figure size 864x576 with 1 Axes>"
      ]
     },
     "metadata": {
      "needs_background": "light"
     },
     "output_type": "display_data"
    }
   ],
   "source": [
    "\"Getting validation and loss score\"\n",
    "score = evaluate(fitted_model, X_validation, y_validation)\n",
    "\n",
    "\"Plotting history\"\n",
    "plot_history(hist, loss_fun)"
   ]
  },
  {
   "cell_type": "markdown",
   "metadata": {},
   "source": [
    "## Collecting votes"
   ]
  },
  {
   "cell_type": "code",
   "execution_count": 13,
   "metadata": {},
   "outputs": [],
   "source": [
    "X_validation = np.einsum(option,data_no8)\n",
    "y_validation = to_categorical(class_no8).astype(int)"
   ]
  },
  {
   "cell_type": "code",
   "execution_count": 14,
   "metadata": {},
   "outputs": [
    {
     "name": "stdout",
     "output_type": "stream",
     "text": [
      "['m17' 'k10' 'm16' 'k11' 'm6' 'k14' 'm10' 'k7']\n",
      "['m11' 'm5' 'm7' 'm1' 'm18']\n",
      "['k5' 'm15' 'k18' 'k3' 'm14']\n",
      "['m13' 'm2' 'k16' 'k6' 'm9']\n",
      "['k4' 'm8' 'm12' 'm3' 'k15']\n",
      "['k12' 'k13' 'k8' 'k9' 'm4']\n",
      "(1, 2, 4, 5)\n"
     ]
    }
   ],
   "source": [
    "part = np.load(dire+'participants.npy')\n",
    "print(part[:8])\n",
    "print(part[8:13])\n",
    "print(part[13:18])\n",
    "print(part[18:23])\n",
    "print(part[23:28])\n",
    "print(part[28:33])\n",
    "print(combinations_train[2])"
   ]
  },
  {
   "cell_type": "code",
   "execution_count": 15,
   "metadata": {
    "scrolled": false
   },
   "outputs": [
    {
     "name": "stdout",
     "output_type": "stream",
     "text": [
      "Train on 17869 samples, validate on 4725 samples\n",
      "Epoch 1/10\n",
      "17869/17869 [==============================] - 2s 93us/sample - loss: 0.7075 - acc: 0.5119 - val_loss: 0.6893 - val_acc: 0.5342\n",
      "Epoch 2/10\n",
      "17869/17869 [==============================] - 2s 87us/sample - loss: 0.6933 - acc: 0.5284 - val_loss: 0.6870 - val_acc: 0.5454\n",
      "Epoch 3/10\n",
      "17869/17869 [==============================] - 2s 84us/sample - loss: 0.6886 - acc: 0.5372 - val_loss: 0.6859 - val_acc: 0.5566\n",
      "Epoch 4/10\n",
      "17869/17869 [==============================] - 2s 84us/sample - loss: 0.6861 - acc: 0.5452 - val_loss: 0.6859 - val_acc: 0.5520\n",
      "Epoch 5/10\n",
      "17869/17869 [==============================] - 2s 84us/sample - loss: 0.6840 - acc: 0.5539 - val_loss: 0.6848 - val_acc: 0.5606\n",
      "Epoch 6/10\n",
      "17869/17869 [==============================] - 2s 85us/sample - loss: 0.6843 - acc: 0.5532 - val_loss: 0.6844 - val_acc: 0.5642\n",
      "Epoch 7/10\n",
      "17869/17869 [==============================] - 2s 86us/sample - loss: 0.6825 - acc: 0.5564 - val_loss: 0.6844 - val_acc: 0.5558\n",
      "Epoch 8/10\n",
      "17869/17869 [==============================] - 2s 85us/sample - loss: 0.6821 - acc: 0.5549 - val_loss: 0.6851 - val_acc: 0.5496\n",
      "Epoch 9/10\n",
      "17869/17869 [==============================] - 2s 85us/sample - loss: 0.6814 - acc: 0.5593 - val_loss: 0.6837 - val_acc: 0.5632\n",
      "Epoch 10/10\n",
      "17869/17869 [==============================] - 2s 85us/sample - loss: 0.6788 - acc: 0.5660 - val_loss: 0.6826 - val_acc: 0.5556\n",
      "Test loss: 0.6802823620691674 / Test accuracy: 0.5729123950004578\n",
      "0\n",
      "Train on 18086 samples, validate on 4508 samples\n",
      "Epoch 1/10\n",
      "18086/18086 [==============================] - 2s 95us/sample - loss: 0.7070 - acc: 0.5097 - val_loss: 0.6895 - val_acc: 0.5375\n",
      "Epoch 2/10\n",
      "18086/18086 [==============================] - 2s 86us/sample - loss: 0.6916 - acc: 0.5338 - val_loss: 0.6883 - val_acc: 0.5370\n",
      "Epoch 3/10\n",
      "18086/18086 [==============================] - 2s 85us/sample - loss: 0.6879 - acc: 0.5463 - val_loss: 0.6859 - val_acc: 0.5477\n",
      "Epoch 4/10\n",
      "18086/18086 [==============================] - 2s 85us/sample - loss: 0.6865 - acc: 0.5497 - val_loss: 0.6837 - val_acc: 0.5603\n",
      "Epoch 5/10\n",
      "18086/18086 [==============================] - 2s 86us/sample - loss: 0.6841 - acc: 0.5553 - val_loss: 0.6838 - val_acc: 0.5546\n",
      "Epoch 6/10\n",
      "18086/18086 [==============================] - 2s 87us/sample - loss: 0.6823 - acc: 0.5600 - val_loss: 0.6842 - val_acc: 0.5546\n",
      "Epoch 7/10\n",
      "18086/18086 [==============================] - 2s 88us/sample - loss: 0.6818 - acc: 0.5616 - val_loss: 0.6854 - val_acc: 0.5561\n",
      "Epoch 8/10\n",
      "18086/18086 [==============================] - 2s 86us/sample - loss: 0.6798 - acc: 0.5633 - val_loss: 0.6826 - val_acc: 0.5592\n",
      "Epoch 9/10\n",
      "18086/18086 [==============================] - 2s 85us/sample - loss: 0.6808 - acc: 0.5615 - val_loss: 0.6835 - val_acc: 0.5575\n",
      "Epoch 10/10\n",
      "18086/18086 [==============================] - 2s 86us/sample - loss: 0.6791 - acc: 0.5641 - val_loss: 0.6817 - val_acc: 0.5677\n",
      "Test loss: 0.6798744711928701 / Test accuracy: 0.5737323760986328\n",
      "1\n",
      "Train on 18255 samples, validate on 4339 samples\n",
      "Epoch 1/10\n",
      "18255/18255 [==============================] - 2s 98us/sample - loss: 0.7100 - acc: 0.5042 - val_loss: 0.6927 - val_acc: 0.5112\n",
      "Epoch 2/10\n",
      "18255/18255 [==============================] - 2s 87us/sample - loss: 0.6898 - acc: 0.5431 - val_loss: 0.6974 - val_acc: 0.5202\n",
      "Epoch 3/10\n",
      "18255/18255 [==============================] - 2s 87us/sample - loss: 0.6867 - acc: 0.5531 - val_loss: 0.6934 - val_acc: 0.5305\n",
      "Epoch 4/10\n",
      "18255/18255 [==============================] - 2s 87us/sample - loss: 0.6832 - acc: 0.5641 - val_loss: 0.6939 - val_acc: 0.5169\n",
      "Epoch 5/10\n",
      "18255/18255 [==============================] - 2s 85us/sample - loss: 0.6805 - acc: 0.5683 - val_loss: 0.6913 - val_acc: 0.5296\n",
      "Epoch 6/10\n",
      "18255/18255 [==============================] - 2s 88us/sample - loss: 0.6804 - acc: 0.5669 - val_loss: 0.6951 - val_acc: 0.5278\n",
      "Epoch 7/10\n",
      "18255/18255 [==============================] - 2s 86us/sample - loss: 0.6797 - acc: 0.5671 - val_loss: 0.6945 - val_acc: 0.5340\n",
      "Epoch 8/10\n",
      "18255/18255 [==============================] - 2s 87us/sample - loss: 0.6774 - acc: 0.5737 - val_loss: 0.6915 - val_acc: 0.5204\n",
      "Epoch 9/10\n",
      "18255/18255 [==============================] - 2s 85us/sample - loss: 0.6770 - acc: 0.5695 - val_loss: 0.6917 - val_acc: 0.5278\n",
      "Epoch 10/10\n",
      "18255/18255 [==============================] - 2s 87us/sample - loss: 0.6779 - acc: 0.5674 - val_loss: 0.6901 - val_acc: 0.5289\n",
      "Test loss: 0.6835134501940764 / Test accuracy: 0.5626623034477234\n",
      "2\n",
      "Train on 18122 samples, validate on 4472 samples\n",
      "Epoch 1/10\n",
      "18122/18122 [==============================] - 2s 98us/sample - loss: 0.7121 - acc: 0.5127 - val_loss: 0.6904 - val_acc: 0.5351\n",
      "Epoch 2/10\n",
      "18122/18122 [==============================] - 2s 88us/sample - loss: 0.6918 - acc: 0.5263 - val_loss: 0.6873 - val_acc: 0.5441\n",
      "Epoch 3/10\n",
      "18122/18122 [==============================] - 2s 90us/sample - loss: 0.6882 - acc: 0.5496 - val_loss: 0.6866 - val_acc: 0.5492\n",
      "Epoch 4/10\n",
      "18122/18122 [==============================] - 2s 86us/sample - loss: 0.6848 - acc: 0.5519 - val_loss: 0.6860 - val_acc: 0.5496\n",
      "Epoch 5/10\n",
      "18122/18122 [==============================] - 2s 86us/sample - loss: 0.6845 - acc: 0.5609 - val_loss: 0.6877 - val_acc: 0.5432\n",
      "Epoch 6/10\n",
      "18122/18122 [==============================] - 2s 86us/sample - loss: 0.6816 - acc: 0.5606 - val_loss: 0.6870 - val_acc: 0.5387\n",
      "Epoch 7/10\n",
      "18122/18122 [==============================] - 2s 86us/sample - loss: 0.6798 - acc: 0.5665 - val_loss: 0.6866 - val_acc: 0.5356\n",
      "Epoch 8/10\n",
      "18122/18122 [==============================] - 2s 86us/sample - loss: 0.6792 - acc: 0.5625 - val_loss: 0.6857 - val_acc: 0.5449\n",
      "Epoch 9/10\n",
      "18122/18122 [==============================] - 2s 86us/sample - loss: 0.6784 - acc: 0.5686 - val_loss: 0.6844 - val_acc: 0.5579\n",
      "Epoch 10/10\n",
      "18122/18122 [==============================] - 2s 86us/sample - loss: 0.6785 - acc: 0.5682 - val_loss: 0.6861 - val_acc: 0.5461\n",
      "Test loss: 0.684440761694609 / Test accuracy: 0.5593822598457336\n",
      "3\n",
      "Train on 18044 samples, validate on 4550 samples\n",
      "Epoch 1/10\n",
      "18044/18044 [==============================] - 2s 102us/sample - loss: 0.7142 - acc: 0.5070 - val_loss: 0.6938 - val_acc: 0.5079\n",
      "Epoch 2/10\n",
      "18044/18044 [==============================] - 2s 89us/sample - loss: 0.6955 - acc: 0.5189 - val_loss: 0.6910 - val_acc: 0.5226\n",
      "Epoch 3/10\n",
      "18044/18044 [==============================] - 2s 90us/sample - loss: 0.6892 - acc: 0.5365 - val_loss: 0.6868 - val_acc: 0.5418\n",
      "Epoch 4/10\n",
      "18044/18044 [==============================] - 2s 89us/sample - loss: 0.6875 - acc: 0.5454 - val_loss: 0.6863 - val_acc: 0.5505\n",
      "Epoch 5/10\n",
      "18044/18044 [==============================] - 2s 89us/sample - loss: 0.6842 - acc: 0.5535 - val_loss: 0.6867 - val_acc: 0.5433\n",
      "Epoch 6/10\n",
      "18044/18044 [==============================] - 2s 91us/sample - loss: 0.6831 - acc: 0.5552 - val_loss: 0.6870 - val_acc: 0.5400\n",
      "Epoch 7/10\n",
      "18044/18044 [==============================] - 2s 90us/sample - loss: 0.6810 - acc: 0.5635 - val_loss: 0.6872 - val_acc: 0.5371\n",
      "Epoch 8/10\n",
      "18044/18044 [==============================] - 2s 91us/sample - loss: 0.6791 - acc: 0.5691 - val_loss: 0.6853 - val_acc: 0.5468\n",
      "Epoch 9/10\n",
      "18044/18044 [==============================] - 2s 90us/sample - loss: 0.6791 - acc: 0.5687 - val_loss: 0.6847 - val_acc: 0.5530\n",
      "Epoch 10/10\n",
      "18044/18044 [==============================] - 2s 91us/sample - loss: 0.6774 - acc: 0.5691 - val_loss: 0.6835 - val_acc: 0.5576\n",
      "Test loss: 0.6789622881201687 / Test accuracy: 0.5645756721496582\n",
      "4\n",
      "0.5776957769577695\n"
     ]
    }
   ],
   "source": [
    "batch_size = 200\n",
    "no_epochs = 10\n",
    "\n",
    "trials = y_validation.shape[0]\n",
    "pred = np.zeros((5,trials))\n",
    "\n",
    "for i in range(5):\n",
    "    X_train, y_train = get_training(X, y, combinations_train[i], option)\n",
    "    X_test, y_test = get_test(X, y, combinations_test[i], option)\n",
    "    sample_shape = (X_train.shape[1], X_train.shape[2], X_train.shape[3])\n",
    "    \n",
    "    model = create_model(sample_shape, 2, (7,1))\n",
    "    \n",
    "    fitted_model, _ = fit(model, X_train, y_train, X_test, y_test, \n",
    "                batch_size, no_epochs, verbosity = 1)\n",
    "    \"Getting validation and loss score\"\n",
    "    score = evaluate(fitted_model, X_validation, y_validation)\n",
    "    pred[i] = fitted_model.predict_classes(X_validation)\n",
    "    print(i)\n",
    "votes = np.sum(pred, axis = 0)\n",
    "votes[votes<=2] = 0\n",
    "votes[votes>=3] = 1\n",
    "score = len(votes[class_no8==votes])\n",
    "acc = score/trials\n",
    "print(acc)"
   ]
  },
  {
   "cell_type": "code",
   "execution_count": null,
   "metadata": {},
   "outputs": [],
   "source": []
  }
 ],
 "metadata": {
  "kernelspec": {
   "display_name": "Python 3",
   "language": "python",
   "name": "python3"
  },
  "language_info": {
   "codemirror_mode": {
    "name": "ipython",
    "version": 3
   },
   "file_extension": ".py",
   "mimetype": "text/x-python",
   "name": "python",
   "nbconvert_exporter": "python",
   "pygments_lexer": "ipython3",
   "version": "3.6.10"
  }
 },
 "nbformat": 4,
 "nbformat_minor": 4
}
