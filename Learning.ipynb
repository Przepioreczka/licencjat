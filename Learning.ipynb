{
 "cells": [
  {
   "cell_type": "code",
   "execution_count": 1,
   "metadata": {},
   "outputs": [
    {
     "data": {
      "text/html": [
       "\n",
       "        <script>\n",
       "            function code_toggle_9422938484914656562() {\n",
       "                $('div.cell.code_cell.rendered.selected').find('div.input').toggle();\n",
       "            }\n",
       "\n",
       "            \n",
       "        </script>\n",
       "\n",
       "        <a href=\"javascript:code_toggle_9422938484914656562()\">Toggle show/hide</a>\n",
       "    "
      ],
      "text/plain": [
       "<IPython.core.display.HTML object>"
      ]
     },
     "execution_count": 1,
     "metadata": {},
     "output_type": "execute_result"
    }
   ],
   "source": [
    "from IPython.display import HTML\n",
    "import random\n",
    "\n",
    "def hide_toggle(for_next=False):\n",
    "    this_cell = \"\"\"$('div.cell.code_cell.rendered.selected')\"\"\"\n",
    "    next_cell = this_cell + '.next()'\n",
    "\n",
    "    toggle_text = 'Toggle show/hide'  # text shown on toggle link\n",
    "    target_cell = this_cell  # target cell to control with toggle\n",
    "    js_hide_current = ''  # bit of JS to permanently hide code in current cell (only when toggling next cell)\n",
    "\n",
    "    if for_next:\n",
    "        target_cell = next_cell\n",
    "        toggle_text += ' next cell'\n",
    "        js_hide_current = this_cell + '.find(\"div.input\").hide();'\n",
    "\n",
    "    js_f_name = 'code_toggle_{}'.format(str(random.randint(1,2**64)))\n",
    "\n",
    "    html = \"\"\"\n",
    "        <script>\n",
    "            function {f_name}() {{\n",
    "                {cell_selector}.find('div.input').toggle();\n",
    "            }}\n",
    "\n",
    "            {js_hide_current}\n",
    "        </script>\n",
    "\n",
    "        <a href=\"javascript:{f_name}()\">{toggle_text}</a>\n",
    "    \"\"\".format(\n",
    "        f_name=js_f_name,\n",
    "        cell_selector=target_cell,\n",
    "        js_hide_current=js_hide_current, \n",
    "        toggle_text=toggle_text\n",
    "    )\n",
    "\n",
    "    return HTML(html)\n",
    "\n",
    "\n",
    "hide_toggle()"
   ]
  },
  {
   "cell_type": "code",
   "execution_count": 2,
   "metadata": {},
   "outputs": [
    {
     "data": {
      "text/html": [
       "\n",
       "        <script>\n",
       "            function code_toggle_10706838777511381477() {\n",
       "                $('div.cell.code_cell.rendered.selected').find('div.input').toggle();\n",
       "            }\n",
       "\n",
       "            \n",
       "        </script>\n",
       "\n",
       "        <a href=\"javascript:code_toggle_10706838777511381477()\">Toggle show/hide</a>\n",
       "    "
      ],
      "text/plain": [
       "<IPython.core.display.HTML object>"
      ]
     },
     "execution_count": 2,
     "metadata": {},
     "output_type": "execute_result"
    }
   ],
   "source": [
    "#zwykła konwolucyjna sieć - obrazek czas x czestosc, kanały RGB - elektrody - przetestować\n",
    "#CONV2D, minpooling potem, dense (f-cja aktywacji softmax) - wyjscie to p-stwo wyjscia z klas\n",
    "#punkt początkowy j.w.\n",
    "#filtr dla sieci - dłuższy w czasie (np. 7,11), najwyżej dociać\n",
    "#zbiory uczące - potem będziemy składać sieci\n",
    "#zbiory - 2 sposoby jak je budować (od Mateusza)\n",
    "#widmo - spr do jakiej częstości obciąć (z tego co wychodzi z abs hilberta), 6 razy mniej (?)\n",
    "#kilka próbek od kilku pacjentów\n",
    "\n",
    "#wyćwiczone na wszystkich - wyzerować któreś i tak sprawdzić (pasmo częstowściowe)\n",
    "hide_toggle()"
   ]
  },
  {
   "cell_type": "code",
   "execution_count": 3,
   "metadata": {},
   "outputs": [
    {
     "data": {
      "text/html": [
       "\n",
       "        <script>\n",
       "            function code_toggle_8199112120871676176() {\n",
       "                $('div.cell.code_cell.rendered.selected').find('div.input').toggle();\n",
       "            }\n",
       "\n",
       "            \n",
       "        </script>\n",
       "\n",
       "        <a href=\"javascript:code_toggle_8199112120871676176()\">Toggle show/hide</a>\n",
       "    "
      ],
      "text/plain": [
       "<IPython.core.display.HTML object>"
      ]
     },
     "execution_count": 3,
     "metadata": {},
     "output_type": "execute_result"
    }
   ],
   "source": [
    "''' 25 na 5 foldów - 5x5 średnie acc, auc\n",
    "    8 walidacyjnych zostaje\n",
    "    5 różnych modeli - dla każddego z osobna walidacja\n",
    "    jesli więcej niż 3 modele na daną klase - zaklasyfikowany - policzyć accuracy,\n",
    "    wykresy acc w czasie i loss w czasie dla każdej z 5 (25 na 5 foldów) modeli (w każdej iteracji),\n",
    "    sprawadź dla paru batch size jak sie zachowują wykresy,\n",
    "    '''\n",
    "hide_toggle()"
   ]
  },
  {
   "cell_type": "code",
   "execution_count": 4,
   "metadata": {},
   "outputs": [
    {
     "data": {
      "text/html": [
       "\n",
       "        <script>\n",
       "            function code_toggle_7667741669524615145() {\n",
       "                $('div.cell.code_cell.rendered.selected').find('div.input').toggle();\n",
       "            }\n",
       "\n",
       "            \n",
       "        </script>\n",
       "\n",
       "        <a href=\"javascript:code_toggle_7667741669524615145()\">Toggle show/hide</a>\n",
       "    "
      ],
      "text/plain": [
       "<IPython.core.display.HTML object>"
      ]
     },
     "execution_count": 4,
     "metadata": {},
     "output_type": "execute_result"
    }
   ],
   "source": [
    "import numpy as np\n",
    "import matplotlib.pyplot as plt\n",
    "from tensorflow.keras.models import Sequential\n",
    "from tensorflow.keras.layers import Dense, Conv2D, AveragePooling2D, Flatten, Dropout\n",
    "from tensorflow.keras.utils import to_categorical\n",
    "from sklearn.model_selection import train_test_split\n",
    "from typing import Iterable, Union\n",
    "from numpy.random import seed\n",
    "seed(2020)\n",
    "from tensorflow import set_random_seed\n",
    "set_random_seed(2020)\n",
    "\n",
    "hide_toggle()"
   ]
  },
  {
   "cell_type": "code",
   "execution_count": 9,
   "metadata": {},
   "outputs": [],
   "source": [
    "def get_training(X, y, combinations, pic_mode):\n",
    "    X_train = np.concatenate([X[ind] for ind in combinations], axis = 1)\n",
    "    X_train = np.einsum(pic_mode, X_train)\n",
    "    y_train = np.concatenate([y[ind] for ind in combinations])\n",
    "    y_train = to_categorical(y_train).astype(int)\n",
    "    return X_train, y_train\n",
    "\n",
    "def get_test(X, y, ind, pic_mode):\n",
    "    X_test = np.einsum(pic_mode, X[ind])\n",
    "    y_test = to_categorical(y[ind]).astype(int)\n",
    "    return X_test, y_test\n",
    "\n"
   ]
  },
  {
   "cell_type": "code",
   "execution_count": 3,
   "metadata": {},
   "outputs": [],
   "source": [
    "def evaluate(model, X_val: Iterable, y_val: Iterable, verbose = 1):\n",
    "    # Generate generalization metrics\n",
    "    score = model.evaluate(X_val, y_val, verbose=0)\n",
    "    if verbose:\n",
    "        print(f'Test loss: {score[0]} / Test accuracy: {score[1]}')\n",
    "    return score\n",
    "\n",
    "def plot_history(history, loss_fun: str):\n",
    "    # Plot history: Categorical crossentropy & Accuracy\n",
    "    plt.figure(figsize=(12,8))\n",
    "    plt.plot(history.history['loss'], label=loss_fun + '(training data)')\n",
    "    plt.plot(history.history['val_loss'], label=loss_fun + '(validation data)')\n",
    "    plt.plot(history.history['acc'], label='Accuracy (training data)')\n",
    "    plt.plot(history.history['val_acc'], label='Accuracy (validation data)')\n",
    "    plt.title('Model performance')\n",
    "    plt.ylabel('Loss value')\n",
    "    plt.xlabel('No. epoch')\n",
    "    plt.legend(loc=\"upper left\")\n",
    "    plt.show()"
   ]
  },
  {
   "cell_type": "code",
   "execution_count": 16,
   "metadata": {},
   "outputs": [],
   "source": [
    "def create_model(sample_shape: Iterable,\n",
    "                 no_classes: int, kernel: Iterable,\n",
    "                 loss_fun = 'binary_crossentropy'):\n",
    "    model = Sequential()\n",
    "    model.add(Conv2D(64, kernel_size = kernel,input_shape=sample_shape, activation='relu', data_format = 'channels_last'))\n",
    "    model.add(AveragePooling2D(kernel))\n",
    "    model.add(Dropout(0.4))\n",
    "    model.add(Dense(64, activation='softmax'))\n",
    "    model.add(Flatten())\n",
    "    model.add(Dropout(0.4))\n",
    "    model.add(Dense(no_classes, activation='softmax'))\n",
    "    model.compile(loss=loss_fun, optimizer='adam', metrics=['accuracy'])\n",
    "    return model\n",
    "\n",
    "def create_model_LSTM(sample_shape: Iterable,\n",
    "                 no_classes: int, kernel: Iterable,\n",
    "                 loss_fun = 'binary_crossentropy'):\n",
    "    model = Sequential()\n",
    "    model.add(ConvLSTM2D(filters = 15, kernel_size = kernel, activation='tanh', dropout = 0.4, return_sequences = True, input_shape = sample_shape,data_format='channels_last',recurrent_activation='hard_sigmoid'))\n",
    "    # model.add(BatchNormalization())\n",
    "    # model.add(SpatialDropout3D(1))\n",
    "    # model.add(Dense(10, activation='tanh'))\n",
    "    # model.add(ConvLSTM2D(filters = 20, kernel_size = (1,1), activation='tanh', dropout = 0.5, return_sequences = True))\n",
    "    # model.add(BatchNormalization())\n",
    "    model.add(Flatten())\n",
    "    # model.add(Dense(256, activation='relu', kernel_initializer='he_uniform'))\n",
    "    model.add(Dense(no_classes, activation='softmax'))\n",
    "    model.compile(loss=loss_fun, optimizer='adam', metrics=['accuracy'])\n",
    "    return model\n",
    "\n",
    "def fit(model, X_train: Iterable, y_train: Iterable, \n",
    "                      X_test: Iterable, y_test: Iterable,\n",
    "                      batch_size: int, no_epochs: int, \n",
    "                      verbosity = 1):\n",
    "    \n",
    "    # Fit data to model\n",
    "    history = model.fit(X_train, y_train,\n",
    "                batch_size=batch_size,\n",
    "                epochs=no_epochs,\n",
    "                verbose=verbosity,\n",
    "                validation_data=(X_test, y_test))\n",
    "    return model, history"
   ]
  },
  {
   "cell_type": "markdown",
   "metadata": {},
   "source": [
    "# Loading data"
   ]
  },
  {
   "cell_type": "code",
   "execution_count": 5,
   "metadata": {},
   "outputs": [],
   "source": [
    "class_no8 = np.load('class_no8.npy')\n",
    "data_no8 = np.load('data_no8.npy')\n",
    "\n",
    "\n",
    "class_no13 = np.load('class_no13.npy')\n",
    "data_no13 = np.load('data_no13.npy')\n",
    "\n",
    "class_no18 = np.load('class_no18.npy')\n",
    "data_no18 = np.load('data_no18.npy')\n",
    "\n",
    "class_no23 = np.load('class_no23.npy')\n",
    "data_no23 = np.load('data_no23.npy')\n",
    "\n",
    "class_no28 = np.load('class_no28.npy')\n",
    "data_no28 = np.load('data_no28.npy')\n",
    "\n",
    "class_no33 = np.load('class_no33.npy')\n",
    "data_no33 = np.load('data_no33.npy')\n",
    "\n",
    "hide_toggle()"
   ]
  },
  {
   "cell_type": "markdown",
   "metadata": {},
   "source": [
    "## Picture options - time x freq bands or time x channels"
   ]
  },
  {
   "cell_type": "code",
   "execution_count": 6,
   "metadata": {},
   "outputs": [],
   "source": [
    "freq_bands = 'ijkl->jlik'\n",
    "channels = 'ijkl->jlki'"
   ]
  },
  {
   "cell_type": "markdown",
   "metadata": {},
   "source": [
    "### Validation dataset"
   ]
  },
  {
   "cell_type": "code",
   "execution_count": 61,
   "metadata": {},
   "outputs": [],
   "source": [
    "X_validation = np.einsum(freq_bands,data_no8)\n",
    "y_validation = to_categorical(class_no8).astype(int)"
   ]
  },
  {
   "cell_type": "markdown",
   "metadata": {},
   "source": [
    "## Prepared combinations"
   ]
  },
  {
   "cell_type": "code",
   "execution_count": 50,
   "metadata": {},
   "outputs": [],
   "source": [
    "X = {1 : data_no13, 2: data_no18, 3: data_no23, 4: data_no28, 5: data_no33}\n",
    "y = {1 : class_no13, 2: class_no18, 3: class_no23, 4: class_no28, 5: class_no33}\n",
    "combinations_train = ((1,2,3,4),\n",
    "                      (1,2,3,5),\n",
    "                      (1,2,4,5),\n",
    "                      (1,3,4,5),\n",
    "                      (2,3,4,5))\n",
    "\n",
    "combinations_test = (5, 4, 3, 2, 1)"
   ]
  },
  {
   "cell_type": "markdown",
   "metadata": {},
   "source": [
    "### Params"
   ]
  },
  {
   "cell_type": "code",
   "execution_count": 56,
   "metadata": {},
   "outputs": [],
   "source": [
    "batch_size = 200\n",
    "no_epochs = 15\n",
    "verbosity = 1\n",
    "loss_fun = 'categorical_crossentropy'"
   ]
  },
  {
   "cell_type": "markdown",
   "metadata": {},
   "source": [
    "## Datasets"
   ]
  },
  {
   "cell_type": "code",
   "execution_count": 57,
   "metadata": {},
   "outputs": [],
   "source": [
    "combination = 1\n",
    "X_train, y_train = get_training(X, y, combinations_train[combination], channels)\n",
    "X_test, y_test = get_test(X, y, combinations_test[combination], channels)\n",
    "sample_shape = (X_train.shape[1], X_train.shape[2], X_train.shape[3])"
   ]
  },
  {
   "cell_type": "markdown",
   "metadata": {},
   "source": [
    "## Learning"
   ]
  },
  {
   "cell_type": "code",
   "execution_count": 58,
   "metadata": {},
   "outputs": [
    {
     "name": "stdout",
     "output_type": "stream",
     "text": [
      "Train on 18144 samples, validate on 4618 samples\n",
      "Epoch 1/15\n",
      "18144/18144 [==============================] - 7s 361us/sample - loss: 0.6937 - acc: 0.5029 - val_loss: 0.6929 - val_acc: 0.5006\n",
      "Epoch 2/15\n",
      "18144/18144 [==============================] - 6s 327us/sample - loss: 0.6903 - acc: 0.5323 - val_loss: 0.6901 - val_acc: 0.5314\n",
      "Epoch 3/15\n",
      "18144/18144 [==============================] - 6s 326us/sample - loss: 0.6882 - acc: 0.5378 - val_loss: 0.6882 - val_acc: 0.5435\n",
      "Epoch 4/15\n",
      "18144/18144 [==============================] - 6s 325us/sample - loss: 0.6859 - acc: 0.5518 - val_loss: 0.6868 - val_acc: 0.5489\n",
      "Epoch 5/15\n",
      "18144/18144 [==============================] - 6s 327us/sample - loss: 0.6855 - acc: 0.5497 - val_loss: 0.6861 - val_acc: 0.5435\n",
      "Epoch 6/15\n",
      "18144/18144 [==============================] - 6s 327us/sample - loss: 0.6828 - acc: 0.5624 - val_loss: 0.6847 - val_acc: 0.5585\n",
      "Epoch 7/15\n",
      "18144/18144 [==============================] - 6s 326us/sample - loss: 0.6834 - acc: 0.5633 - val_loss: 0.6861 - val_acc: 0.5502\n",
      "Epoch 8/15\n",
      "18144/18144 [==============================] - 6s 328us/sample - loss: 0.6824 - acc: 0.5631 - val_loss: 0.6831 - val_acc: 0.5624\n",
      "Epoch 9/15\n",
      "18144/18144 [==============================] - 6s 327us/sample - loss: 0.6809 - acc: 0.5633 - val_loss: 0.6838 - val_acc: 0.5567\n",
      "Epoch 10/15\n",
      "18144/18144 [==============================] - 6s 327us/sample - loss: 0.6800 - acc: 0.5677 - val_loss: 0.6831 - val_acc: 0.5608\n",
      "Epoch 11/15\n",
      "18144/18144 [==============================] - 6s 328us/sample - loss: 0.6795 - acc: 0.5677 - val_loss: 0.6829 - val_acc: 0.5617\n",
      "Epoch 12/15\n",
      "18144/18144 [==============================] - 6s 328us/sample - loss: 0.6792 - acc: 0.5688 - val_loss: 0.6825 - val_acc: 0.5608\n",
      "Epoch 13/15\n",
      "18144/18144 [==============================] - 6s 327us/sample - loss: 0.6778 - acc: 0.5700 - val_loss: 0.6823 - val_acc: 0.5585\n",
      "Epoch 14/15\n",
      "18144/18144 [==============================] - 6s 326us/sample - loss: 0.6768 - acc: 0.5724 - val_loss: 0.6823 - val_acc: 0.5576\n",
      "Epoch 15/15\n",
      "18144/18144 [==============================] - 6s 326us/sample - loss: 0.6764 - acc: 0.5718 - val_loss: 0.6829 - val_acc: 0.5570\n"
     ]
    }
   ],
   "source": [
    "bands_i = [0,1,2,3]\n",
    "sample_shape = (X_train.shape[1], X_train.shape[2], X_train.shape[3]-1)\n",
    "\"Creating model\"\n",
    "model = create_model(sample_shape, 2, (7,3))\n",
    "\n",
    "\"Fitting model to data\"\n",
    "fitted_model, hist = fit(model, X_train[:,:,:,bands_i], y_train, X_test[:,:,:,bands_i], y_test, \n",
    "            batch_size, no_epochs)"
   ]
  },
  {
   "cell_type": "markdown",
   "metadata": {},
   "source": [
    "## Evaluating"
   ]
  },
  {
   "cell_type": "code",
   "execution_count": 59,
   "metadata": {
    "scrolled": false
   },
   "outputs": [
    {
     "name": "stdout",
     "output_type": "stream",
     "text": [
      "Test loss: 0.6836381687312889 / Test accuracy: 0.556897759437561\n"
     ]
    },
    {
     "data": {
      "image/png": "[encoded data removed]",
      "text/plain": [
       "<Figure size 864x576 with 1 Axes>"
      ]
     },
     "metadata": {
      "needs_background": "light"
     },
     "output_type": "display_data"
    }
   ],
   "source": [
    "\"Getting validation and loss score\"\n",
    "score = evaluate(fitted_model, X_validation[:,:,:,bands_i], y_validation)\n",
    "\n",
    "\"Plotting history\"\n",
    "plot_history(hist, loss_fun)"
   ]
  },
  {
   "cell_type": "markdown",
   "metadata": {},
   "source": [
    "## Collecting votes"
   ]
  },
  {
   "cell_type": "code",
   "execution_count": 62,
   "metadata": {},
   "outputs": [],
   "source": [
    "X_validation = np.einsum(freq_bands,data_no8)\n",
    "y_validation = to_categorical(class_no8).astype(int)"
   ]
  },
  {
   "cell_type": "code",
   "execution_count": 65,
   "metadata": {
    "scrolled": false
   },
   "outputs": [
    {
     "name": "stdout",
     "output_type": "stream",
     "text": [
      "0\n",
      "1\n",
      "2\n",
      "3\n",
      "4\n",
      "0.5736444749485243\n"
     ]
    }
   ],
   "source": [
    "batch_size = 200\n",
    "no_epochs = 15\n",
    "\n",
    "trials = y_validation.shape[0]\n",
    "pred = np.zeros((5,trials))\n",
    "\n",
    "for i in range(5):\n",
    "    X_train, y_train = get_training(X, y, combinations_train[i], freq_bands)\n",
    "    X_test, y_test = get_test(X, y, combinations_test[i], freq_bands)\n",
    "    sample_shape = (X_train.shape[1], X_train.shape[2]-1, X_train.shape[3])\n",
    "    \n",
    "    model = create_model(sample_shape, 2, (7,1))\n",
    "    \n",
    "    fitted_model, _ = fit(model, X_train[:,:,bands_i,:], y_train, X_test[:,:,bands_i,:], y_test, \n",
    "                batch_size, no_epochs, verbosity = 0)\n",
    "    \n",
    "    pred[i] = fitted_model.predict_classes(X_validation[:,:,bands_i,:])\n",
    "    print(i)\n",
    "votes = np.sum(pred, axis = 0)\n",
    "votes[votes<=2] = 0\n",
    "votes[votes>=3] = 1\n",
    "score = len(votes[class_no8==votes])\n",
    "acc = score/trials\n",
    "print(acc)"
   ]
  },
  {
   "cell_type": "code",
   "execution_count": null,
   "metadata": {},
   "outputs": [],
   "source": []
  }
 ],
 "metadata": {
  "kernelspec": {
   "display_name": "Python 3",
   "language": "python",
   "name": "python3"
  },
  "language_info": {
   "codemirror_mode": {
    "name": "ipython",
    "version": 3
   },
   "file_extension": ".py",
   "mimetype": "text/x-python",
   "name": "python",
   "nbconvert_exporter": "python",
   "pygments_lexer": "ipython3",
   "version": "3.6.10"
  }
 },
 "nbformat": 4,
 "nbformat_minor": 4
}
