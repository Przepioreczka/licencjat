{
 "cells": [
  {
   "cell_type": "markdown",
   "metadata": {},
   "source": [
    "# Final data"
   ]
  },
  {
   "cell_type": "code",
   "execution_count": 2,
   "metadata": {},
   "outputs": [],
   "source": [
    "from plots import before_after_plot, plot_mean_welch\n",
    "from get_bads import get_bad_epochs, get_bad_channels\n",
    "from preprocess import preprocess\n",
    "import numpy as np"
   ]
  },
  {
   "cell_type": "markdown",
   "metadata": {},
   "source": [
    "## Splitting per participant"
   ]
  },
  {
   "cell_type": "code",
   "execution_count": 9,
   "metadata": {},
   "outputs": [
    {
     "name": "stdout",
     "output_type": "stream",
     "text": [
      "DONE, PARTICIPANT: k8\n",
      "DONE, PARTICIPANT: k10\n",
      "DONE, PARTICIPANT: k16\n",
      "SAVED PACKAGE, NUMBER: 2\n",
      "DONE, PARTICIPANT: k3\n",
      "DONE, PARTICIPANT: k12\n",
      "DONE, PARTICIPANT: k6\n",
      "SAVED PACKAGE, NUMBER: 5\n",
      "DONE, PARTICIPANT: k13\n",
      "DONE, PARTICIPANT: k5\n",
      "DONE, PARTICIPANT: k18\n",
      "SAVED PACKAGE, NUMBER: 8\n",
      "DONE, PARTICIPANT: k11\n",
      "DONE, PARTICIPANT: k15\n",
      "DONE, PARTICIPANT: k7\n",
      "SAVED PACKAGE, NUMBER: 11\n",
      "DONE, PARTICIPANT: k4\n",
      "DONE, PARTICIPANT: k14\n",
      "DONE, PARTICIPANT: k9\n",
      "SAVED PACKAGE, NUMBER: 14\n",
      "FINISHED\n"
     ]
    }
   ],
   "source": [
    "bands = [(0.5,4), (4,9), (9,14), (14,30), (30,49)]\n",
    "band_names = ('delta','theta','alpha','beta','gamma')\n",
    "\n",
    "participants = ['k'+str(i) for i in range(1,19)]\n",
    "participants.extend(['m'+str(i) for i in range(1,19)])\n",
    "participants.pop(0)\n",
    "participants.pop(0)\n",
    "participants.pop(14)\n",
    "package = np.empty((5,0,19,77))\n",
    "epo_class = np.empty((0))\n",
    "np.random.shuffle(participants)\n",
    "ind_stop = (7,12,17,22,27,32)\n",
    "# ind_stop = (2,5,8,11,14,17)\n",
    "\n",
    "np.save('participants.npy', participants)    \n",
    "\n",
    "for i in range(len(participants)):\n",
    "    fs, epochs, channels, y = preprocess('./data2/'+participants[i]+'.set', \n",
    "                        fmin = 0.5, fmax = 49, \n",
    "                        method = 'iir', \n",
    "                        down_fs = 256, \n",
    "                        tmin = -0.2, tmax = 1, \n",
    "                        exclude_ratio = 2, \n",
    "                        method_bands = 'iir', \n",
    "                        bands = bands,\n",
    "                        verbose = False,\n",
    "                        notch = True)\n",
    "    package = np.concatenate((package, epochs), axis = 1)\n",
    "    epo_class = np.concatenate((epo_class, y))\n",
    "    print(\"DONE, PARTICIPANT: \" + participants[i])\n",
    "    if i in ind_stop:\n",
    "        np.save('data_no'+str(i+1)+'.npy', package)\n",
    "        np.save('class_no'+str(i+1)+'.npy', epo_class)\n",
    "        package = np.empty((5,0,19,77))\n",
    "        epo_class = np.empty((0))\n",
    "        print(\"SAVED PACKAGE, NUMBER: \" + str(i))\n",
    "np.save('channels.npy', np.array(channels))    \n",
    "print(\"FINISHED\")"
   ]
  },
  {
   "cell_type": "markdown",
   "metadata": {},
   "source": [
    "## Mixing participants"
   ]
  },
  {
   "cell_type": "code",
   "execution_count": 101,
   "metadata": {},
   "outputs": [
    {
     "name": "stdout",
     "output_type": "stream",
     "text": [
      "k3\n",
      "DONE, PARTICIPANT: k3\n",
      "k4\n",
      "DONE, PARTICIPANT: k4\n",
      "k5\n",
      "DONE, PARTICIPANT: k5\n",
      "k6\n",
      "DONE, PARTICIPANT: k6\n",
      "k7\n",
      "DONE, PARTICIPANT: k7\n",
      "k8\n",
      "DONE, PARTICIPANT: k8\n",
      "k9\n",
      "DONE, PARTICIPANT: k9\n",
      "k10\n",
      "DONE, PARTICIPANT: k10\n",
      "k11\n",
      "DONE, PARTICIPANT: k11\n",
      "k12\n",
      "DONE, PARTICIPANT: k12\n",
      "k13\n",
      "DONE, PARTICIPANT: k13\n",
      "k14\n",
      "DONE, PARTICIPANT: k14\n",
      "k15\n",
      "DONE, PARTICIPANT: k15\n",
      "k16\n",
      "DONE, PARTICIPANT: k16\n",
      "k18\n",
      "DONE, PARTICIPANT: k18\n",
      "m1\n",
      "DONE, PARTICIPANT: m1\n",
      "m2\n",
      "DONE, PARTICIPANT: m2\n",
      "m3\n",
      "DONE, PARTICIPANT: m3\n",
      "m4\n",
      "DONE, PARTICIPANT: m4\n",
      "m5\n",
      "DONE, PARTICIPANT: m5\n",
      "m6\n",
      "DONE, PARTICIPANT: m6\n",
      "m7\n",
      "DONE, PARTICIPANT: m7\n",
      "m8\n",
      "DONE, PARTICIPANT: m8\n",
      "m9\n",
      "DONE, PARTICIPANT: m9\n",
      "m10\n",
      "DONE, PARTICIPANT: m10\n",
      "m11\n",
      "DONE, PARTICIPANT: m11\n",
      "m12\n",
      "DONE, PARTICIPANT: m12\n",
      "m13\n",
      "DONE, PARTICIPANT: m13\n",
      "m14\n",
      "DONE, PARTICIPANT: m14\n",
      "m15\n",
      "DONE, PARTICIPANT: m15\n",
      "m16\n",
      "DONE, PARTICIPANT: m16\n",
      "m17\n",
      "DONE, PARTICIPANT: m17\n",
      "m18\n",
      "DONE, PARTICIPANT: m18\n",
      "FINISHED\n"
     ]
    }
   ],
   "source": [
    "bands = [(0.5,4), (4,9), (9,14), (14,30), (30,49)]\n",
    "band_names = ('delta','theta','alpha','beta','gamma')\n",
    "\n",
    "participants = ['k'+str(i) for i in range(1,19)]\n",
    "participants.extend(['m'+str(i) for i in range(1,19)])\n",
    "participants.pop(0)\n",
    "participants.pop(0)\n",
    "participants.pop(14)\n",
    "\n",
    "packages = {1 : np.empty((5,0,19,77)), 2: np.empty((5,0,19,77)), 3: np.empty((5,0,19,77)), 4: np.empty((5,0,19,77)), 5: np.empty((5,0,19,77))}\n",
    "epo_class = {1 : np.empty((0)), 2: np.empty((0)), 3: np.empty((0)), 4: np.empty((0)), 5: np.empty((0))}\n",
    "package_0k = np.empty((5,0,19,77))\n",
    "epo_class_0k = np.empty((0))\n",
    "\n",
    "for participant in participants:\n",
    "    print(participant)\n",
    "    # epochs shape = (freq bands:5, n.o. epochs, n.o. channels: 19, n.o. samples: 77)\n",
    "    fs, epochs, channels, y = preprocess('./data2/'+participant+'.set', \n",
    "                        fmin = 0.5, fmax = 49, \n",
    "                        method = 'iir', \n",
    "                        down_fs = 256, \n",
    "                        tmin = -0.2, tmax = 1, \n",
    "                        exclude_ratio = 2, \n",
    "                        method_bands = 'iir', \n",
    "                        bands = bands,\n",
    "                        verbose = False,\n",
    "                        notch = True)\n",
    "    test_count = int(epochs.shape[1]*0.25)\n",
    "    package_0k = np.concatenate((package_0k, epochs[:,0:test_count,:,:]), axis = 1)\n",
    "    epo_class_0k = np.concatenate((epo_class_0k, y[0:test_count]))\n",
    "    train_val_count = epochs.shape[1]-int(epochs.shape[1]*0.25)\n",
    "    for i in range(0,5):\n",
    "        q1, q2 = i*train_val_count//5+test_count, (i+1)*train_val_count//5+test_count\n",
    "        temp = np.concatenate((packages[i+1], epochs[:,q1:q2,:,:]), axis = 1)\n",
    "        packages[i+1] = temp\n",
    "        y_temp = np.concatenate((epo_class[i+1], y[q1:q2]))\n",
    "        epo_class[i+1] = y_temp\n",
    "    print(\"DONE, PARTICIPANT: \" + participant)\n",
    "print(\"FINISHED\")"
   ]
  },
  {
   "cell_type": "code",
   "execution_count": 109,
   "metadata": {},
   "outputs": [],
   "source": [
    "for i in range(1,6):\n",
    "    np.save('npy_data_mix/data_no'+str(i)+'.npy', packages[i])\n",
    "    np.save('npy_data_mix/class_no'+str(i)+'.npy', epo_class[i])"
   ]
  },
  {
   "cell_type": "code",
   "execution_count": 110,
   "metadata": {},
   "outputs": [],
   "source": [
    "np.save('npy_data_mix/data_no0.npy', package_0k)\n",
    "np.save('npy_data_mix/class_no0.npy', epo_class_0k)"
   ]
  },
  {
   "cell_type": "markdown",
   "metadata": {},
   "source": [
    "## All participants separately"
   ]
  },
  {
   "cell_type": "code",
   "execution_count": 1,
   "metadata": {},
   "outputs": [
    {
     "ename": "NameError",
     "evalue": "name 'preprocess' is not defined",
     "output_type": "error",
     "traceback": [
      "\u001b[0;31m---------------------------------------------------------------------------\u001b[0m",
      "\u001b[0;31mNameError\u001b[0m                                 Traceback (most recent call last)",
      "\u001b[0;32m<ipython-input-1-ab2df050e366>\u001b[0m in \u001b[0;36m<module>\u001b[0;34m\u001b[0m\n\u001b[1;32m      9\u001b[0m \u001b[0;34m\u001b[0m\u001b[0m\n\u001b[1;32m     10\u001b[0m \u001b[0;32mfor\u001b[0m \u001b[0mi\u001b[0m\u001b[0;34m,\u001b[0m \u001b[0mparticipant\u001b[0m \u001b[0;32min\u001b[0m \u001b[0menumerate\u001b[0m\u001b[0;34m(\u001b[0m\u001b[0mparticipants\u001b[0m\u001b[0;34m)\u001b[0m\u001b[0;34m:\u001b[0m\u001b[0;34m\u001b[0m\u001b[0;34m\u001b[0m\u001b[0m\n\u001b[0;32m---> 11\u001b[0;31m     fs, epochs, channels, y = preprocess('./data2/'+participant+'.set', \n\u001b[0m\u001b[1;32m     12\u001b[0m                         \u001b[0mfmin\u001b[0m \u001b[0;34m=\u001b[0m \u001b[0;36m0.5\u001b[0m\u001b[0;34m,\u001b[0m \u001b[0mfmax\u001b[0m \u001b[0;34m=\u001b[0m \u001b[0;36m49\u001b[0m\u001b[0;34m,\u001b[0m\u001b[0;34m\u001b[0m\u001b[0;34m\u001b[0m\u001b[0m\n\u001b[1;32m     13\u001b[0m                         \u001b[0mmethod\u001b[0m \u001b[0;34m=\u001b[0m \u001b[0;34m'iir'\u001b[0m\u001b[0;34m,\u001b[0m\u001b[0;34m\u001b[0m\u001b[0;34m\u001b[0m\u001b[0m\n",
      "\u001b[0;31mNameError\u001b[0m: name 'preprocess' is not defined"
     ]
    }
   ],
   "source": [
    "bands = [(0.5,4), (4,9), (9,14), (14,30), (30,49)]\n",
    "band_names = ('delta','theta','alpha','beta','gamma')\n",
    "\n",
    "participants = ['k'+str(i) for i in range(1,19)]\n",
    "participants.extend(['m'+str(i) for i in range(1,19)])\n",
    "participants.pop(0)\n",
    "participants.pop(0)\n",
    "participants.pop(14)\n",
    "\n",
    "for i, participant in enumerate(participants):\n",
    "    fs, epochs, channels, y = preprocess('./data2/'+participant+'.set', \n",
    "                        fmin = 0.5, fmax = 49, \n",
    "                        method = 'iir', \n",
    "                        down_fs = 256, \n",
    "                        tmin = -0.2, tmax = 1, \n",
    "                        exclude_ratio = 2, \n",
    "                        method_bands = 'iir', \n",
    "                        bands = bands,\n",
    "                        verbose = False,\n",
    "                        notch = True)\n",
    "    np.save(f'npy_data_all_separate/data_part{i+1}.npy', epochs)\n",
    "    np.save(f'npy_data_all_separate/class_part{i+1}.npy', epochs)\n",
    "    print(\"DONE, PARTICIPANT: \" + participant)\n",
    "print(\"FINISHED\")"
   ]
  },
  {
   "cell_type": "markdown",
   "metadata": {},
   "source": [
    "# Get names of all interpolated channels for all participants"
   ]
  },
  {
   "cell_type": "code",
   "execution_count": 2,
   "metadata": {},
   "outputs": [
    {
     "name": "stdout",
     "output_type": "stream",
     "text": [
      "Participant: k3, ch names: ['F8' 'Fp1' 'Fp2']\n",
      "Participant: k4, ch names: ['Fp1' 'Fp2']\n",
      "Participant: k5, ch names: ['Fp1']\n",
      "Participant: k6, ch names: ['T3' 'T4' 'F8' 'Fp1' 'Fp2']\n",
      "Participant: k7, ch names: ['F7']\n",
      "Participant: k8, ch names: []\n",
      "Participant: k9, ch names: ['T3' 'T4' 'Fp1' 'Fp2']\n",
      "Participant: k10, ch names: ['Fp1' 'Fp2']\n",
      "Participant: k11, ch names: ['Fp1' 'Fp2']\n",
      "Participant: k12, ch names: ['Fp1' 'Fp2']\n",
      "Participant: k13, ch names: ['O2' 'T5' 'Pz']\n",
      "Participant: k14, ch names: ['T4' 'Fp1' 'Fp2']\n",
      "Participant: k15, ch names: ['O2' 'T5' 'Fp1' 'Fp2']\n",
      "Participant: k16, ch names: ['Fp1' 'Fp2']\n",
      "Participant: k18, ch names: ['T5' 'Fp1' 'Fp2']\n",
      "Participant: m1, ch names: ['T3' 'T4' 'Fp1' 'Fp2']\n",
      "Participant: m2, ch names: ['T3' 'T4' 'Fp1' 'Fp2']\n",
      "Participant: m3, ch names: ['Pz' 'C3' 'Fp1' 'Fp2']\n",
      "Participant: m4, ch names: ['Fp1' 'Fp2']\n",
      "Participant: m5, ch names: ['Fp1' 'Fp2']\n",
      "Participant: m6, ch names: ['P3' 'Fp1' 'Fp2']\n",
      "Participant: m7, ch names: ['O1' 'Fp1' 'Fp2']\n",
      "Participant: m8, ch names: ['T5' 'Fp1' 'Fp2']\n",
      "Participant: m9, ch names: ['Fp1' 'Fp2']\n",
      "Participant: m10, ch names: ['Fp1' 'Fp2']\n",
      "Participant: m11, ch names: ['O2' 'Fp1' 'Fp2']\n",
      "Participant: m12, ch names: ['F8' 'Fp1' 'Fp2']\n",
      "Participant: m13, ch names: []\n",
      "Participant: m14, ch names: ['T5' 'Pz' 'T4']\n",
      "Participant: m15, ch names: ['F7' 'Fp1' 'Fp2']\n",
      "Participant: m16, ch names: ['F7' 'Fp1' 'Fp2']\n",
      "Participant: m17, ch names: ['Fp1' 'Fp2']\n",
      "Participant: m18, ch names: ['F8' 'Fp1' 'Fp2']\n"
     ]
    }
   ],
   "source": [
    "from preprocess import read_and_get_bad_channels\n",
    "\n",
    "participants = ['k'+str(i) for i in range(1,19)]\n",
    "participants.extend(['m'+str(i) for i in range(1,19)])\n",
    "participants.pop(0)\n",
    "participants.pop(0)\n",
    "participants.pop(14)\n",
    "dic_channels = {}\n",
    "for i, participant in enumerate(participants):\n",
    "    ch_ind, ch_names = read_and_get_bad_channels('./data2/'+participant+'.set', \n",
    "                        fmin = 0.5, fmax = 49, \n",
    "                        method = 'iir', notch = True)\n",
    "    dic_channels[participant+\"_names\"] = ch_names\n",
    "    dic_channels[participant+\"_ind\"] = ch_ind\n",
    "    print(f\"Participant: {participant}, ch names: {ch_names}\")"
   ]
  },
  {
   "cell_type": "code",
   "execution_count": 26,
   "metadata": {},
   "outputs": [],
   "source": [
    "for key in dic_channels:\n",
    "    dic_channels[key]=list(dic_channels[key])"
   ]
  },
  {
   "cell_type": "code",
   "execution_count": 27,
   "metadata": {},
   "outputs": [
    {
     "name": "stdout",
     "output_type": "stream",
     "text": [
      "{'k3_names': ['Fp1', 'Fp2', 'F8'], 'k3_ind': [16, 17, 18], 'k4_names': ['Fp1', 'Fp2'], 'k4_ind': [17, 18], 'k5_names': ['Fp1'], 'k5_ind': [17], 'k6_names': ['F8', 'T4', 'Fp1', 'T3', 'Fp2'], 'k6_ind': [7, 11, 16, 17, 18], 'k7_names': ['F7'], 'k7_ind': [12], 'k8_names': [], 'k8_ind': [], 'k9_names': ['T4', 'T3', 'Fp1', 'Fp2'], 'k9_ind': [17, 18, 11, 7], 'k10_names': ['Fp1', 'Fp2'], 'k10_ind': [17, 18], 'k11_names': ['Fp1', 'Fp2'], 'k11_ind': [17, 18], 'k12_names': ['Fp1', 'Fp2'], 'k12_ind': [17, 18], 'k13_names': ['O2', 'T5', 'Pz'], 'k13_ind': [1, 2, 4], 'k14_names': ['T4', 'Fp1', 'Fp2'], 'k14_ind': [17, 18, 11], 'k15_names': ['O2', 'Fp1', 'Fp2', 'T5'], 'k15_ind': [1, 2, 18, 17], 'k16_names': ['Fp1', 'Fp2'], 'k16_ind': [17, 18], 'k18_names': ['Fp1', 'Fp2', 'T5'], 'k18_ind': [17, 2, 18], 'm1_names': ['T4', 'T3', 'Fp1', 'Fp2'], 'm1_ind': [17, 18, 11, 7], 'm2_names': ['T4', 'T3', 'Fp1', 'Fp2'], 'm2_ind': [17, 18, 11, 7], 'm3_names': ['Fp1', 'Fp2', 'C3', 'Pz'], 'm3_ind': [8, 17, 18, 4], 'm4_names': ['Fp1', 'Fp2'], 'm4_ind': [17, 18], 'm5_names': ['Fp1', 'Fp2'], 'm5_ind': [17, 18], 'm6_names': ['P3', 'Fp1', 'Fp2'], 'm6_ind': [17, 18, 3], 'm7_names': ['O1', 'Fp1', 'Fp2'], 'm7_ind': [0, 17, 18], 'm8_names': ['Fp1', 'Fp2', 'T5'], 'm8_ind': [17, 2, 18], 'm9_names': ['Fp1', 'Fp2'], 'm9_ind': [17, 18], 'm10_names': ['Fp1', 'Fp2'], 'm10_ind': [17, 18], 'm11_names': ['O2', 'Fp1', 'Fp2'], 'm11_ind': [1, 18, 17], 'm12_names': ['Fp1', 'Fp2', 'F8'], 'm12_ind': [16, 17, 18], 'm13_names': [], 'm13_ind': [], 'm14_names': ['T4', 'T5', 'Pz'], 'm14_ind': [2, 11, 4], 'm15_names': ['F7', 'Fp1', 'Fp2'], 'm15_ind': [17, 18, 12], 'm16_names': ['F7', 'Fp1', 'Fp2'], 'm16_ind': [17, 18, 12], 'm17_names': ['Fp1', 'Fp2'], 'm17_ind': [17, 18], 'm18_names': ['Fp1', 'Fp2', 'F8'], 'm18_ind': [16, 17, 18]}\n"
     ]
    }
   ],
   "source": [
    "print(dic_channels)"
   ]
  },
  {
   "cell_type": "code",
   "execution_count": 28,
   "metadata": {},
   "outputs": [],
   "source": [
    "import pickle"
   ]
  },
  {
   "cell_type": "code",
   "execution_count": 29,
   "metadata": {},
   "outputs": [
    {
     "name": "stdout",
     "output_type": "stream",
     "text": [
      "{'k3_names': ['Fp1', 'Fp2', 'F8'], 'k3_ind': [16, 17, 18], 'k4_names': ['Fp1', 'Fp2'], 'k4_ind': [17, 18], 'k5_names': ['Fp1'], 'k5_ind': [17], 'k6_names': ['F8', 'T4', 'Fp1', 'T3', 'Fp2'], 'k6_ind': [7, 11, 16, 17, 18], 'k7_names': ['F7'], 'k7_ind': [12], 'k8_names': [], 'k8_ind': [], 'k9_names': ['T4', 'T3', 'Fp1', 'Fp2'], 'k9_ind': [17, 18, 11, 7], 'k10_names': ['Fp1', 'Fp2'], 'k10_ind': [17, 18], 'k11_names': ['Fp1', 'Fp2'], 'k11_ind': [17, 18], 'k12_names': ['Fp1', 'Fp2'], 'k12_ind': [17, 18], 'k13_names': ['O2', 'T5', 'Pz'], 'k13_ind': [1, 2, 4], 'k14_names': ['T4', 'Fp1', 'Fp2'], 'k14_ind': [17, 18, 11], 'k15_names': ['O2', 'Fp1', 'Fp2', 'T5'], 'k15_ind': [1, 2, 18, 17], 'k16_names': ['Fp1', 'Fp2'], 'k16_ind': [17, 18], 'k18_names': ['Fp1', 'Fp2', 'T5'], 'k18_ind': [17, 2, 18], 'm1_names': ['T4', 'T3', 'Fp1', 'Fp2'], 'm1_ind': [17, 18, 11, 7], 'm2_names': ['T4', 'T3', 'Fp1', 'Fp2'], 'm2_ind': [17, 18, 11, 7], 'm3_names': ['Fp1', 'Fp2', 'C3', 'Pz'], 'm3_ind': [8, 17, 18, 4], 'm4_names': ['Fp1', 'Fp2'], 'm4_ind': [17, 18], 'm5_names': ['Fp1', 'Fp2'], 'm5_ind': [17, 18], 'm6_names': ['P3', 'Fp1', 'Fp2'], 'm6_ind': [17, 18, 3], 'm7_names': ['O1', 'Fp1', 'Fp2'], 'm7_ind': [0, 17, 18], 'm8_names': ['Fp1', 'Fp2', 'T5'], 'm8_ind': [17, 2, 18], 'm9_names': ['Fp1', 'Fp2'], 'm9_ind': [17, 18], 'm10_names': ['Fp1', 'Fp2'], 'm10_ind': [17, 18], 'm11_names': ['O2', 'Fp1', 'Fp2'], 'm11_ind': [1, 18, 17], 'm12_names': ['Fp1', 'Fp2', 'F8'], 'm12_ind': [16, 17, 18], 'm13_names': [], 'm13_ind': [], 'm14_names': ['T4', 'T5', 'Pz'], 'm14_ind': [2, 11, 4], 'm15_names': ['F7', 'Fp1', 'Fp2'], 'm15_ind': [17, 18, 12], 'm16_names': ['F7', 'Fp1', 'Fp2'], 'm16_ind': [17, 18, 12], 'm17_names': ['Fp1', 'Fp2'], 'm17_ind': [17, 18], 'm18_names': ['Fp1', 'Fp2', 'F8'], 'm18_ind': [16, 17, 18]}\n"
     ]
    }
   ],
   "source": [
    "a_file = open(\"channels_interpolated.pkl\", \"wb\")\n",
    "\n",
    "pickle.dump(dic_channels, a_file)\n",
    "\n",
    "a_file.close()\n",
    "\n",
    "\n",
    "a_file = open(\"channels_interpolated.pkl\", \"rb\")\n",
    "\n",
    "output = pickle.load(a_file)\n",
    "\n",
    "print(output)"
   ]
  },
  {
   "cell_type": "code",
   "execution_count": 41,
   "metadata": {},
   "outputs": [],
   "source": [
    "import numpy as np\n",
    "lista = list(output.values())[::2]"
   ]
  },
  {
   "cell_type": "code",
   "execution_count": 43,
   "metadata": {},
   "outputs": [
    {
     "name": "stdout",
     "output_type": "stream",
     "text": [
      "Counter({'Fp1': 28, 'Fp2': 27, 'T4': 6, 'T5': 5, 'F8': 4, 'T3': 4, 'F7': 3, 'O2': 3, 'Pz': 3, 'C3': 1, 'P3': 1, 'O1': 1})\n"
     ]
    }
   ],
   "source": [
    "from collections import Counter\n",
    "\n",
    "\n",
    "c = Counter(x for xs in lista for x in set(xs))\n",
    "\n",
    "print(c)"
   ]
  },
  {
   "cell_type": "code",
   "execution_count": null,
   "metadata": {},
   "outputs": [],
   "source": []
  }
 ],
 "metadata": {
  "kernelspec": {
   "display_name": "Python 3",
   "language": "python",
   "name": "python3"
  },
  "language_info": {
   "codemirror_mode": {
    "name": "ipython",
    "version": 3
   },
   "file_extension": ".py",
   "mimetype": "text/x-python",
   "name": "python",
   "nbconvert_exporter": "python",
   "pygments_lexer": "ipython3",
   "version": "3.6.10"
  }
 },
 "nbformat": 4,
 "nbformat_minor": 4
}
