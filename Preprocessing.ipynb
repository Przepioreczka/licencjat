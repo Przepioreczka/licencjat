{
 "cells": [
  {
   "cell_type": "markdown",
   "metadata": {},
   "source": [
    "# Final data"
   ]
  },
  {
   "cell_type": "code",
   "execution_count": 2,
   "metadata": {},
   "outputs": [],
   "source": [
    "from plots import before_after_plot, plot_mean_welch\n",
    "from get_bads import get_bad_epochs, get_bad_channels\n",
    "from preprocess import preprocess\n",
    "import numpy as np"
   ]
  },
  {
   "cell_type": "markdown",
   "metadata": {},
   "source": [
    "## Splitting per participant"
   ]
  },
  {
   "cell_type": "code",
   "execution_count": 9,
   "metadata": {},
   "outputs": [
    {
     "name": "stdout",
     "output_type": "stream",
     "text": [
      "DONE, PARTICIPANT: k8\n",
      "DONE, PARTICIPANT: k10\n",
      "DONE, PARTICIPANT: k16\n",
      "SAVED PACKAGE, NUMBER: 2\n",
      "DONE, PARTICIPANT: k3\n",
      "DONE, PARTICIPANT: k12\n",
      "DONE, PARTICIPANT: k6\n",
      "SAVED PACKAGE, NUMBER: 5\n",
      "DONE, PARTICIPANT: k13\n",
      "DONE, PARTICIPANT: k5\n",
      "DONE, PARTICIPANT: k18\n",
      "SAVED PACKAGE, NUMBER: 8\n",
      "DONE, PARTICIPANT: k11\n",
      "DONE, PARTICIPANT: k15\n",
      "DONE, PARTICIPANT: k7\n",
      "SAVED PACKAGE, NUMBER: 11\n",
      "DONE, PARTICIPANT: k4\n",
      "DONE, PARTICIPANT: k14\n",
      "DONE, PARTICIPANT: k9\n",
      "SAVED PACKAGE, NUMBER: 14\n",
      "FINISHED\n"
     ]
    }
   ],
   "source": [
    "bands = [(0.5,4), (4,9), (9,14), (14,30), (30,49)]\n",
    "band_names = ('delta','theta','alpha','beta','gamma')\n",
    "\n",
    "participants = ['k'+str(i) for i in range(1,19)]\n",
    "participants.extend(['m'+str(i) for i in range(1,19)])\n",
    "participants.pop(0)\n",
    "participants.pop(0)\n",
    "participants.pop(14)\n",
    "package = np.empty((5,0,19,77))\n",
    "epo_class = np.empty((0))\n",
    "np.random.shuffle(participants)\n",
    "ind_stop = (7,12,17,22,27,32)\n",
    "# ind_stop = (2,5,8,11,14,17)\n",
    "\n",
    "np.save('participants.npy', participants)    \n",
    "\n",
    "for i in range(len(participants)):\n",
    "    fs, epochs, channels, y = preprocess('./data2/'+participants[i]+'.set', \n",
    "                        fmin = 0.5, fmax = 49, \n",
    "                        method = 'iir', \n",
    "                        down_fs = 256, \n",
    "                        tmin = -0.2, tmax = 1, \n",
    "                        exclude_ratio = 2, \n",
    "                        method_bands = 'iir', \n",
    "                        bands = bands,\n",
    "                        verbose = False,\n",
    "                        notch = True)\n",
    "    package = np.concatenate((package, epochs), axis = 1)\n",
    "    epo_class = np.concatenate((epo_class, y))\n",
    "    print(\"DONE, PARTICIPANT: \" + participants[i])\n",
    "    if i in ind_stop:\n",
    "        np.save('data_no'+str(i+1)+'.npy', package)\n",
    "        np.save('class_no'+str(i+1)+'.npy', epo_class)\n",
    "        package = np.empty((5,0,19,77))\n",
    "        epo_class = np.empty((0))\n",
    "        print(\"SAVED PACKAGE, NUMBER: \" + str(i))\n",
    "np.save('channels.npy', np.array(channels))    \n",
    "print(\"FINISHED\")"
   ]
  },
  {
   "cell_type": "markdown",
   "metadata": {},
   "source": [
    "## Mixing participants"
   ]
  },
  {
   "cell_type": "code",
   "execution_count": 101,
   "metadata": {},
   "outputs": [
    {
     "name": "stdout",
     "output_type": "stream",
     "text": [
      "k3\n",
      "DONE, PARTICIPANT: k3\n",
      "k4\n",
      "DONE, PARTICIPANT: k4\n",
      "k5\n",
      "DONE, PARTICIPANT: k5\n",
      "k6\n",
      "DONE, PARTICIPANT: k6\n",
      "k7\n",
      "DONE, PARTICIPANT: k7\n",
      "k8\n",
      "DONE, PARTICIPANT: k8\n",
      "k9\n",
      "DONE, PARTICIPANT: k9\n",
      "k10\n",
      "DONE, PARTICIPANT: k10\n",
      "k11\n",
      "DONE, PARTICIPANT: k11\n",
      "k12\n",
      "DONE, PARTICIPANT: k12\n",
      "k13\n",
      "DONE, PARTICIPANT: k13\n",
      "k14\n",
      "DONE, PARTICIPANT: k14\n",
      "k15\n",
      "DONE, PARTICIPANT: k15\n",
      "k16\n",
      "DONE, PARTICIPANT: k16\n",
      "k18\n",
      "DONE, PARTICIPANT: k18\n",
      "m1\n",
      "DONE, PARTICIPANT: m1\n",
      "m2\n",
      "DONE, PARTICIPANT: m2\n",
      "m3\n",
      "DONE, PARTICIPANT: m3\n",
      "m4\n",
      "DONE, PARTICIPANT: m4\n",
      "m5\n",
      "DONE, PARTICIPANT: m5\n",
      "m6\n",
      "DONE, PARTICIPANT: m6\n",
      "m7\n",
      "DONE, PARTICIPANT: m7\n",
      "m8\n",
      "DONE, PARTICIPANT: m8\n",
      "m9\n",
      "DONE, PARTICIPANT: m9\n",
      "m10\n",
      "DONE, PARTICIPANT: m10\n",
      "m11\n",
      "DONE, PARTICIPANT: m11\n",
      "m12\n",
      "DONE, PARTICIPANT: m12\n",
      "m13\n",
      "DONE, PARTICIPANT: m13\n",
      "m14\n",
      "DONE, PARTICIPANT: m14\n",
      "m15\n",
      "DONE, PARTICIPANT: m15\n",
      "m16\n",
      "DONE, PARTICIPANT: m16\n",
      "m17\n",
      "DONE, PARTICIPANT: m17\n",
      "m18\n",
      "DONE, PARTICIPANT: m18\n",
      "FINISHED\n"
     ]
    }
   ],
   "source": [
    "bands = [(0.5,4), (4,9), (9,14), (14,30), (30,49)]\n",
    "band_names = ('delta','theta','alpha','beta','gamma')\n",
    "\n",
    "participants = ['k'+str(i) for i in range(1,19)]\n",
    "participants.extend(['m'+str(i) for i in range(1,19)])\n",
    "participants.pop(0)\n",
    "participants.pop(0)\n",
    "participants.pop(14)\n",
    "\n",
    "packages = {1 : np.empty((5,0,19,77)), 2: np.empty((5,0,19,77)), 3: np.empty((5,0,19,77)), 4: np.empty((5,0,19,77)), 5: np.empty((5,0,19,77))}\n",
    "epo_class = {1 : np.empty((0)), 2: np.empty((0)), 3: np.empty((0)), 4: np.empty((0)), 5: np.empty((0))}\n",
    "package_0k = np.empty((5,0,19,77))\n",
    "epo_class_0k = np.empty((0))\n",
    "\n",
    "for participant in participants:\n",
    "    print(participant)\n",
    "    # epochs shape = (freq bands:5, n.o. epochs, n.o. channels: 19, n.o. samples: 77)\n",
    "    fs, epochs, channels, y = preprocess('./data2/'+participant+'.set', \n",
    "                        fmin = 0.5, fmax = 49, \n",
    "                        method = 'iir', \n",
    "                        down_fs = 256, \n",
    "                        tmin = -0.2, tmax = 1, \n",
    "                        exclude_ratio = 2, \n",
    "                        method_bands = 'iir', \n",
    "                        bands = bands,\n",
    "                        verbose = False,\n",
    "                        notch = True)\n",
    "    test_count = int(epochs.shape[1]*0.25)\n",
    "    package_0k = np.concatenate((package_0k, epochs[:,0:test_count,:,:]), axis = 1)\n",
    "    epo_class_0k = np.concatenate((epo_class_0k, y[0:test_count]))\n",
    "    train_val_count = epochs.shape[1]-int(epochs.shape[1]*0.25)\n",
    "    for i in range(0,5):\n",
    "        q1, q2 = i*train_val_count//5+test_count, (i+1)*train_val_count//5+test_count\n",
    "        temp = np.concatenate((packages[i+1], epochs[:,q1:q2,:,:]), axis = 1)\n",
    "        packages[i+1] = temp\n",
    "        y_temp = np.concatenate((epo_class[i+1], y[q1:q2]))\n",
    "        epo_class[i+1] = y_temp\n",
    "    print(\"DONE, PARTICIPANT: \" + participant)\n",
    "print(\"FINISHED\")"
   ]
  },
  {
   "cell_type": "code",
   "execution_count": 109,
   "metadata": {},
   "outputs": [],
   "source": [
    "for i in range(1,6):\n",
    "    np.save('npy_data_mix/data_no'+str(i)+'.npy', packages[i])\n",
    "    np.save('npy_data_mix/class_no'+str(i)+'.npy', epo_class[i])"
   ]
  },
  {
   "cell_type": "code",
   "execution_count": 110,
   "metadata": {},
   "outputs": [],
   "source": [
    "np.save('npy_data_mix/data_no0.npy', package_0k)\n",
    "np.save('npy_data_mix/class_no0.npy', epo_class_0k)"
   ]
  },
  {
   "cell_type": "markdown",
   "metadata": {},
   "source": [
    "## All participants separately"
   ]
  },
  {
   "cell_type": "code",
   "execution_count": 4,
   "metadata": {},
   "outputs": [
    {
     "name": "stdout",
     "output_type": "stream",
     "text": [
      "DONE, PARTICIPANT: k3\n",
      "DONE, PARTICIPANT: k4\n",
      "DONE, PARTICIPANT: k5\n",
      "DONE, PARTICIPANT: k6\n",
      "DONE, PARTICIPANT: k7\n",
      "DONE, PARTICIPANT: k8\n",
      "DONE, PARTICIPANT: k9\n",
      "DONE, PARTICIPANT: k10\n",
      "DONE, PARTICIPANT: k11\n",
      "DONE, PARTICIPANT: k12\n",
      "DONE, PARTICIPANT: k13\n",
      "DONE, PARTICIPANT: k14\n",
      "DONE, PARTICIPANT: k15\n",
      "DONE, PARTICIPANT: k16\n",
      "DONE, PARTICIPANT: k18\n",
      "DONE, PARTICIPANT: m1\n",
      "DONE, PARTICIPANT: m2\n",
      "DONE, PARTICIPANT: m3\n",
      "DONE, PARTICIPANT: m4\n",
      "DONE, PARTICIPANT: m5\n",
      "DONE, PARTICIPANT: m6\n",
      "DONE, PARTICIPANT: m7\n",
      "DONE, PARTICIPANT: m8\n",
      "DONE, PARTICIPANT: m9\n",
      "DONE, PARTICIPANT: m10\n",
      "DONE, PARTICIPANT: m11\n",
      "DONE, PARTICIPANT: m12\n",
      "DONE, PARTICIPANT: m13\n",
      "DONE, PARTICIPANT: m14\n",
      "DONE, PARTICIPANT: m15\n",
      "DONE, PARTICIPANT: m16\n",
      "DONE, PARTICIPANT: m17\n",
      "DONE, PARTICIPANT: m18\n",
      "FINISHED\n"
     ]
    }
   ],
   "source": [
    "bands = [(0.5,4), (4,9), (9,14), (14,30), (30,49)]\n",
    "band_names = ('delta','theta','alpha','beta','gamma')\n",
    "\n",
    "participants = ['k'+str(i) for i in range(1,19)]\n",
    "participants.extend(['m'+str(i) for i in range(1,19)])\n",
    "participants.pop(0)\n",
    "participants.pop(0)\n",
    "participants.pop(14)\n",
    "\n",
    "for i, participant in enumerate(participants):\n",
    "    fs, epochs, channels, y = preprocess('./data2/'+participant+'.set', \n",
    "                        fmin = 0.5, fmax = 49, \n",
    "                        method = 'iir', \n",
    "                        down_fs = 256, \n",
    "                        tmin = -0.2, tmax = 1, \n",
    "                        exclude_ratio = 2, \n",
    "                        method_bands = 'iir', \n",
    "                        bands = bands,\n",
    "                        verbose = False,\n",
    "                        notch = True)\n",
    "    np.save(f'npy_data_all_separate/data_part{i+1}.npy', epochs)\n",
    "    np.save(f'npy_data_all_separate/class_part{i+1}.npy', epochs)\n",
    "    print(\"DONE, PARTICIPANT: \" + participant)\n",
    "print(\"FINISHED\")"
   ]
  },
  {
   "cell_type": "code",
   "execution_count": null,
   "metadata": {},
   "outputs": [],
   "source": []
  }
 ],
 "metadata": {
  "kernelspec": {
   "display_name": "Python 3",
   "language": "python",
   "name": "python3"
  },
  "language_info": {
   "codemirror_mode": {
    "name": "ipython",
    "version": 3
   },
   "file_extension": ".py",
   "mimetype": "text/x-python",
   "name": "python",
   "nbconvert_exporter": "python",
   "pygments_lexer": "ipython3",
   "version": "3.6.10"
  }
 },
 "nbformat": 4,
 "nbformat_minor": 4
}
