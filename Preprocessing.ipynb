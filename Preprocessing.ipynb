{
 "cells": [
  {
   "cell_type": "markdown",
   "metadata": {},
   "source": [
    "# Final data"
   ]
  },
  {
   "cell_type": "code",
   "execution_count": 2,
   "metadata": {},
   "outputs": [],
   "source": [
    "from plots import before_after_plot, plot_mean_welch\n",
    "from get_bads import get_bad_epochs, get_bad_channels\n",
    "from preprocess import preprocess\n",
    "import numpy as np"
   ]
  },
  {
   "cell_type": "code",
   "execution_count": 9,
   "metadata": {},
   "outputs": [
    {
     "name": "stdout",
     "output_type": "stream",
     "text": [
      "DONE, PARTICIPANT: k8\n",
      "DONE, PARTICIPANT: k10\n",
      "DONE, PARTICIPANT: k16\n",
      "SAVED PACKAGE, NUMBER: 2\n",
      "DONE, PARTICIPANT: k3\n",
      "DONE, PARTICIPANT: k12\n",
      "DONE, PARTICIPANT: k6\n",
      "SAVED PACKAGE, NUMBER: 5\n",
      "DONE, PARTICIPANT: k13\n",
      "DONE, PARTICIPANT: k5\n",
      "DONE, PARTICIPANT: k18\n",
      "SAVED PACKAGE, NUMBER: 8\n",
      "DONE, PARTICIPANT: k11\n",
      "DONE, PARTICIPANT: k15\n",
      "DONE, PARTICIPANT: k7\n",
      "SAVED PACKAGE, NUMBER: 11\n",
      "DONE, PARTICIPANT: k4\n",
      "DONE, PARTICIPANT: k14\n",
      "DONE, PARTICIPANT: k9\n",
      "SAVED PACKAGE, NUMBER: 14\n",
      "FINISHED\n"
     ]
    }
   ],
   "source": [
    "bands = [(0.5,4), (4,9), (9,14), (14,30), (30,49)]\n",
    "band_names = ('delta','theta','alpha','beta','gamma')\n",
    "\n",
    "participants = ['k'+str(i) for i in range(1,19)]\n",
    "# participants.extend(['m'+str(i) for i in range(1,19)])\n",
    "participants.pop(0)\n",
    "participants.pop(0)\n",
    "participants.pop(14)\n",
    "package = np.empty((5,0,19,77))\n",
    "epo_class = np.empty((0))\n",
    "np.random.shuffle(participants)\n",
    "# ind_stop = (7,12,17,22,27,32)\n",
    "ind_stop = (2,5,8,11,14,17)\n",
    "\n",
    "np.save('participants.npy', participants)    \n",
    "\n",
    "for i in range(len(participants)):\n",
    "    fs, epochs, channels, y = preprocess('./data2/'+participants[i]+'.set', \n",
    "                        fmin = 0.5, fmax = 49, \n",
    "                        method = 'iir', \n",
    "                        down_fs = 256, \n",
    "                        tmin = -0.2, tmax = 1, \n",
    "                        exclude_ratio = 2, \n",
    "                        method_bands = 'iir', \n",
    "                        bands = bands,\n",
    "                        verbose = False,\n",
    "                        notch = True)\n",
    "    package = np.concatenate((package, epochs), axis = 1)\n",
    "    epo_class = np.concatenate((epo_class, y))\n",
    "    print(\"DONE, PARTICIPANT: \" + participants[i])\n",
    "    if i in ind_stop:\n",
    "        np.save('data_no'+str(i+1)+'.npy', package)\n",
    "        np.save('class_no'+str(i+1)+'.npy', epo_class)\n",
    "        package = np.empty((5,0,19,77))\n",
    "        epo_class = np.empty((0))\n",
    "        print(\"SAVED PACKAGE, NUMBER: \" + str(i))\n",
    "np.save('channels.npy', np.array(channels))    \n",
    "print(\"FINISHED\")"
   ]
  }
 ],
 "metadata": {
  "kernelspec": {
   "display_name": "Python 3",
   "language": "python",
   "name": "python3"
  },
  "language_info": {
   "codemirror_mode": {
    "name": "ipython",
    "version": 3
   },
   "file_extension": ".py",
   "mimetype": "text/x-python",
   "name": "python",
   "nbconvert_exporter": "python",
   "pygments_lexer": "ipython3",
   "version": "3.6.10"
  }
 },
 "nbformat": 4,
 "nbformat_minor": 4
}
